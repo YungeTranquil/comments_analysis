{
 "cells": [
  {
   "cell_type": "code",
   "execution_count": 9,
   "id": "b1cafe02-967c-4124-8f54-6eca440daae6",
   "metadata": {},
   "outputs": [],
   "source": [
    "import pandas as pd\n",
    "import re\n",
    "import os\n",
    "import json"
   ]
  },
  {
   "cell_type": "code",
   "execution_count": 10,
   "id": "c4ac8c99-7033-4201-9dd2-bb336e77be29",
   "metadata": {},
   "outputs": [],
   "source": [
    "country = \"us\"\n",
    "\n",
    "data = pd.read_csv(f\"data/amazon_{country}_2403.csv\")\n",
    "\n",
    "data[\"rate\"] = data[\"rate\"].apply(lambda x:x[:3])\n",
    "data[\"rate_number\"] = data[\"rate_number\"].apply(lambda x: re.findall(r'[\\d,]+', x)[0])\n",
    "data[\"nav_first\"] = data[\"nav\"].apply(lambda x: str(x).split(\"›\")[0])\n",
    "data[\"nav_last\"] = data[\"nav\"].apply(lambda x: str(x).split(\"›\")[-1])\n",
    "data.sort_values(by=\"index\",inplace=True)\n",
    "\n",
    "semrush = pd.read_csv(f\"data/amazon_semrush_{country}_2403.csv\")\n",
    "semrush[\"index\"] = semrush.index\n",
    "semrush_subset = semrush[[\"index\",\"URL\",\"Number of Keywords\",\"Traffic\",\"Traffic Change\"]]\n",
    "\n",
    "output = pd.merge(data,semrush_subset,how=\"left\",on=\"index\")\n",
    "\n",
    "output[['index', 'URL', 'Traffic','title', 'rate', 'rate_number', 'sold_number',\n",
    "       'description', 'rate_dist', 'ai_comment', 'keyword_comments', 'symbol','price','nav', 'nav_first', 'nav_last',\n",
    "         'Number of Keywords', \n",
    "       'Traffic Change']].to_clipboard()\n",
    "\n",
    "right_url = output[\"URL\"].to_list()\n",
    "download_index = [int((re.findall(r\"[\\d]+\",file)[0])) for file in os.listdir(f\"data/amazon_html/{country}\") if file.endswith(\"html\")]\n",
    "download_url = semrush.loc[download_index][\"URL\"].to_list()\n",
    "black_list = list(set(download_url).difference(set(right_url)))\n",
    "black_name = [re.findall(r\"com/.+/dp\",url)[0][4:-3] for url in black_list]\n",
    "with open(\"data/black_list.json\",\"w\") as file:\n",
    "    file.write(json.dumps(black_name))"
   ]
  },
  {
   "cell_type": "code",
   "execution_count": 14,
   "id": "b656a14e-96a1-4ce5-9aca-51a21a933fc6",
   "metadata": {},
   "outputs": [],
   "source": [
    "output[\"nav_first\"].value_counts().to_clipboard()"
   ]
  },
  {
   "cell_type": "code",
   "execution_count": 15,
   "id": "aa63293a-287e-47a9-a91f-8c373d8ec9cb",
   "metadata": {},
   "outputs": [],
   "source": [
    "cat_selection = [\"Home & Kitchen\",\n",
    "\"Clothing, Shoes & Jewelry\",\n",
    "\"Beauty & Personal Care\",\n",
    "\"Electronics\",\n",
    "\"Toys & Games\"]"
   ]
  },
  {
   "cell_type": "code",
   "execution_count": 22,
   "id": "8a9e1a55-70fa-4fad-926b-b770742b978c",
   "metadata": {},
   "outputs": [
    {
     "data": {
      "text/plain": [
       "0                             nan\n",
       "1                   Toys & Games \n",
       "2                             nan\n",
       "3                Office Products \n",
       "4                Office Products \n",
       "                  ...            \n",
       "703           Health & Household \n",
       "704                  Video Games \n",
       "705    Cell Phones & Accessories \n",
       "706       Beauty & Personal Care \n",
       "707                  Video Games \n",
       "Name: nav_first, Length: 708, dtype: object"
      ]
     },
     "execution_count": 22,
     "metadata": {},
     "output_type": "execute_result"
    }
   ],
   "source": [
    "output[\"nav_first\"]"
   ]
  },
  {
   "cell_type": "code",
   "execution_count": 21,
   "id": "05b45bb4-3fbb-4b7e-9142-0e8bacfe15aa",
   "metadata": {},
   "outputs": [
    {
     "data": {
      "text/html": [
       "<div>\n",
       "<style scoped>\n",
       "    .dataframe tbody tr th:only-of-type {\n",
       "        vertical-align: middle;\n",
       "    }\n",
       "\n",
       "    .dataframe tbody tr th {\n",
       "        vertical-align: top;\n",
       "    }\n",
       "\n",
       "    .dataframe thead th {\n",
       "        text-align: right;\n",
       "    }\n",
       "</style>\n",
       "<table border=\"1\" class=\"dataframe\">\n",
       "  <thead>\n",
       "    <tr style=\"text-align: right;\">\n",
       "      <th></th>\n",
       "      <th>Unnamed: 0</th>\n",
       "      <th>title</th>\n",
       "      <th>rate</th>\n",
       "      <th>rate_number</th>\n",
       "      <th>sold_number</th>\n",
       "      <th>description</th>\n",
       "      <th>rate_dist</th>\n",
       "      <th>ai_comment</th>\n",
       "      <th>keyword_comments</th>\n",
       "      <th>nav</th>\n",
       "      <th>symbol</th>\n",
       "      <th>price</th>\n",
       "      <th>user_reviews</th>\n",
       "      <th>index</th>\n",
       "      <th>nav_first</th>\n",
       "      <th>nav_last</th>\n",
       "      <th>URL</th>\n",
       "      <th>Number of Keywords</th>\n",
       "      <th>Traffic</th>\n",
       "      <th>Traffic Change</th>\n",
       "    </tr>\n",
       "  </thead>\n",
       "  <tbody>\n",
       "  </tbody>\n",
       "</table>\n",
       "</div>"
      ],
      "text/plain": [
       "Empty DataFrame\n",
       "Columns: [Unnamed: 0, title, rate, rate_number, sold_number, description, rate_dist, ai_comment, keyword_comments, nav, symbol, price, user_reviews, index, nav_first, nav_last, URL, Number of Keywords, Traffic, Traffic Change]\n",
       "Index: []"
      ]
     },
     "execution_count": 21,
     "metadata": {},
     "output_type": "execute_result"
    }
   ],
   "source": [
    "output[(output[\"nav_first\"]==cat_selection[0])]"
   ]
  },
  {
   "cell_type": "code",
   "execution_count": 23,
   "id": "d26b453c-51ce-49c0-9276-0d99b05d02a5",
   "metadata": {},
   "outputs": [],
   "source": [
    "from playwright.sync_api import sync_playwright"
   ]
  },
  {
   "cell_type": "code",
   "execution_count": 27,
   "id": "65cbcd29-27de-4f10-aac6-4d8ff63f8921",
   "metadata": {},
   "outputs": [],
   "source": [
    "pd.read_csv(\"data/gift_list.csv\").to_clipboard()"
   ]
  }
 ],
 "metadata": {
  "kernelspec": {
   "display_name": "Python 3 (ipykernel)",
   "language": "python",
   "name": "python3"
  },
  "language_info": {
   "codemirror_mode": {
    "name": "ipython",
    "version": 3
   },
   "file_extension": ".py",
   "mimetype": "text/x-python",
   "name": "python",
   "nbconvert_exporter": "python",
   "pygments_lexer": "ipython3",
   "version": "3.11.5"
  }
 },
 "nbformat": 4,
 "nbformat_minor": 5
}
