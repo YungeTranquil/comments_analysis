{
 "cells": [
  {
   "cell_type": "code",
   "execution_count": 19,
   "id": "a8662f42",
   "metadata": {
    "ExecuteTime": {
     "end_time": "2024-03-03T04:09:04.162281Z",
     "start_time": "2024-03-03T04:09:04.160323Z"
    }
   },
   "outputs": [],
   "source": []
  },
  {
   "cell_type": "code",
   "execution_count": 21,
   "id": "d3e7ce24",
   "metadata": {
    "ExecuteTime": {
     "end_time": "2024-03-03T04:09:43.815344Z",
     "start_time": "2024-03-03T04:09:40.324408Z"
    }
   },
   "outputs": [
    {
     "ename": "ElementNotInteractableException",
     "evalue": "Message: element not interactable\n  (Session info: chrome=122.0.6261.95)\nStacktrace:\n\tGetHandleVerifier [0x00007FF61747AD22+56930]\n\t(No symbol) [0x00007FF6173EF622]\n\t(No symbol) [0x00007FF6172A419D]\n\t(No symbol) [0x00007FF6172EACA2]\n\t(No symbol) [0x00007FF6172DF798]\n\t(No symbol) [0x00007FF61730BC9A]\n\t(No symbol) [0x00007FF6172DF09A]\n\t(No symbol) [0x00007FF61730BEB0]\n\t(No symbol) [0x00007FF6173281E2]\n\t(No symbol) [0x00007FF61730BA43]\n\t(No symbol) [0x00007FF6172DD438]\n\t(No symbol) [0x00007FF6172DE4D1]\n\tGetHandleVerifier [0x00007FF6177F6AAD+3709933]\n\tGetHandleVerifier [0x00007FF61784FFED+4075821]\n\tGetHandleVerifier [0x00007FF61784817F+4043455]\n\tGetHandleVerifier [0x00007FF617519756+706710]\n\t(No symbol) [0x00007FF6173FB8FF]\n\t(No symbol) [0x00007FF6173F6AE4]\n\t(No symbol) [0x00007FF6173F6C3C]\n\t(No symbol) [0x00007FF6173E68F4]\n\tBaseThreadInitThunk [0x00007FF810FF257D+29]\n\tRtlUserThreadStart [0x00007FF81292AA58+40]\n",
     "output_type": "error",
     "traceback": [
      "\u001b[1;31m---------------------------------------------------------------------------\u001b[0m",
      "\u001b[1;31mElementNotInteractableException\u001b[0m           Traceback (most recent call last)",
      "Cell \u001b[1;32mIn[21], line 6\u001b[0m\n\u001b[0;32m      4\u001b[0m browser\u001b[38;5;241m.\u001b[39mget(\u001b[38;5;124m'\u001b[39m\u001b[38;5;124mhttps://www.google.com/\u001b[39m\u001b[38;5;124m'\u001b[39m)\n\u001b[0;32m      5\u001b[0m browser\u001b[38;5;241m.\u001b[39mfind_element(\u001b[38;5;124m\"\u001b[39m\u001b[38;5;124mname\u001b[39m\u001b[38;5;124m\"\u001b[39m,\u001b[38;5;124m\"\u001b[39m\u001b[38;5;124mq\u001b[39m\u001b[38;5;124m\"\u001b[39m)\u001b[38;5;241m.\u001b[39msend_keys(\u001b[38;5;124m\"\u001b[39m\u001b[38;5;124mElon Musk Birthday\u001b[39m\u001b[38;5;124m\"\u001b[39m)\n\u001b[1;32m----> 6\u001b[0m browser\u001b[38;5;241m.\u001b[39mfind_element(\u001b[38;5;124m\"\u001b[39m\u001b[38;5;124mname\u001b[39m\u001b[38;5;124m\"\u001b[39m,\u001b[38;5;124m\"\u001b[39m\u001b[38;5;124mbtnK\u001b[39m\u001b[38;5;124m\"\u001b[39m)\u001b[38;5;241m.\u001b[39mclick()\n",
      "File \u001b[1;32m~\\anaconda3\\Lib\\site-packages\\selenium\\webdriver\\remote\\webelement.py:94\u001b[0m, in \u001b[0;36mWebElement.click\u001b[1;34m(self)\u001b[0m\n\u001b[0;32m     92\u001b[0m \u001b[38;5;28;01mdef\u001b[39;00m \u001b[38;5;21mclick\u001b[39m(\u001b[38;5;28mself\u001b[39m) \u001b[38;5;241m-\u001b[39m\u001b[38;5;241m>\u001b[39m \u001b[38;5;28;01mNone\u001b[39;00m:\n\u001b[0;32m     93\u001b[0m \u001b[38;5;250m    \u001b[39m\u001b[38;5;124;03m\"\"\"Clicks the element.\"\"\"\u001b[39;00m\n\u001b[1;32m---> 94\u001b[0m     \u001b[38;5;28mself\u001b[39m\u001b[38;5;241m.\u001b[39m_execute(Command\u001b[38;5;241m.\u001b[39mCLICK_ELEMENT)\n",
      "File \u001b[1;32m~\\anaconda3\\Lib\\site-packages\\selenium\\webdriver\\remote\\webelement.py:395\u001b[0m, in \u001b[0;36mWebElement._execute\u001b[1;34m(self, command, params)\u001b[0m\n\u001b[0;32m    393\u001b[0m     params \u001b[38;5;241m=\u001b[39m {}\n\u001b[0;32m    394\u001b[0m params[\u001b[38;5;124m\"\u001b[39m\u001b[38;5;124mid\u001b[39m\u001b[38;5;124m\"\u001b[39m] \u001b[38;5;241m=\u001b[39m \u001b[38;5;28mself\u001b[39m\u001b[38;5;241m.\u001b[39m_id\n\u001b[1;32m--> 395\u001b[0m \u001b[38;5;28;01mreturn\u001b[39;00m \u001b[38;5;28mself\u001b[39m\u001b[38;5;241m.\u001b[39m_parent\u001b[38;5;241m.\u001b[39mexecute(command, params)\n",
      "File \u001b[1;32m~\\anaconda3\\Lib\\site-packages\\selenium\\webdriver\\remote\\webdriver.py:347\u001b[0m, in \u001b[0;36mWebDriver.execute\u001b[1;34m(self, driver_command, params)\u001b[0m\n\u001b[0;32m    345\u001b[0m response \u001b[38;5;241m=\u001b[39m \u001b[38;5;28mself\u001b[39m\u001b[38;5;241m.\u001b[39mcommand_executor\u001b[38;5;241m.\u001b[39mexecute(driver_command, params)\n\u001b[0;32m    346\u001b[0m \u001b[38;5;28;01mif\u001b[39;00m response:\n\u001b[1;32m--> 347\u001b[0m     \u001b[38;5;28mself\u001b[39m\u001b[38;5;241m.\u001b[39merror_handler\u001b[38;5;241m.\u001b[39mcheck_response(response)\n\u001b[0;32m    348\u001b[0m     response[\u001b[38;5;124m\"\u001b[39m\u001b[38;5;124mvalue\u001b[39m\u001b[38;5;124m\"\u001b[39m] \u001b[38;5;241m=\u001b[39m \u001b[38;5;28mself\u001b[39m\u001b[38;5;241m.\u001b[39m_unwrap_value(response\u001b[38;5;241m.\u001b[39mget(\u001b[38;5;124m\"\u001b[39m\u001b[38;5;124mvalue\u001b[39m\u001b[38;5;124m\"\u001b[39m, \u001b[38;5;28;01mNone\u001b[39;00m))\n\u001b[0;32m    349\u001b[0m     \u001b[38;5;28;01mreturn\u001b[39;00m response\n",
      "File \u001b[1;32m~\\anaconda3\\Lib\\site-packages\\selenium\\webdriver\\remote\\errorhandler.py:229\u001b[0m, in \u001b[0;36mErrorHandler.check_response\u001b[1;34m(self, response)\u001b[0m\n\u001b[0;32m    227\u001b[0m         alert_text \u001b[38;5;241m=\u001b[39m value[\u001b[38;5;124m\"\u001b[39m\u001b[38;5;124malert\u001b[39m\u001b[38;5;124m\"\u001b[39m]\u001b[38;5;241m.\u001b[39mget(\u001b[38;5;124m\"\u001b[39m\u001b[38;5;124mtext\u001b[39m\u001b[38;5;124m\"\u001b[39m)\n\u001b[0;32m    228\u001b[0m     \u001b[38;5;28;01mraise\u001b[39;00m exception_class(message, screen, stacktrace, alert_text)  \u001b[38;5;66;03m# type: ignore[call-arg]  # mypy is not smart enough here\u001b[39;00m\n\u001b[1;32m--> 229\u001b[0m \u001b[38;5;28;01mraise\u001b[39;00m exception_class(message, screen, stacktrace)\n",
      "\u001b[1;31mElementNotInteractableException\u001b[0m: Message: element not interactable\n  (Session info: chrome=122.0.6261.95)\nStacktrace:\n\tGetHandleVerifier [0x00007FF61747AD22+56930]\n\t(No symbol) [0x00007FF6173EF622]\n\t(No symbol) [0x00007FF6172A419D]\n\t(No symbol) [0x00007FF6172EACA2]\n\t(No symbol) [0x00007FF6172DF798]\n\t(No symbol) [0x00007FF61730BC9A]\n\t(No symbol) [0x00007FF6172DF09A]\n\t(No symbol) [0x00007FF61730BEB0]\n\t(No symbol) [0x00007FF6173281E2]\n\t(No symbol) [0x00007FF61730BA43]\n\t(No symbol) [0x00007FF6172DD438]\n\t(No symbol) [0x00007FF6172DE4D1]\n\tGetHandleVerifier [0x00007FF6177F6AAD+3709933]\n\tGetHandleVerifier [0x00007FF61784FFED+4075821]\n\tGetHandleVerifier [0x00007FF61784817F+4043455]\n\tGetHandleVerifier [0x00007FF617519756+706710]\n\t(No symbol) [0x00007FF6173FB8FF]\n\t(No symbol) [0x00007FF6173F6AE4]\n\t(No symbol) [0x00007FF6173F6C3C]\n\t(No symbol) [0x00007FF6173E68F4]\n\tBaseThreadInitThunk [0x00007FF810FF257D+29]\n\tRtlUserThreadStart [0x00007FF81292AA58+40]\n"
     ]
    }
   ],
   "source": [
    "from selenium import webdriver\n",
    " \n",
    "browser = webdriver.Chrome()\n",
    "browser.get('https://www.google.com/')\n",
    "browser.find_element(\"name\",\"q\").send_keys(\"Elon Musk Birthday\")\n",
    "browser.find_element(\"name\",\"btnK\").click()"
   ]
  },
  {
   "cell_type": "code",
   "execution_count": 22,
   "id": "cca2ba9b",
   "metadata": {
    "ExecuteTime": {
     "end_time": "2024-03-03T04:10:25.637920Z",
     "start_time": "2024-03-03T04:10:22.607647Z"
    }
   },
   "outputs": [],
   "source": [
    "browser.find_element(\"name\",\"btnK\").click()"
   ]
  },
  {
   "cell_type": "code",
   "execution_count": 24,
   "id": "ad4234a9",
   "metadata": {
    "ExecuteTime": {
     "end_time": "2024-03-03T04:10:57.793264Z",
     "start_time": "2024-03-03T04:10:57.791149Z"
    }
   },
   "outputs": [],
   "source": [
    "from bs4 import BeautifulSoup"
   ]
  },
  {
   "cell_type": "code",
   "execution_count": 26,
   "id": "5ddf79df",
   "metadata": {
    "ExecuteTime": {
     "end_time": "2024-03-03T04:11:46.730169Z",
     "start_time": "2024-03-03T04:11:46.639410Z"
    }
   },
   "outputs": [],
   "source": [
    "result = BeautifulSoup(browser.page_source)"
   ]
  },
  {
   "cell_type": "code",
   "execution_count": 33,
   "id": "ab22ec9c",
   "metadata": {
    "ExecuteTime": {
     "end_time": "2024-03-03T04:15:05.682516Z",
     "start_time": "2024-03-03T04:15:05.675544Z"
    }
   },
   "outputs": [
    {
     "data": {
      "text/plain": [
       "' 伊隆·馬斯克/出生日期1971 年 6 月 28 日（52\\xa0岁)Elon Reeve Musk (/ˈiːlɒn/; EE-lon; born June 28, 1971) is a businessman and investor.Elon Musk - WikipediaWikipediahttps://en.wikipedia.org › wiki › Elon_MuskWikipediahttps://en.wikipedia.org › wiki › Elon_Musk用户还搜索了泰露拉·李利1985 年 9 月 26 日傑夫·貝佐斯1964 年 1 月 12 日薇薇安·詹娜·威爾森2004 年 选择您要针对哪个元素提供反馈您也可以提供总体情况反馈'"
      ]
     },
     "execution_count": 33,
     "metadata": {},
     "output_type": "execute_result"
    }
   ],
   "source": [
    "result.find_all(\"div\",attrs={\"class\":\"WC0BKe\"})[0].text"
   ]
  },
  {
   "cell_type": "code",
   "execution_count": 35,
   "id": "a5f5f5ba",
   "metadata": {
    "ExecuteTime": {
     "end_time": "2024-03-03T04:37:11.955258Z",
     "start_time": "2024-03-03T04:37:11.931940Z"
    }
   },
   "outputs": [
    {
     "ename": "NoSuchWindowException",
     "evalue": "Message: no such window: target window already closed\nfrom unknown error: web view not found\n  (Session info: chrome=122.0.6261.95)\nStacktrace:\n\tGetHandleVerifier [0x00007FF61747AD22+56930]\n\t(No symbol) [0x00007FF6173EF622]\n\t(No symbol) [0x00007FF6172A42E5]\n\t(No symbol) [0x00007FF617281D4C]\n\t(No symbol) [0x00007FF6173123F7]\n\t(No symbol) [0x00007FF617318942]\n\t(No symbol) [0x00007FF61730BC60]\n\t(No symbol) [0x00007FF6172DD438]\n\t(No symbol) [0x00007FF6172DE4D1]\n\tGetHandleVerifier [0x00007FF6177F6AAD+3709933]\n\tGetHandleVerifier [0x00007FF61784FFED+4075821]\n\tGetHandleVerifier [0x00007FF61784817F+4043455]\n\tGetHandleVerifier [0x00007FF617519756+706710]\n\t(No symbol) [0x00007FF6173FB8FF]\n\t(No symbol) [0x00007FF6173F6AE4]\n\t(No symbol) [0x00007FF6173F6C3C]\n\t(No symbol) [0x00007FF6173E68F4]\n\tBaseThreadInitThunk [0x00007FF810FF257D+29]\n\tRtlUserThreadStart [0x00007FF81292AA58+40]\n",
     "output_type": "error",
     "traceback": [
      "\u001b[1;31m---------------------------------------------------------------------------\u001b[0m",
      "\u001b[1;31mNoSuchWindowException\u001b[0m                     Traceback (most recent call last)",
      "Cell \u001b[1;32mIn[35], line 1\u001b[0m\n\u001b[1;32m----> 1\u001b[0m browser\u001b[38;5;241m.\u001b[39mclose()\n",
      "File \u001b[1;32m~\\anaconda3\\Lib\\site-packages\\selenium\\webdriver\\remote\\webdriver.py:458\u001b[0m, in \u001b[0;36mWebDriver.close\u001b[1;34m(self)\u001b[0m\n\u001b[0;32m    450\u001b[0m \u001b[38;5;28;01mdef\u001b[39;00m \u001b[38;5;21mclose\u001b[39m(\u001b[38;5;28mself\u001b[39m) \u001b[38;5;241m-\u001b[39m\u001b[38;5;241m>\u001b[39m \u001b[38;5;28;01mNone\u001b[39;00m:\n\u001b[0;32m    451\u001b[0m \u001b[38;5;250m    \u001b[39m\u001b[38;5;124;03m\"\"\"Closes the current window.\u001b[39;00m\n\u001b[0;32m    452\u001b[0m \n\u001b[0;32m    453\u001b[0m \u001b[38;5;124;03m    :Usage:\u001b[39;00m\n\u001b[1;32m   (...)\u001b[0m\n\u001b[0;32m    456\u001b[0m \u001b[38;5;124;03m            driver.close()\u001b[39;00m\n\u001b[0;32m    457\u001b[0m \u001b[38;5;124;03m    \"\"\"\u001b[39;00m\n\u001b[1;32m--> 458\u001b[0m     \u001b[38;5;28mself\u001b[39m\u001b[38;5;241m.\u001b[39mexecute(Command\u001b[38;5;241m.\u001b[39mCLOSE)\n",
      "File \u001b[1;32m~\\anaconda3\\Lib\\site-packages\\selenium\\webdriver\\remote\\webdriver.py:347\u001b[0m, in \u001b[0;36mWebDriver.execute\u001b[1;34m(self, driver_command, params)\u001b[0m\n\u001b[0;32m    345\u001b[0m response \u001b[38;5;241m=\u001b[39m \u001b[38;5;28mself\u001b[39m\u001b[38;5;241m.\u001b[39mcommand_executor\u001b[38;5;241m.\u001b[39mexecute(driver_command, params)\n\u001b[0;32m    346\u001b[0m \u001b[38;5;28;01mif\u001b[39;00m response:\n\u001b[1;32m--> 347\u001b[0m     \u001b[38;5;28mself\u001b[39m\u001b[38;5;241m.\u001b[39merror_handler\u001b[38;5;241m.\u001b[39mcheck_response(response)\n\u001b[0;32m    348\u001b[0m     response[\u001b[38;5;124m\"\u001b[39m\u001b[38;5;124mvalue\u001b[39m\u001b[38;5;124m\"\u001b[39m] \u001b[38;5;241m=\u001b[39m \u001b[38;5;28mself\u001b[39m\u001b[38;5;241m.\u001b[39m_unwrap_value(response\u001b[38;5;241m.\u001b[39mget(\u001b[38;5;124m\"\u001b[39m\u001b[38;5;124mvalue\u001b[39m\u001b[38;5;124m\"\u001b[39m, \u001b[38;5;28;01mNone\u001b[39;00m))\n\u001b[0;32m    349\u001b[0m     \u001b[38;5;28;01mreturn\u001b[39;00m response\n",
      "File \u001b[1;32m~\\anaconda3\\Lib\\site-packages\\selenium\\webdriver\\remote\\errorhandler.py:229\u001b[0m, in \u001b[0;36mErrorHandler.check_response\u001b[1;34m(self, response)\u001b[0m\n\u001b[0;32m    227\u001b[0m         alert_text \u001b[38;5;241m=\u001b[39m value[\u001b[38;5;124m\"\u001b[39m\u001b[38;5;124malert\u001b[39m\u001b[38;5;124m\"\u001b[39m]\u001b[38;5;241m.\u001b[39mget(\u001b[38;5;124m\"\u001b[39m\u001b[38;5;124mtext\u001b[39m\u001b[38;5;124m\"\u001b[39m)\n\u001b[0;32m    228\u001b[0m     \u001b[38;5;28;01mraise\u001b[39;00m exception_class(message, screen, stacktrace, alert_text)  \u001b[38;5;66;03m# type: ignore[call-arg]  # mypy is not smart enough here\u001b[39;00m\n\u001b[1;32m--> 229\u001b[0m \u001b[38;5;28;01mraise\u001b[39;00m exception_class(message, screen, stacktrace)\n",
      "\u001b[1;31mNoSuchWindowException\u001b[0m: Message: no such window: target window already closed\nfrom unknown error: web view not found\n  (Session info: chrome=122.0.6261.95)\nStacktrace:\n\tGetHandleVerifier [0x00007FF61747AD22+56930]\n\t(No symbol) [0x00007FF6173EF622]\n\t(No symbol) [0x00007FF6172A42E5]\n\t(No symbol) [0x00007FF617281D4C]\n\t(No symbol) [0x00007FF6173123F7]\n\t(No symbol) [0x00007FF617318942]\n\t(No symbol) [0x00007FF61730BC60]\n\t(No symbol) [0x00007FF6172DD438]\n\t(No symbol) [0x00007FF6172DE4D1]\n\tGetHandleVerifier [0x00007FF6177F6AAD+3709933]\n\tGetHandleVerifier [0x00007FF61784FFED+4075821]\n\tGetHandleVerifier [0x00007FF61784817F+4043455]\n\tGetHandleVerifier [0x00007FF617519756+706710]\n\t(No symbol) [0x00007FF6173FB8FF]\n\t(No symbol) [0x00007FF6173F6AE4]\n\t(No symbol) [0x00007FF6173F6C3C]\n\t(No symbol) [0x00007FF6173E68F4]\n\tBaseThreadInitThunk [0x00007FF810FF257D+29]\n\tRtlUserThreadStart [0x00007FF81292AA58+40]\n"
     ]
    }
   ],
   "source": [
    "browser.close()"
   ]
  },
  {
   "cell_type": "code",
   "execution_count": 88,
   "id": "be48ccf7",
   "metadata": {
    "ExecuteTime": {
     "end_time": "2024-03-03T14:53:52.220194Z",
     "start_time": "2024-03-03T14:53:52.215462Z"
    }
   },
   "outputs": [],
   "source": [
    "with open(\"output/google/abigail-johnson.html\",\"r\",encoding=\"utf-8\") as file:\n",
    "    result = file.read()"
   ]
  },
  {
   "cell_type": "code",
   "execution_count": 56,
   "id": "96b3d8ee",
   "metadata": {
    "ExecuteTime": {
     "end_time": "2024-03-03T14:31:45.936301Z",
     "start_time": "2024-03-03T14:31:45.933650Z"
    }
   },
   "outputs": [],
   "source": [
    "from bs4 import BeautifulSoup\n",
    "import re"
   ]
  },
  {
   "cell_type": "code",
   "execution_count": 75,
   "id": "18c3d359",
   "metadata": {
    "ExecuteTime": {
     "end_time": "2024-03-03T14:42:36.903537Z",
     "start_time": "2024-03-03T14:42:36.872897Z"
    }
   },
   "outputs": [],
   "source": [
    "result = BeautifulSoup(result)\n",
    "result = result.find_all(attrs={\"lang\":\"en\"})"
   ]
  },
  {
   "cell_type": "code",
   "execution_count": 90,
   "id": "5628771c",
   "metadata": {
    "ExecuteTime": {
     "end_time": "2024-03-03T14:54:58.508889Z",
     "start_time": "2024-03-03T14:54:58.478691Z"
    }
   },
   "outputs": [],
   "source": [
    "result = BeautifulSoup(result)\n",
    "birth_result = result.find_all(attrs={\"data-attrid\":\"kc:/people/person:date of birth\"})"
   ]
  },
  {
   "cell_type": "code",
   "execution_count": 95,
   "id": "12d69e25",
   "metadata": {
    "ExecuteTime": {
     "end_time": "2024-03-03T14:55:20.990337Z",
     "start_time": "2024-03-03T14:55:20.986851Z"
    }
   },
   "outputs": [
    {
     "data": {
      "text/plain": [
       "'1961 年 12 月 19 日（62\\xa0岁)'"
      ]
     },
     "execution_count": 95,
     "metadata": {},
     "output_type": "execute_result"
    }
   ],
   "source": [
    "birth_result[0].text"
   ]
  },
  {
   "cell_type": "code",
   "execution_count": 77,
   "id": "4598ed82",
   "metadata": {
    "ExecuteTime": {
     "end_time": "2024-03-03T14:43:02.867039Z",
     "start_time": "2024-03-03T14:43:02.864398Z"
    }
   },
   "outputs": [],
   "source": [
    "pattern=\"\\D19\\d\\d\\D\"\n",
    "text_list = [content.text for content in result if len(re.findall(pattern,content.text))>0]"
   ]
  },
  {
   "cell_type": "code",
   "execution_count": 87,
   "id": "eb6e7e48",
   "metadata": {
    "ExecuteTime": {
     "end_time": "2024-03-03T14:52:40.212843Z",
     "start_time": "2024-03-03T14:52:40.209541Z"
    }
   },
   "outputs": [
    {
     "data": {
      "text/plain": [
       "['AbigailPierrepontJohnson(bornDecember19,1961)isanAmericanbillionairebusinesswoman,andthegranddaughteroflateEdwardC.',\n",
       " 'The\"FidelityFund\"becameFidelityInvestmentsunderEdwardC.JohnsonII;incorporatedinMassachusetts,May1,1930.DuringtheGreatDepression,the\"FidelityFund\"wastheonlyfundapprovedbyJohnC.HullinhisterminofficeasSecuritiesDirectorforMassachusettsbecauseofwidespreadbankfailuresin1930.',\n",
       " 'AbigailJohnsonBiography(Age,Career,NetWorth,&More)EliteBiographieshttps://elitebiographies.com›biography›a...EliteBiographieshttps://elitebiographies.com›biography›a...·翻译此页BornonDecember19,1961,inBoston,Massachusetts,AbigailJohnsonisthegranddaughterofEdwardC.JohnsonII,thefounderofFidelityInvestments.Her...',\n",
       " 'Johnson,AbigailEncyclopedia.comhttps://www.encyclopedia.com›books›joh...Encyclopedia.comhttps://www.encyclopedia.com›books›joh...·翻译此页BornonDecember19,1961,inBoston,AbigailPierrepontJohnsonisdescendedfromanoldBostonBrahminfamilywhoserootsinNewEnglandcommercedatebackto...',\n",
       " 'AbigailJohnsonBiography-Facts,Childhood,FamilyLife...TheFamousPeoplehttps://www.thefamouspeople.com›profilesTheFamousPeoplehttps://www.thefamouspeople.com›profiles·翻译此页AbigailPierrepontJohnsonwasborninDecember19,1961,toEdwardJohnsonIIIandhiswife,ElizabethJohnsoninBoston,MassachusettsU.S.A.Shealongwith...',\n",
       " 'AbigailJohnson:Positions,RelationsandNetworkmarketscreener.comhttps://www.marketscreener.com›insidermarketscreener.comhttps://www.marketscreener.com›insider·翻译此页AbigailPierrepont(Abby)Johnson(bornDecember19,1961)isanAmericanbusinesswoman.JohnsonisPresidentofFidelityInvestmentsPersonalandWorkplace...',\n",
       " 'AbigailJohnson-BloombergBillionairesIndexBloomberghttps://www.bloomberg.com›profiles›abi...Bloomberghttps://www.bloomberg.com›profiles›abi...·翻译此页1961AbigailPierrepontJohnsonisborn.;1977GrandfatherEdwardC.JohnsonIIretiresfromFidelity.;1984GraduatesfromHobartandWilliamSmithColleges.',\n",
       " 'AbigailJohnsonWikiwandhttps://www.wikiwand.com›Abigail_John...Wikiwandhttps://www.wikiwand.com›Abigail_John...·翻译此页AbigailPierrepontJohnson.(1961-12-19)December19,1961(age62).Boston,Massachusetts,US·WilliamSmithCollege(BA)HarvardUniversity(MBA).',\n",
       " 'StoryofAbigailP.Johnson:OneofTheRichestFemale...Growwhttps://groww.in›Blog›learnGrowwhttps://groww.in›Blog›learn·翻译此页2023年4月3日—Age.57years;DateofBirth.19thDecember1961;Residence.Boston,Massachusetts,U.S.;Citizenship.American;Occupation.CEOandPresident...']"
      ]
     },
     "execution_count": 87,
     "metadata": {},
     "output_type": "execute_result"
    }
   ],
   "source": [
    "pattern_2 = \"\\D19\\d\\d\\D\"\n",
    "[\"\".join(text.split()) for text in text_list]"
   ]
  },
  {
   "cell_type": "code",
   "execution_count": 86,
   "id": "2645b308",
   "metadata": {
    "ExecuteTime": {
     "end_time": "2024-03-03T14:51:59.137849Z",
     "start_time": "2024-03-03T14:51:59.135345Z"
    }
   },
   "outputs": [
    {
     "data": {
      "text/plain": [
       "'fddfdfdfdffd'"
      ]
     },
     "execution_count": 86,
     "metadata": {},
     "output_type": "execute_result"
    }
   ],
   "source": [
    "\"\".join(text.split())"
   ]
  },
  {
   "cell_type": "code",
   "execution_count": null,
   "id": "d6711268-ce92-4107-a810-609aa8f0fe83",
   "metadata": {},
   "outputs": [],
   "source": []
  },
  {
   "cell_type": "code",
   "execution_count": 1,
   "id": "610bfeb5-a539-4aad-bb15-5019376db8e7",
   "metadata": {},
   "outputs": [],
   "source": [
    "import os\n",
    "import sys\n",
    "import time\n",
    "import json\n",
    "import requests\n",
    "\n",
    "import numpy as np\n",
    "import pandas as pd\n",
    "from tqdm import tqdm\n",
    "\n",
    "from urllib.parse import urlparse, urlunparse\n",
    "from sqlalchemy import create_engine\n",
    "\n",
    "from selenium import webdriver\n",
    "from selenium.webdriver.common.by import By\n",
    "from selenium.webdriver.common.keys import Keys\n",
    "from selenium.webdriver.chrome.options import Options\n",
    "from bs4 import BeautifulSoup\n",
    "\n",
    "def fetchUrl(url,cookies=None):\n",
    "    \"\"\"\n",
    "    Fetches content from a URL using a GET request with custom User-Agent and cookies.\n",
    "    \n",
    "    :param url: URL to fetch.\n",
    "    :param headers: Dictionary of headers, with 'User-Agent' if needed.\n",
    "    :param cookies: Dictionary of cookies.\n",
    "    :return: Response object from requests.\n",
    "    \"\"\"\n",
    "    # Ensure headers and cookies are dictionaries, if not provided, initialize as empty dicts\n",
    "    user_agent = \"Mozilla/5.0 (Windows NT 10.0; Win64; x64) AppleWebKit/537.36 (KHTML, like Gecko) Chrome/58.0.3029.110 Safari/537.3\"\n",
    "    headers = {\"User-Agent\": user_agent}\n",
    "    if cookies is None:\n",
    "        cookies = {}\n",
    "    \n",
    "    # Perform the GET request\n",
    "    response = requests.get(url, headers=headers, cookies=cookies)\n",
    "    \n",
    "    return response"
   ]
  },
  {
   "cell_type": "code",
   "execution_count": 2,
   "id": "6679dff5-da48-4352-8cc4-5ffee7287e33",
   "metadata": {},
   "outputs": [
    {
     "data": {
      "text/plain": [
       "<Response [400]>"
      ]
     },
     "execution_count": 2,
     "metadata": {},
     "output_type": "execute_result"
    }
   ],
   "source": [
    "fetchUrl(\"https://itunes.apple.com/us/rss/customerreviews/page=15/id=352683833/sortby=mostrecent/xml\")"
   ]
  },
  {
   "cell_type": "code",
   "execution_count": 5,
   "id": "5fb53b7e-801b-4b1c-9a94-1f6d0ea8f7dc",
   "metadata": {},
   "outputs": [
    {
     "data": {
      "text/plain": [
       "\u001b[1;31mInit signature:\u001b[0m\n",
       "\u001b[0mAppStore\u001b[0m\u001b[1;33m(\u001b[0m\u001b[1;33m\n",
       "\u001b[0m    \u001b[0mcountry\u001b[0m\u001b[1;33m,\u001b[0m\u001b[1;33m\n",
       "\u001b[0m    \u001b[0mapp_name\u001b[0m\u001b[1;33m,\u001b[0m\u001b[1;33m\n",
       "\u001b[0m    \u001b[0mapp_id\u001b[0m\u001b[1;33m=\u001b[0m\u001b[1;32mNone\u001b[0m\u001b[1;33m,\u001b[0m\u001b[1;33m\n",
       "\u001b[0m    \u001b[0mlog_format\u001b[0m\u001b[1;33m=\u001b[0m\u001b[1;34m'%(asctime)s [%(levelname)s] %(name)s - %(message)s'\u001b[0m\u001b[1;33m,\u001b[0m\u001b[1;33m\n",
       "\u001b[0m    \u001b[0mlog_level\u001b[0m\u001b[1;33m=\u001b[0m\u001b[1;34m'INFO'\u001b[0m\u001b[1;33m,\u001b[0m\u001b[1;33m\n",
       "\u001b[0m    \u001b[0mlog_interval\u001b[0m\u001b[1;33m=\u001b[0m\u001b[1;36m5\u001b[0m\u001b[1;33m,\u001b[0m\u001b[1;33m\n",
       "\u001b[0m\u001b[1;33m)\u001b[0m\u001b[1;33m\u001b[0m\u001b[1;33m\u001b[0m\u001b[0m\n",
       "\u001b[1;31mDocstring:\u001b[0m      <no docstring>\n",
       "\u001b[1;31mFile:\u001b[0m           c:\\users\\user\\anaconda3\\lib\\site-packages\\app_store_scraper\\app_store.py\n",
       "\u001b[1;31mType:\u001b[0m           type\n",
       "\u001b[1;31mSubclasses:\u001b[0m     "
      ]
     },
     "metadata": {},
     "output_type": "display_data"
    }
   ],
   "source": [
    "AppStore?"
   ]
  },
  {
   "cell_type": "code",
   "execution_count": 10,
   "id": "6f8d72d1-abfa-40e9-96d5-01a09527d8c8",
   "metadata": {},
   "outputs": [
    {
     "data": {
      "text/plain": [
       "\u001b[1;31mSignature:\u001b[0m \u001b[0mminecraft\u001b[0m\u001b[1;33m.\u001b[0m\u001b[0mreview\u001b[0m\u001b[1;33m(\u001b[0m\u001b[0mhow_many\u001b[0m\u001b[1;33m=\u001b[0m\u001b[1;36m9223372036854775807\u001b[0m\u001b[1;33m,\u001b[0m \u001b[0mafter\u001b[0m\u001b[1;33m=\u001b[0m\u001b[1;32mNone\u001b[0m\u001b[1;33m,\u001b[0m \u001b[0msleep\u001b[0m\u001b[1;33m=\u001b[0m\u001b[1;32mNone\u001b[0m\u001b[1;33m)\u001b[0m\u001b[1;33m\u001b[0m\u001b[1;33m\u001b[0m\u001b[0m\n",
       "\u001b[1;31mDocstring:\u001b[0m <no docstring>\n",
       "\u001b[1;31mFile:\u001b[0m      c:\\users\\user\\anaconda3\\lib\\site-packages\\app_store_scraper\\base.py\n",
       "\u001b[1;31mType:\u001b[0m      method"
      ]
     },
     "metadata": {},
     "output_type": "display_data"
    }
   ],
   "source": [
    "minecraft.review?"
   ]
  },
  {
   "cell_type": "code",
   "execution_count": 11,
   "id": "d20c95b5-87f8-4211-8553-c33087761b41",
   "metadata": {},
   "outputs": [
    {
     "data": {
      "text/plain": [
       "\u001b[1;31mSignature:\u001b[0m\n",
       "\u001b[0mpprint\u001b[0m\u001b[1;33m(\u001b[0m\u001b[1;33m\n",
       "\u001b[0m    \u001b[0mobject\u001b[0m\u001b[1;33m,\u001b[0m\u001b[1;33m\n",
       "\u001b[0m    \u001b[0mstream\u001b[0m\u001b[1;33m=\u001b[0m\u001b[1;32mNone\u001b[0m\u001b[1;33m,\u001b[0m\u001b[1;33m\n",
       "\u001b[0m    \u001b[0mindent\u001b[0m\u001b[1;33m=\u001b[0m\u001b[1;36m1\u001b[0m\u001b[1;33m,\u001b[0m\u001b[1;33m\n",
       "\u001b[0m    \u001b[0mwidth\u001b[0m\u001b[1;33m=\u001b[0m\u001b[1;36m80\u001b[0m\u001b[1;33m,\u001b[0m\u001b[1;33m\n",
       "\u001b[0m    \u001b[0mdepth\u001b[0m\u001b[1;33m=\u001b[0m\u001b[1;32mNone\u001b[0m\u001b[1;33m,\u001b[0m\u001b[1;33m\n",
       "\u001b[0m    \u001b[1;33m*\u001b[0m\u001b[1;33m,\u001b[0m\u001b[1;33m\n",
       "\u001b[0m    \u001b[0mcompact\u001b[0m\u001b[1;33m=\u001b[0m\u001b[1;32mFalse\u001b[0m\u001b[1;33m,\u001b[0m\u001b[1;33m\n",
       "\u001b[0m    \u001b[0msort_dicts\u001b[0m\u001b[1;33m=\u001b[0m\u001b[1;32mTrue\u001b[0m\u001b[1;33m,\u001b[0m\u001b[1;33m\n",
       "\u001b[0m    \u001b[0munderscore_numbers\u001b[0m\u001b[1;33m=\u001b[0m\u001b[1;32mFalse\u001b[0m\u001b[1;33m,\u001b[0m\u001b[1;33m\n",
       "\u001b[0m\u001b[1;33m)\u001b[0m\u001b[1;33m\u001b[0m\u001b[1;33m\u001b[0m\u001b[0m\n",
       "\u001b[1;31mDocstring:\u001b[0m Pretty-print a Python object to a stream [default is sys.stdout].\n",
       "\u001b[1;31mFile:\u001b[0m      c:\\users\\user\\anaconda3\\lib\\pprint.py\n",
       "\u001b[1;31mType:\u001b[0m      function"
      ]
     },
     "metadata": {},
     "output_type": "display_data"
    }
   ],
   "source": [
    "pprint?"
   ]
  },
  {
   "cell_type": "code",
   "execution_count": 13,
   "id": "134a827e-a02f-415b-a615-7e9670741017",
   "metadata": {},
   "outputs": [],
   "source": [
    "response = fetchUrl(\"https://www.google.com/search?q=test\")"
   ]
  },
  {
   "cell_type": "code",
   "execution_count": 22,
   "id": "fef3f4de-fe70-47f5-a8e5-8ac95fdcfaba",
   "metadata": {
    "scrolled": true
   },
   "outputs": [
    {
     "name": "stderr",
     "output_type": "stream",
     "text": [
      "2024-04-06 21:48:23,527 [INFO] Base - Initialised: AppStore('us', 'groupon', 352683833)\n",
      "2024-04-06 21:48:23,528 [INFO] Base - Ready to fetch reviews from: https://apps.apple.com/us/app/groupon/id352683833\n",
      "2024-04-06 21:48:29,495 [INFO] Base - [id:352683833] Fetched 20 reviews (20 fetched in total)\n",
      "2024-04-06 21:48:40,983 [INFO] Base - [id:352683833] Fetched 60 reviews (60 fetched in total)\n",
      "2024-04-06 21:48:53,298 [INFO] Base - [id:352683833] Fetched 100 reviews (100 fetched in total)\n",
      "2024-04-06 21:49:06,132 [INFO] Base - [id:352683833] Fetched 140 reviews (140 fetched in total)\n",
      "2024-04-06 21:49:17,633 [INFO] Base - [id:352683833] Fetched 180 reviews (180 fetched in total)\n",
      "2024-04-06 21:49:29,191 [INFO] Base - [id:352683833] Fetched 220 reviews (220 fetched in total)\n",
      "2024-04-06 21:49:40,627 [INFO] Base - [id:352683833] Fetched 260 reviews (260 fetched in total)\n",
      "2024-04-06 21:49:52,710 [INFO] Base - [id:352683833] Fetched 300 reviews (300 fetched in total)\n",
      "2024-04-06 21:50:04,860 [INFO] Base - [id:352683833] Fetched 340 reviews (340 fetched in total)\n",
      "2024-04-06 21:50:16,673 [INFO] Base - [id:352683833] Fetched 380 reviews (380 fetched in total)\n",
      "2024-04-06 21:50:30,357 [INFO] Base - [id:352683833] Fetched 420 reviews (420 fetched in total)\n",
      "2024-04-06 21:50:42,323 [INFO] Base - [id:352683833] Fetched 460 reviews (460 fetched in total)\n",
      "2024-04-06 21:50:55,046 [INFO] Base - [id:352683833] Fetched 500 reviews (500 fetched in total)\n",
      "2024-04-06 21:51:07,149 [INFO] Base - [id:352683833] Fetched 540 reviews (540 fetched in total)\n",
      "2024-04-06 21:51:19,226 [INFO] Base - [id:352683833] Fetched 580 reviews (580 fetched in total)\n",
      "2024-04-06 21:51:31,275 [INFO] Base - [id:352683833] Fetched 620 reviews (620 fetched in total)\n",
      "2024-04-06 21:51:43,620 [INFO] Base - [id:352683833] Fetched 660 reviews (660 fetched in total)\n",
      "2024-04-06 21:51:55,684 [INFO] Base - [id:352683833] Fetched 700 reviews (700 fetched in total)\n",
      "2024-04-06 21:52:09,513 [INFO] Base - [id:352683833] Fetched 740 reviews (740 fetched in total)\n",
      "2024-04-06 21:52:22,025 [INFO] Base - [id:352683833] Fetched 780 reviews (780 fetched in total)\n",
      "2024-04-06 21:52:34,196 [INFO] Base - [id:352683833] Fetched 820 reviews (820 fetched in total)\n",
      "2024-04-06 21:52:46,080 [INFO] Base - [id:352683833] Fetched 860 reviews (860 fetched in total)\n",
      "2024-04-06 21:53:01,767 [INFO] Base - [id:352683833] Fetched 900 reviews (900 fetched in total)\n",
      "2024-04-06 21:53:14,323 [INFO] Base - [id:352683833] Fetched 940 reviews (940 fetched in total)\n",
      "2024-04-06 21:53:26,100 [INFO] Base - [id:352683833] Fetched 980 reviews (980 fetched in total)\n",
      "2024-04-06 21:53:40,023 [INFO] Base - [id:352683833] Fetched 1020 reviews (1020 fetched in total)\n",
      "2024-04-06 21:53:57,508 [INFO] Base - [id:352683833] Fetched 1060 reviews (1060 fetched in total)\n",
      "2024-04-06 21:54:09,648 [INFO] Base - [id:352683833] Fetched 1100 reviews (1100 fetched in total)\n",
      "2024-04-06 21:54:21,077 [INFO] Base - [id:352683833] Fetched 1140 reviews (1140 fetched in total)\n",
      "2024-04-06 21:54:32,596 [INFO] Base - [id:352683833] Fetched 1180 reviews (1180 fetched in total)\n",
      "2024-04-06 21:54:44,105 [INFO] Base - [id:352683833] Fetched 1220 reviews (1220 fetched in total)\n",
      "2024-04-06 21:54:56,138 [INFO] Base - [id:352683833] Fetched 1260 reviews (1260 fetched in total)\n",
      "2024-04-06 21:55:07,652 [INFO] Base - [id:352683833] Fetched 1300 reviews (1300 fetched in total)\n",
      "2024-04-06 21:55:19,431 [INFO] Base - [id:352683833] Fetched 1340 reviews (1340 fetched in total)\n",
      "2024-04-06 21:55:32,608 [INFO] Base - [id:352683833] Fetched 1380 reviews (1380 fetched in total)\n",
      "2024-04-06 21:55:44,274 [INFO] Base - [id:352683833] Fetched 1420 reviews (1420 fetched in total)\n",
      "2024-04-06 21:55:57,425 [INFO] Base - [id:352683833] Fetched 1460 reviews (1460 fetched in total)\n",
      "2024-04-06 21:56:09,741 [INFO] Base - [id:352683833] Fetched 1500 reviews (1500 fetched in total)\n",
      "2024-04-06 21:56:21,872 [INFO] Base - [id:352683833] Fetched 1540 reviews (1540 fetched in total)\n",
      "2024-04-06 21:56:33,919 [INFO] Base - [id:352683833] Fetched 1580 reviews (1580 fetched in total)\n",
      "2024-04-06 21:56:45,954 [INFO] Base - [id:352683833] Fetched 1620 reviews (1620 fetched in total)\n",
      "2024-04-06 21:56:57,955 [INFO] Base - [id:352683833] Fetched 1660 reviews (1660 fetched in total)\n",
      "2024-04-06 21:57:10,084 [INFO] Base - [id:352683833] Fetched 1700 reviews (1700 fetched in total)\n",
      "2024-04-06 21:57:21,836 [INFO] Base - [id:352683833] Fetched 1740 reviews (1740 fetched in total)\n",
      "2024-04-06 21:57:33,645 [INFO] Base - [id:352683833] Fetched 1780 reviews (1780 fetched in total)\n",
      "2024-04-06 21:57:46,815 [INFO] Base - [id:352683833] Fetched 1820 reviews (1820 fetched in total)\n",
      "2024-04-06 21:57:59,556 [INFO] Base - [id:352683833] Fetched 1860 reviews (1860 fetched in total)\n",
      "2024-04-06 21:58:12,253 [INFO] Base - [id:352683833] Fetched 1900 reviews (1900 fetched in total)\n",
      "2024-04-06 21:58:24,259 [INFO] Base - [id:352683833] Fetched 1940 reviews (1940 fetched in total)\n",
      "2024-04-06 21:58:36,549 [INFO] Base - [id:352683833] Fetched 1980 reviews (1980 fetched in total)\n",
      "2024-04-06 21:58:49,002 [INFO] Base - [id:352683833] Fetched 2020 reviews (2020 fetched in total)\n",
      "2024-04-06 21:59:01,117 [INFO] Base - [id:352683833] Fetched 2060 reviews (2060 fetched in total)\n",
      "2024-04-06 21:59:13,322 [INFO] Base - [id:352683833] Fetched 2100 reviews (2100 fetched in total)\n",
      "2024-04-06 21:59:25,728 [INFO] Base - [id:352683833] Fetched 2140 reviews (2140 fetched in total)\n",
      "2024-04-06 21:59:39,329 [INFO] Base - [id:352683833] Fetched 2180 reviews (2180 fetched in total)\n",
      "2024-04-06 21:59:52,234 [INFO] Base - [id:352683833] Fetched 2220 reviews (2220 fetched in total)\n",
      "2024-04-06 22:00:04,998 [INFO] Base - [id:352683833] Fetched 2260 reviews (2260 fetched in total)\n",
      "2024-04-06 22:00:36,950 [INFO] Base - [id:352683833] Fetched 2300 reviews (2300 fetched in total)\n",
      "2024-04-06 22:00:49,400 [INFO] Base - [id:352683833] Fetched 2340 reviews (2340 fetched in total)\n",
      "2024-04-06 22:01:02,912 [INFO] Base - [id:352683833] Fetched 2380 reviews (2380 fetched in total)\n",
      "2024-04-06 22:01:16,512 [INFO] Base - [id:352683833] Fetched 2420 reviews (2420 fetched in total)\n",
      "2024-04-06 22:01:28,991 [INFO] Base - [id:352683833] Fetched 2460 reviews (2460 fetched in total)\n",
      "2024-04-06 22:01:41,219 [INFO] Base - [id:352683833] Fetched 2500 reviews (2500 fetched in total)\n",
      "2024-04-06 22:01:53,498 [INFO] Base - [id:352683833] Fetched 2540 reviews (2540 fetched in total)\n",
      "2024-04-06 22:02:05,968 [INFO] Base - [id:352683833] Fetched 2580 reviews (2580 fetched in total)\n",
      "2024-04-06 22:02:18,406 [INFO] Base - [id:352683833] Fetched 2620 reviews (2620 fetched in total)\n",
      "2024-04-06 22:02:31,206 [INFO] Base - [id:352683833] Fetched 2660 reviews (2660 fetched in total)\n",
      "2024-04-06 22:02:43,575 [INFO] Base - [id:352683833] Fetched 2700 reviews (2700 fetched in total)\n",
      "2024-04-06 22:02:56,185 [INFO] Base - [id:352683833] Fetched 2740 reviews (2740 fetched in total)\n",
      "2024-04-06 22:03:08,341 [INFO] Base - [id:352683833] Fetched 2780 reviews (2780 fetched in total)\n",
      "2024-04-06 22:03:20,811 [INFO] Base - [id:352683833] Fetched 2820 reviews (2820 fetched in total)\n",
      "2024-04-06 22:03:32,840 [INFO] Base - [id:352683833] Fetched 2860 reviews (2860 fetched in total)\n",
      "2024-04-06 22:03:45,511 [INFO] Base - [id:352683833] Fetched 2900 reviews (2900 fetched in total)\n",
      "2024-04-06 22:03:57,544 [INFO] Base - [id:352683833] Fetched 2940 reviews (2940 fetched in total)\n",
      "2024-04-06 22:04:10,006 [INFO] Base - [id:352683833] Fetched 2980 reviews (2980 fetched in total)\n",
      "2024-04-06 22:04:22,073 [INFO] Base - [id:352683833] Fetched 3020 reviews (3020 fetched in total)\n",
      "2024-04-06 22:04:34,213 [INFO] Base - [id:352683833] Fetched 3060 reviews (3060 fetched in total)\n",
      "2024-04-06 22:04:45,868 [INFO] Base - [id:352683833] Fetched 3100 reviews (3100 fetched in total)\n",
      "2024-04-06 22:04:57,592 [INFO] Base - [id:352683833] Fetched 3140 reviews (3140 fetched in total)\n",
      "2024-04-06 22:05:10,414 [INFO] Base - [id:352683833] Fetched 3180 reviews (3180 fetched in total)\n",
      "2024-04-06 22:05:22,706 [INFO] Base - [id:352683833] Fetched 3220 reviews (3220 fetched in total)\n",
      "2024-04-06 22:05:34,719 [INFO] Base - [id:352683833] Fetched 3260 reviews (3260 fetched in total)\n",
      "2024-04-06 22:05:47,313 [INFO] Base - [id:352683833] Fetched 3300 reviews (3300 fetched in total)\n",
      "2024-04-06 22:06:00,712 [INFO] Base - [id:352683833] Fetched 3340 reviews (3340 fetched in total)\n",
      "2024-04-06 22:06:12,858 [INFO] Base - [id:352683833] Fetched 3380 reviews (3380 fetched in total)\n",
      "2024-04-06 22:06:27,217 [INFO] Base - [id:352683833] Fetched 3420 reviews (3420 fetched in total)\n",
      "2024-04-06 22:06:39,902 [INFO] Base - [id:352683833] Fetched 3460 reviews (3460 fetched in total)\n",
      "2024-04-06 22:06:52,520 [INFO] Base - [id:352683833] Fetched 3500 reviews (3500 fetched in total)\n",
      "2024-04-06 22:07:05,960 [INFO] Base - [id:352683833] Fetched 3540 reviews (3540 fetched in total)\n",
      "2024-04-06 22:07:19,216 [INFO] Base - [id:352683833] Fetched 3580 reviews (3580 fetched in total)\n",
      "2024-04-06 22:07:32,426 [INFO] Base - [id:352683833] Fetched 3620 reviews (3620 fetched in total)\n",
      "2024-04-06 22:07:45,051 [INFO] Base - [id:352683833] Fetched 3660 reviews (3660 fetched in total)\n",
      "2024-04-06 22:07:56,867 [INFO] Base - [id:352683833] Fetched 3700 reviews (3700 fetched in total)\n",
      "2024-04-06 22:08:09,496 [INFO] Base - [id:352683833] Fetched 3740 reviews (3740 fetched in total)\n",
      "2024-04-06 22:08:21,330 [INFO] Base - [id:352683833] Fetched 3780 reviews (3780 fetched in total)\n",
      "2024-04-06 22:08:33,636 [INFO] Base - [id:352683833] Fetched 3820 reviews (3820 fetched in total)\n",
      "2024-04-06 22:08:46,518 [INFO] Base - [id:352683833] Fetched 3860 reviews (3860 fetched in total)\n",
      "2024-04-06 22:09:00,042 [INFO] Base - [id:352683833] Fetched 3900 reviews (3900 fetched in total)\n",
      "2024-04-06 22:09:11,980 [INFO] Base - [id:352683833] Fetched 3940 reviews (3940 fetched in total)\n",
      "2024-04-06 22:09:24,184 [INFO] Base - [id:352683833] Fetched 3980 reviews (3980 fetched in total)\n",
      "2024-04-06 22:09:36,557 [INFO] Base - [id:352683833] Fetched 4020 reviews (4020 fetched in total)\n",
      "2024-04-06 22:09:49,237 [INFO] Base - [id:352683833] Fetched 4060 reviews (4060 fetched in total)\n",
      "2024-04-06 22:10:01,350 [INFO] Base - [id:352683833] Fetched 4100 reviews (4100 fetched in total)\n",
      "2024-04-06 22:10:13,403 [INFO] Base - [id:352683833] Fetched 4140 reviews (4140 fetched in total)\n",
      "2024-04-06 22:10:25,449 [INFO] Base - [id:352683833] Fetched 4180 reviews (4180 fetched in total)\n",
      "2024-04-06 22:10:37,129 [INFO] Base - [id:352683833] Fetched 4220 reviews (4220 fetched in total)\n",
      "2024-04-06 22:10:48,947 [INFO] Base - [id:352683833] Fetched 4260 reviews (4260 fetched in total)\n",
      "2024-04-06 22:11:02,157 [INFO] Base - [id:352683833] Fetched 4300 reviews (4300 fetched in total)\n",
      "2024-04-06 22:11:14,564 [INFO] Base - [id:352683833] Fetched 4340 reviews (4340 fetched in total)\n",
      "2024-04-06 22:11:26,856 [INFO] Base - [id:352683833] Fetched 4380 reviews (4380 fetched in total)\n",
      "2024-04-06 22:11:39,004 [INFO] Base - [id:352683833] Fetched 4420 reviews (4420 fetched in total)\n",
      "2024-04-06 22:11:51,030 [INFO] Base - [id:352683833] Fetched 4460 reviews (4460 fetched in total)\n",
      "2024-04-06 22:12:03,166 [INFO] Base - [id:352683833] Fetched 4500 reviews (4500 fetched in total)\n",
      "2024-04-06 22:12:16,744 [INFO] Base - [id:352683833] Fetched 4540 reviews (4540 fetched in total)\n",
      "2024-04-06 22:12:29,786 [INFO] Base - [id:352683833] Fetched 4580 reviews (4580 fetched in total)\n",
      "2024-04-06 22:12:42,567 [INFO] Base - [id:352683833] Fetched 4620 reviews (4620 fetched in total)\n",
      "2024-04-06 22:12:55,103 [INFO] Base - [id:352683833] Fetched 4660 reviews (4660 fetched in total)\n",
      "2024-04-06 22:13:07,228 [INFO] Base - [id:352683833] Fetched 4700 reviews (4700 fetched in total)\n",
      "2024-04-06 22:13:19,584 [INFO] Base - [id:352683833] Fetched 4740 reviews (4740 fetched in total)\n",
      "2024-04-06 22:13:31,784 [INFO] Base - [id:352683833] Fetched 4780 reviews (4780 fetched in total)\n",
      "2024-04-06 22:13:44,540 [INFO] Base - [id:352683833] Fetched 4820 reviews (4820 fetched in total)\n",
      "2024-04-06 22:13:57,275 [INFO] Base - [id:352683833] Fetched 4860 reviews (4860 fetched in total)\n",
      "2024-04-06 22:14:09,481 [INFO] Base - [id:352683833] Fetched 4900 reviews (4900 fetched in total)\n",
      "2024-04-06 22:14:21,416 [INFO] Base - [id:352683833] Fetched 4940 reviews (4940 fetched in total)\n",
      "2024-04-06 22:14:34,541 [INFO] Base - [id:352683833] Fetched 4980 reviews (4980 fetched in total)\n",
      "2024-04-06 22:14:47,139 [INFO] Base - [id:352683833] Fetched 5020 reviews (5020 fetched in total)\n",
      "2024-04-06 22:14:59,703 [INFO] Base - [id:352683833] Fetched 5060 reviews (5060 fetched in total)\n",
      "2024-04-06 22:15:12,264 [INFO] Base - [id:352683833] Fetched 5100 reviews (5100 fetched in total)\n",
      "2024-04-06 22:15:24,278 [INFO] Base - [id:352683833] Fetched 5140 reviews (5140 fetched in total)\n",
      "2024-04-06 22:15:36,480 [INFO] Base - [id:352683833] Fetched 5180 reviews (5180 fetched in total)\n",
      "2024-04-06 22:15:48,624 [INFO] Base - [id:352683833] Fetched 5220 reviews (5220 fetched in total)\n",
      "2024-04-06 22:16:00,646 [INFO] Base - [id:352683833] Fetched 5260 reviews (5260 fetched in total)\n",
      "2024-04-06 22:16:12,324 [INFO] Base - [id:352683833] Fetched 5300 reviews (5300 fetched in total)\n",
      "2024-04-06 22:16:25,214 [INFO] Base - [id:352683833] Fetched 5340 reviews (5340 fetched in total)\n",
      "2024-04-06 22:16:36,946 [INFO] Base - [id:352683833] Fetched 5380 reviews (5380 fetched in total)\n",
      "2024-04-06 22:16:48,600 [INFO] Base - [id:352683833] Fetched 5420 reviews (5420 fetched in total)\n",
      "2024-04-06 22:17:00,582 [INFO] Base - [id:352683833] Fetched 5460 reviews (5460 fetched in total)\n",
      "2024-04-06 22:17:13,652 [INFO] Base - [id:352683833] Fetched 5500 reviews (5500 fetched in total)\n",
      "2024-04-06 22:17:26,212 [INFO] Base - [id:352683833] Fetched 5540 reviews (5540 fetched in total)\n",
      "2024-04-06 22:17:38,564 [INFO] Base - [id:352683833] Fetched 5580 reviews (5580 fetched in total)\n",
      "2024-04-06 22:17:51,969 [INFO] Base - [id:352683833] Fetched 5620 reviews (5620 fetched in total)\n",
      "2024-04-06 22:18:04,265 [INFO] Base - [id:352683833] Fetched 5660 reviews (5660 fetched in total)\n",
      "2024-04-06 22:18:16,922 [INFO] Base - [id:352683833] Fetched 5700 reviews (5700 fetched in total)\n",
      "2024-04-06 22:18:30,329 [INFO] Base - [id:352683833] Fetched 5740 reviews (5740 fetched in total)\n",
      "2024-04-06 22:18:43,909 [INFO] Base - [id:352683833] Fetched 5780 reviews (5780 fetched in total)\n",
      "2024-04-06 22:18:56,908 [INFO] Base - [id:352683833] Fetched 5820 reviews (5820 fetched in total)\n",
      "2024-04-06 22:19:08,592 [INFO] Base - [id:352683833] Fetched 5860 reviews (5860 fetched in total)\n",
      "2024-04-06 22:19:20,700 [INFO] Base - [id:352683833] Fetched 5900 reviews (5900 fetched in total)\n",
      "2024-04-06 22:19:32,904 [INFO] Base - [id:352683833] Fetched 5940 reviews (5940 fetched in total)\n",
      "2024-04-06 22:19:44,846 [INFO] Base - [id:352683833] Fetched 5980 reviews (5980 fetched in total)\n",
      "2024-04-06 22:19:57,571 [INFO] Base - [id:352683833] Fetched 6020 reviews (6020 fetched in total)\n",
      "2024-04-06 22:20:09,619 [INFO] Base - [id:352683833] Fetched 6060 reviews (6060 fetched in total)\n",
      "2024-04-06 22:20:22,096 [INFO] Base - [id:352683833] Fetched 6100 reviews (6100 fetched in total)\n",
      "2024-04-06 22:20:34,295 [INFO] Base - [id:352683833] Fetched 6140 reviews (6140 fetched in total)\n",
      "2024-04-06 22:20:45,958 [INFO] Base - [id:352683833] Fetched 6180 reviews (6180 fetched in total)\n",
      "2024-04-06 22:20:58,690 [INFO] Base - [id:352683833] Fetched 6220 reviews (6220 fetched in total)\n",
      "2024-04-06 22:21:11,093 [INFO] Base - [id:352683833] Fetched 6260 reviews (6260 fetched in total)\n",
      "2024-04-06 22:21:23,855 [INFO] Base - [id:352683833] Fetched 6300 reviews (6300 fetched in total)\n",
      "2024-04-06 22:21:35,923 [INFO] Base - [id:352683833] Fetched 6340 reviews (6340 fetched in total)\n",
      "2024-04-06 22:21:47,711 [INFO] Base - [id:352683833] Fetched 6380 reviews (6380 fetched in total)\n",
      "2024-04-06 22:21:59,426 [INFO] Base - [id:352683833] Fetched 6420 reviews (6420 fetched in total)\n",
      "2024-04-06 22:22:13,645 [INFO] Base - [id:352683833] Fetched 6460 reviews (6460 fetched in total)\n",
      "2024-04-06 22:22:25,913 [INFO] Base - [id:352683833] Fetched 6500 reviews (6500 fetched in total)\n",
      "2024-04-06 22:22:46,085 [INFO] Base - [id:352683833] Fetched 6540 reviews (6540 fetched in total)\n",
      "2024-04-06 22:22:59,530 [INFO] Base - [id:352683833] Fetched 6580 reviews (6580 fetched in total)\n",
      "2024-04-06 22:23:11,573 [INFO] Base - [id:352683833] Fetched 6620 reviews (6620 fetched in total)\n",
      "2024-04-06 22:23:23,476 [INFO] Base - [id:352683833] Fetched 6660 reviews (6660 fetched in total)\n",
      "2024-04-06 22:23:36,254 [INFO] Base - [id:352683833] Fetched 6700 reviews (6700 fetched in total)\n",
      "2024-04-06 22:23:48,514 [INFO] Base - [id:352683833] Fetched 6740 reviews (6740 fetched in total)\n",
      "2024-04-06 22:24:02,672 [INFO] Base - [id:352683833] Fetched 6780 reviews (6780 fetched in total)\n",
      "2024-04-06 22:24:16,408 [INFO] Base - [id:352683833] Fetched 6820 reviews (6820 fetched in total)\n",
      "2024-04-06 22:24:28,829 [INFO] Base - [id:352683833] Fetched 6860 reviews (6860 fetched in total)\n",
      "2024-04-06 22:24:41,477 [INFO] Base - [id:352683833] Fetched 6900 reviews (6900 fetched in total)\n",
      "2024-04-06 22:24:54,226 [INFO] Base - [id:352683833] Fetched 6940 reviews (6940 fetched in total)\n",
      "2024-04-06 22:25:08,043 [INFO] Base - [id:352683833] Fetched 6980 reviews (6980 fetched in total)\n",
      "2024-04-06 22:25:20,807 [INFO] Base - [id:352683833] Fetched 7020 reviews (7020 fetched in total)\n",
      "2024-04-06 22:25:33,210 [INFO] Base - [id:352683833] Fetched 7060 reviews (7060 fetched in total)\n",
      "2024-04-06 22:25:46,066 [INFO] Base - [id:352683833] Fetched 7100 reviews (7100 fetched in total)\n",
      "2024-04-06 22:25:57,728 [INFO] Base - [id:352683833] Fetched 7140 reviews (7140 fetched in total)\n",
      "2024-04-06 22:26:09,407 [INFO] Base - [id:352683833] Fetched 7180 reviews (7180 fetched in total)\n",
      "2024-04-06 22:26:22,038 [INFO] Base - [id:352683833] Fetched 7220 reviews (7220 fetched in total)\n",
      "2024-04-06 22:26:34,020 [INFO] Base - [id:352683833] Fetched 7260 reviews (7260 fetched in total)\n",
      "2024-04-06 22:26:46,182 [INFO] Base - [id:352683833] Fetched 7300 reviews (7300 fetched in total)\n",
      "2024-04-06 22:26:57,977 [INFO] Base - [id:352683833] Fetched 7340 reviews (7340 fetched in total)\n",
      "2024-04-06 22:27:09,938 [INFO] Base - [id:352683833] Fetched 7380 reviews (7380 fetched in total)\n",
      "2024-04-06 22:27:21,751 [INFO] Base - [id:352683833] Fetched 7420 reviews (7420 fetched in total)\n",
      "2024-04-06 22:27:33,557 [INFO] Base - [id:352683833] Fetched 7460 reviews (7460 fetched in total)\n",
      "2024-04-06 22:27:46,157 [INFO] Base - [id:352683833] Fetched 7500 reviews (7500 fetched in total)\n",
      "2024-04-06 22:27:59,992 [INFO] Base - [id:352683833] Fetched 7540 reviews (7540 fetched in total)\n",
      "2024-04-06 22:28:12,072 [INFO] Base - [id:352683833] Fetched 7580 reviews (7580 fetched in total)\n",
      "2024-04-06 22:28:25,410 [INFO] Base - [id:352683833] Fetched 7620 reviews (7620 fetched in total)\n",
      "2024-04-06 22:28:37,847 [INFO] Base - [id:352683833] Fetched 7660 reviews (7660 fetched in total)\n",
      "2024-04-06 22:28:51,106 [INFO] Base - [id:352683833] Fetched 7700 reviews (7700 fetched in total)\n",
      "2024-04-06 22:29:03,081 [INFO] Base - [id:352683833] Fetched 7740 reviews (7740 fetched in total)\n",
      "2024-04-06 22:29:15,108 [INFO] Base - [id:352683833] Fetched 7780 reviews (7780 fetched in total)\n",
      "2024-04-06 22:29:26,889 [INFO] Base - [id:352683833] Fetched 7820 reviews (7820 fetched in total)\n",
      "2024-04-06 22:29:38,708 [INFO] Base - [id:352683833] Fetched 7860 reviews (7860 fetched in total)\n",
      "2024-04-06 22:29:50,662 [INFO] Base - [id:352683833] Fetched 7900 reviews (7900 fetched in total)\n",
      "2024-04-06 22:30:02,619 [INFO] Base - [id:352683833] Fetched 7940 reviews (7940 fetched in total)\n",
      "2024-04-06 22:30:15,437 [INFO] Base - [id:352683833] Fetched 7980 reviews (7980 fetched in total)\n",
      "2024-04-06 22:30:28,051 [INFO] Base - [id:352683833] Fetched 8020 reviews (8020 fetched in total)\n",
      "2024-04-06 22:30:39,985 [INFO] Base - [id:352683833] Fetched 8060 reviews (8060 fetched in total)\n",
      "2024-04-06 22:30:52,848 [INFO] Base - [id:352683833] Fetched 8100 reviews (8100 fetched in total)\n",
      "2024-04-06 22:31:05,282 [INFO] Base - [id:352683833] Fetched 8140 reviews (8140 fetched in total)\n",
      "2024-04-06 22:31:17,340 [INFO] Base - [id:352683833] Fetched 8180 reviews (8180 fetched in total)\n",
      "2024-04-06 22:31:29,521 [INFO] Base - [id:352683833] Fetched 8220 reviews (8220 fetched in total)\n",
      "2024-04-06 22:31:41,312 [INFO] Base - [id:352683833] Fetched 8260 reviews (8260 fetched in total)\n",
      "2024-04-06 22:31:52,922 [INFO] Base - [id:352683833] Fetched 8300 reviews (8300 fetched in total)\n",
      "2024-04-06 22:32:04,690 [INFO] Base - [id:352683833] Fetched 8340 reviews (8340 fetched in total)\n",
      "2024-04-06 22:32:16,501 [INFO] Base - [id:352683833] Fetched 8380 reviews (8380 fetched in total)\n",
      "2024-04-06 22:32:29,024 [INFO] Base - [id:352683833] Fetched 8420 reviews (8420 fetched in total)\n",
      "2024-04-06 22:32:40,904 [INFO] Base - [id:352683833] Fetched 8460 reviews (8460 fetched in total)\n",
      "2024-04-06 22:32:52,724 [INFO] Base - [id:352683833] Fetched 8500 reviews (8500 fetched in total)\n",
      "2024-04-06 22:33:05,443 [INFO] Base - [id:352683833] Fetched 8540 reviews (8540 fetched in total)\n",
      "2024-04-06 22:33:17,323 [INFO] Base - [id:352683833] Fetched 8580 reviews (8580 fetched in total)\n",
      "2024-04-06 22:33:29,724 [INFO] Base - [id:352683833] Fetched 8620 reviews (8620 fetched in total)\n",
      "2024-04-06 22:33:42,202 [INFO] Base - [id:352683833] Fetched 8660 reviews (8660 fetched in total)\n",
      "2024-04-06 22:33:54,581 [INFO] Base - [id:352683833] Fetched 8700 reviews (8700 fetched in total)\n",
      "2024-04-06 22:34:06,872 [INFO] Base - [id:352683833] Fetched 8740 reviews (8740 fetched in total)\n",
      "2024-04-06 22:34:18,530 [INFO] Base - [id:352683833] Fetched 8780 reviews (8780 fetched in total)\n",
      "2024-04-06 22:34:30,174 [INFO] Base - [id:352683833] Fetched 8820 reviews (8820 fetched in total)\n",
      "2024-04-06 22:34:42,277 [INFO] Base - [id:352683833] Fetched 8860 reviews (8860 fetched in total)\n",
      "2024-04-06 22:34:54,900 [INFO] Base - [id:352683833] Fetched 8900 reviews (8900 fetched in total)\n",
      "2024-04-06 22:35:06,696 [INFO] Base - [id:352683833] Fetched 8940 reviews (8940 fetched in total)\n",
      "2024-04-06 22:35:19,262 [INFO] Base - [id:352683833] Fetched 8980 reviews (8980 fetched in total)\n",
      "2024-04-06 22:35:37,379 [INFO] Base - [id:352683833] Fetched 9020 reviews (9020 fetched in total)\n",
      "2024-04-06 22:35:49,690 [INFO] Base - [id:352683833] Fetched 9060 reviews (9060 fetched in total)\n",
      "2024-04-06 22:36:01,607 [INFO] Base - [id:352683833] Fetched 9100 reviews (9100 fetched in total)\n",
      "2024-04-06 22:36:13,746 [INFO] Base - [id:352683833] Fetched 9140 reviews (9140 fetched in total)\n",
      "2024-04-06 22:36:25,244 [INFO] Base - [id:352683833] Fetched 9180 reviews (9180 fetched in total)\n",
      "2024-04-06 22:36:36,971 [INFO] Base - [id:352683833] Fetched 9220 reviews (9220 fetched in total)\n",
      "2024-04-06 22:36:48,723 [INFO] Base - [id:352683833] Fetched 9260 reviews (9260 fetched in total)\n",
      "2024-04-06 22:37:00,469 [INFO] Base - [id:352683833] Fetched 9300 reviews (9300 fetched in total)\n",
      "2024-04-06 22:37:11,966 [INFO] Base - [id:352683833] Fetched 9340 reviews (9340 fetched in total)\n",
      "2024-04-06 22:37:23,682 [INFO] Base - [id:352683833] Fetched 9380 reviews (9380 fetched in total)\n",
      "2024-04-06 22:37:36,539 [INFO] Base - [id:352683833] Fetched 9420 reviews (9420 fetched in total)\n",
      "2024-04-06 22:37:48,056 [INFO] Base - [id:352683833] Fetched 9460 reviews (9460 fetched in total)\n",
      "2024-04-06 22:38:00,862 [INFO] Base - [id:352683833] Fetched 9500 reviews (9500 fetched in total)\n",
      "2024-04-06 22:38:13,759 [INFO] Base - [id:352683833] Fetched 9540 reviews (9540 fetched in total)\n",
      "2024-04-06 22:38:25,677 [INFO] Base - [id:352683833] Fetched 9580 reviews (9580 fetched in total)\n",
      "2024-04-06 22:38:38,013 [INFO] Base - [id:352683833] Fetched 9620 reviews (9620 fetched in total)\n",
      "2024-04-06 22:38:49,920 [INFO] Base - [id:352683833] Fetched 9660 reviews (9660 fetched in total)\n",
      "2024-04-06 22:39:02,069 [INFO] Base - [id:352683833] Fetched 9700 reviews (9700 fetched in total)\n",
      "2024-04-06 22:39:13,937 [INFO] Base - [id:352683833] Fetched 9740 reviews (9740 fetched in total)\n",
      "2024-04-06 22:39:25,858 [INFO] Base - [id:352683833] Fetched 9780 reviews (9780 fetched in total)\n",
      "2024-04-06 22:39:37,864 [INFO] Base - [id:352683833] Fetched 9820 reviews (9820 fetched in total)\n",
      "2024-04-06 22:39:50,442 [INFO] Base - [id:352683833] Fetched 9860 reviews (9860 fetched in total)\n",
      "2024-04-06 22:40:04,238 [INFO] Base - [id:352683833] Fetched 9900 reviews (9900 fetched in total)\n",
      "2024-04-06 22:40:17,237 [INFO] Base - [id:352683833] Fetched 9940 reviews (9940 fetched in total)\n",
      "2024-04-06 22:40:28,930 [INFO] Base - [id:352683833] Fetched 9980 reviews (9980 fetched in total)\n",
      "2024-04-06 22:40:30,038 [INFO] Base - [id:352683833] Fetched 10000 reviews (10000 fetched in total)\n"
     ]
    }
   ],
   "source": [
    "from app_store_scraper import AppStore\n",
    "from pprint import pprint\n",
    "\n",
    "minecraft = AppStore(country=\"us\",app_name=\"groupon\",app_id=352683833)\n",
    "minecraft.review(how_many=10000,sleep=5)\n"
   ]
  },
  {
   "cell_type": "code",
   "execution_count": null,
   "id": "5ead25b9-267a-4a2b-b0a9-06420558f04e",
   "metadata": {},
   "outputs": [],
   "source": []
  },
  {
   "cell_type": "code",
   "execution_count": 20,
   "id": "6da0e2a0-d1af-4c0e-a22f-d3bf2f0668ac",
   "metadata": {},
   "outputs": [
    {
     "data": {
      "text/plain": [
       "\u001b[1;31mSignature:\u001b[0m \u001b[0mminecraft\u001b[0m\u001b[1;33m.\u001b[0m\u001b[0mreview\u001b[0m\u001b[1;33m(\u001b[0m\u001b[0mhow_many\u001b[0m\u001b[1;33m=\u001b[0m\u001b[1;36m9223372036854775807\u001b[0m\u001b[1;33m,\u001b[0m \u001b[0mafter\u001b[0m\u001b[1;33m=\u001b[0m\u001b[1;32mNone\u001b[0m\u001b[1;33m,\u001b[0m \u001b[0msleep\u001b[0m\u001b[1;33m=\u001b[0m\u001b[1;32mNone\u001b[0m\u001b[1;33m)\u001b[0m\u001b[1;33m\u001b[0m\u001b[1;33m\u001b[0m\u001b[0m\n",
       "\u001b[1;31mDocstring:\u001b[0m <no docstring>\n",
       "\u001b[1;31mFile:\u001b[0m      c:\\users\\user\\anaconda3\\lib\\site-packages\\app_store_scraper\\base.py\n",
       "\u001b[1;31mType:\u001b[0m      method"
      ]
     },
     "metadata": {},
     "output_type": "display_data"
    }
   ],
   "source": [
    "minecraft.review?"
   ]
  },
  {
   "cell_type": "code",
   "execution_count": 23,
   "id": "0d1d8097-1d3e-466a-8a89-777f695fa2c9",
   "metadata": {},
   "outputs": [],
   "source": [
    "pd.DataFrame(minecraft.reviews).to_csv(\"groupon_appstore_reviews.csv\")"
   ]
  },
  {
   "cell_type": "code",
   "execution_count": 24,
   "id": "e7876267-a102-42f4-997f-97c677986984",
   "metadata": {},
   "outputs": [],
   "source": [
    "data = pd.read_csv(\"groupon_appstore_reviews.csv\")"
   ]
  },
  {
   "cell_type": "code",
   "execution_count": 28,
   "id": "1e3bc5ed-6fb0-49f2-9271-2f78c5b6a813",
   "metadata": {},
   "outputs": [
    {
     "data": {
      "text/plain": [
       "['I have been a Groupon customer for well over 10 years. Throughout my time shopping with them I have experienced so many fun outings at prices that I can afford to not just take myself but friends and family. amazing deals on jewelry, electronics, and so much more! Groupon is my “go to” for Christmas shopping every year and at least half the people I get presents for asked me how I could afford such a wonderful gift and all I have to say is get on Groupon! their customer service is amazing I’ve never had any issues not be resolved within a matter of moments, and the representatives are always polite, professional, and empathetic. Their prices more times than not even be out there competitor, shall we say the “rain forest” store site? And we all know that the competitor doesn’t offer amazing things to do both when I’m in town or traveling! Groupon is everywhere I am, with hundreds of experiences to have fun! I have been with Groupon going as far back as when you had to print out your gift certificate and take it to the store, but now with this app all I have to do is just show them my phone and they slide it to show I used it it’s just that simple! they’ve connected me with lifelong merchants and places to go that I never would’ve even known existed if it hadn’t been for Groupon. so thank you Groupon for all that you’ve done for me and my family over the last 10+ years!',\n",
       " 'I can’t believe I waited so long to download this app! There are so many great deals and I wish I’d have downloaded this app years ago!!!! I definitely recommend you read the reviews along with the fine print before completing any orders. The majority of sellers are legit and reasonable if you’re unsatisfied with your purchase or if it arrives damaged, but Ive ran into a few sellers (and im sure there are many more) that are just out for your money knowing that you are getting a pile of crap, and even make you give your first born just to get a refund, and they don’t feel theres a problem with it either. BUT for the most part, the majority of items or services on here are legit and it’s pretty easy to weed out the good from the bad just by reading the description AND I’d also recommend to read a few reviews on the particular item/service if you have and reservations or an offer just seems too good to be true, as I’m finding so many of them are true!! But still do a little research before you buy. \\nNote: one item that I almost purchased was listen as the Naked eye pallet by urban decay, and the description looked good as far as I could see, but when it comes to cosmetics I’d double check the reviews because this one particular listing was undoubtedly a seller falsely advertising their product and taking advantage of whoever they could (not to say there’s not a legit listing on the pallet by another seller).',\n",
       " 'Every time I have ordered a Groupon offer, the experience has always been very pleasant & over the years I have had a couple issues, but they were always addressed quickly & resolved quickly. \\nI love the vast array of offers that they have available every day & there are offers that can fill any niche that a person may have. Today I ordered some cupcakes & last year I ordered & bought a drive in a Lamborghini on a test track in the Auburn/Kent areas & OMG, it was absolutely incredible. I have always been a car guy, since I was a little kid, but that was & still is my passion for good ol’ American Muscle Car. Never in my wildest dream did I ever imagine that I would be sitting in the drivers seat of a Lamborghini, (well that is a little fib) as I have had dreams of myself sitting in the drivers seat behind the wheel of a Lamborghini, but in all those dreams, it never involved a set of keys. It was an incredible dream/bucket list item I could scratch partially filled, I would need to be in that same car, but on the autobahn to fully scratch that experience off my bucket list.\\nGroupon, I will definitely be back to drive another ridiculously luxurious sports car, but I need to wait a few years till my boys are older & we can get them behind the wheel also😁😁😁\\nSo good job Groupon, if I could give you 10 stars I definitely would.\\n⭐️⭐️⭐️⭐️⭐️⭐️⭐️⭐️⭐️⭐️',\n",
       " \"I've been ordering from Groupon for about 4-41/2yrs. So far I've been perfectly happy with everything l have ordered, both the service and the quality of the items and or services. Admittedly I've always been very paranoid about being scammed online and very slow to start trusting online companies so I tend to read every single word of every description! It drives my husband crazy because I'll read, reread then mull it over for hours sometimes days before I finally decide to make my purchases. And if it comes to a place I've never heard of I always check for reviews outside of Groupon before dealing with them. But it seems to have paid off because I'm happy with everything I've gotten so far. I've gotten gifts for my kids and grandkids, household items, clothing and my husband and I used 3 different offers for hotels and services to book a dream road trip through the central Texas hill country during summer of 2017! (So glad we got to go when we did, to see this beautiful part of Texas before Harvey messed up so much down there!) Our stay at El Tropicana in San Antonio on the river walk, a great package for a full day and food package at Sea World San Antonio, and a stay at the Omni West in Houston were all phenomenal experiences that we wouldn't have had without Groupon, but will definitely strive to repeat!\",\n",
       " 'we have made many purchases ranging from overnight stays to dining to personal services and products. overall we are pretty satisfied or we would not continue to purchase coupons. But some notes of caution – 1. some vendors substantially jack up the value price of the coupon to make the Groupon deal look better. 2. be aware of what the description does not tell you as well as what is included – for example the availability and cost of parking – we just paid $25 for parking in order to attend an event with a price tag of $19 per person. 3. linens and towels may not be as represented – I. E. Soft and luxurious as advertised or color not accurately reflected in the ad. make sure you know the depth of your mattress since some of the sheets are not deep enough for your mattresses, and whether you have a king or Cal King because they use different size sheets. 4. for cosmetic medical services, do some homework to learn how much of a product you will probably actually need. Typically the amount sold on a deal is not enough and you will need to purchase more, at the facility\\'s going rate. 4. fine dining- be prepared for a 20% tip automatically added on to their \"retail\" value , & $25/bottle corkage if you bring your own wine –– also be aware that some of the certificates have a special limited menu from which you must choose your selections.',\n",
       " 'I absolutely love Groupon! I love the deals that are offered; they are unbelievable. The amount of money saved through Groupon is amazing enough as it is- but Groupon doesn’t stop there. More often than not they have deals on their deals! Constantly providing codes to save 20% off! Which puts even more money back in your pocket! Groupon is my go to when it comes to family night. Seriously, I always check this app first before planning anything lol! Not only are there so many choices to pick from, but it also has helped us try new things as a family. Which I appreciate, as the memories are nice to have. They are even better when I know I am getting an amazing deal! I have tried so many new things, activities, places, food, and I have even found new opportunities- that without Groupon I wouldn’t even know existed! I now have my medical billing and coding license. I am a certified hypnotherapist (mainly for my family and friends) who is held in rather high regard! I just began studying to take my real estate exam so that I can become a licensed real estate agent. All these things and so much more- and I can thank Groupon for showing me where to go to make that possible- and providing me with a deal to sweeten the deal lol.',\n",
       " 'I made an accidental purchase, emailed immediately, and still have not heard back from customer service. I woke up the other day tired and groggy and remembered I needed to purchase tickets for an event in Seattle. I did a Google search for that specific event, and Groupon was second in line with an event that was the same price and time that I had been looking for, and a similar name and photo. I went through the purchase process, checked out as a guest and completed my purchase for what I thought was the event in Seattle that I search for. Upon receiving my receipt in my email a moment later, I realized that the event was for something in New York City that night. I immediately started searching for a customer service phone number, which apparently does not exist. I started searching on their webpage for some sort of customer service email. I found a page with numerous options, but no real answers. I sent an email to the parent company and was given the website again with the FAQ info. I sent a message to customer service through this portal and have now been waiting six days. As I read on the page, I only have 24 hours for a refund. Which doesn’t help any if customer service never responds to you… I spent over $70 on an event I couldn’t possibly attend and Groupon has zero customer service representation. I notified my bank and put a payment on my account and I have to check today to see if that actually stopped it. This is atrocious customer service.',\n",
       " 'Groupon was the best shopping site I had found. I have gotten some amazing deals here. But with the very good you also have absolutely horrible. They don’t seem to monitor or limit their merchants. I am so disappointed that my $150 was stolen from me, from a merchant I learned has a very shady background that Groupon has been made well aware of in the past. Others have attempted refunds to no avail, but I am well versed in these issues so I know how to recoup my loss,  but I cannot trust them anymore. Groupon is the main platform and therefore hold most the responsibility to protect their buyers, and they do not do that. These merchants represent Groupon but Groupon does nothing to eliminate dishonest merchants. They continue to let others purchase without forewarning. I am in the process of working with my bank to have this fraud reported, and have recorded all communications via email and chat, where Groupon recognizes and states that they are aware I have not received my item and that they are aware it was never even shipped. I have also kept record of all attempts to contact the merchant that went unanswered. They simply do not respond. So I have to say to proceed with caution. You can find some great buys on here, but when you get burned, you get burned badly with little to no help. Also, do not ever ever buy from Allure Gems via Groupon or anywhere else. They have a very long history of stealing peoples money.',\n",
       " 'I have been a Groupon customer for years, mostly get local massage and food deals. I appreciate this service but do wish the business owners got to keep more of the proceeds. They are basically posting deals to get new customers and some have said it doesn’t often lead to long term repeat customers. In my case, I’m usually getting a Groupon for restaurants that I go to already but want to have some savings. Groupon is great for the consumer but it may not be the best investment for local businesses. I would be curious to know what the ROI and conversion rate metrics are for local business owners who offer sales on Groupon. Admittedly I have purchased a lot of massages but haven’t really stayed with one massage therapist. That lends to my mentality as a consumer, why would I pay 60 the second time when I could pay someone else to do something very similar for 30? Or even 25 on a sale day! This service is for deal hunters like me but by appearances does not seem to be extremely helpful to certain types of business owners. Which is why I tip well, at least to help them out. If I’m wrong about the benefit to business owners, I would love to know! Feeling a little gross about the reality of my shopping habits now that I’ve written this review so hopefully I’m mistaken and this platform is helpful in the long term for small business owners.',\n",
       " 'They have some good deals sometimes but they need to work on some things. In 1 previous order, my item never arrived although it said “delivered “. I sent a couple of emails about it & even posted a negative review about it & never heard back from anyone. When I finally located a phone number, I was told no one was available to take my call for a couple of days, then I finally got a menu that listed an option for a representative, but \\n3 times when I chose that option, the phone system just kicked \\nme out. Finally got a live person on 4th try! Another order for some plants I ordered, they were dried out & sickly when I received them. Planted them & tried to save but couldn’t. Tried \\nto get an exchange/refund to order some different plants & was told I would have to dig the dead stalks back up, repackage & send back! Like it was worth my time for that! Another order I ordered a couple of magazine subscriptions. One of the magazines I have only received twice. The other magazine I have not received any issues yet- but, coincidentally, I started receiving another magazine that I have no interest in. This order I placed, there’s a technical issue online so I couldn’t enter & save new payment info. You have some awesome deals sometimes but really need to invest in some customer service because if there’s any problems with this order, I’m ready to say so long to Groupon',\n",
       " \"First of all I want to say, Groupon doesn’t really care about their customers. I’ve never left a bad review but here you go Groupon you can have this one. \\n\\nI purchased a massage voucher in February, and then made an appointment with the owner in May, because of covid-19, the owner had decided to permanently close the business in April. She sent an email to all customers saying if people purchased voucher from Groupon, she had already notified Groupon that they have gone out of business and people who purchased voucher should get a refund (that’s how Groupon told her!). So I contacted Groupon and asked for a refund. Guess what, it took me nearly an hour to finally chat with a real person because Groupon hides the chat feature, they doesn't want anyone to chat with them or contact them for refund. I tried to email them twice, all I got is I can get a Groupon bucks, but I don’t want credit, I just want money refund! Long story short, the customer service kept saying they can extend my voucher so I can use after covid-19, I said no their business is permanently closed I can’t go anymore. They just don’t understand. At the end, they still offered me the dang Groupon bucks so I had to open the not user friendly app again to find whatever deals that I can spend all my credit. If I could give the company 0 star I would, because Groupon doesn’t really care what customers want, once they sell you a voucher it’s not their business anymore.\",\n",
       " 'Me and my husband have used Groupon on and off for about 3 years but we recently started relying on Groupon for the last year after getting married ...... if we take a trip first place we check is Groupon...you offer ridiculously unbelievable prices. in our most recent trip we wanted to stay an extra day and asked what the charge would be. The same amount we payed for the 3 days is what one extra day would cost! need something that we can’t really find?.....GROUPON has it. The variation of the same thing is what I like as well...... I’m the type of woman who loves a certain item and needs it in absolutely every color. The only thing that I,as a customer, found  a little difficult is that when you do book a trip and you accidentally made an error you cannot go back and change it..... our fault but I believe that if you are able to catch it right then and there you should be able to fix it. None the less, THANK YOU Groupon you guys are the best!!! Thanks for making trips actually happen for me and my husband. Growing up sheltered, it’s nice to finally be able to do it not only because I’m married but because of your amazing deals! Being financially savvy is the way to enjoy vacations and get aways! I can’t thank you guys enough!',\n",
       " 'Have used Groupon many many times. I do like to spend so with that I need to save and by far Groupon is much better than any $1.00 coupon.\\nYes this is true. The problem I have experienced way more than 1 occasion but I do continue to use Groupon. I have been disappointed with the house cleaning service , set up service constantly verifying the date time person coming texting back and forth was excited for this to happen I am handicapped found out at 5 am the morning of . They texted me 10:10 the night before the were due the next morning at 11:00 am I was sleeping. They rescheduled me for sometime in February I set up January for a reason. They didn’t give me even 24 hr notice but they stress the importance if were cancel at least 48 hours\\n  Another s gift to my daughter for Christmas a mother and daughter time out to get our eye brows threaded. Very disappointed in the place it was not even so classless and dirty selling herbs and spices clothes. \\nThen I ordered flowers threw Groupon to A Florist omg not even close and to what I was expecting. They stated on the ad that with covid 19 flowers might be a slight issue they will do there best to duplicate. Not even close brown basket shown and purple and pink beautiful arrangement, what they got was a leftover white Easter basket with some fall flowers shoved in it. Disgrace to use covid as an excuse. Clothes several times not true\\nAnd that is enough to give you idea',\n",
       " 'My purchases have mostly been good. I had one incident a few years ago. I paid for 3 sessions of house cleaning, paid about $115.  It took several weeks to get in contact with the seller then it was several weeks before she could book me an appointment. I wanted to book all three appointments & she wouldn’t. She said I could book the next appointment when she came the first time. No one showed up for my first cleaning. After several attempts she finally answered my call & said the lady she had scheduled had car trouble or something. I said a phone call to me would have been appreciated. I took off work to be home. Rescheduled appointment, about 2 weeks out this time. Again no one showed & I had someone there to meet up. Again several attempts to contact when she did answer the lady’s child was sick 🙄. Seriously?! Again a phone would have been appreciated. She wouldn’t book another appointment, said she’d get back to me. She never did. A few months later, we were preparing to move out of Tulsa area so I thought great I’ll get “her” to come clean while I’m packing . Called multiple times & left messages. Never got a call back. Then her number was no longer working. 😩 So I threw that $115 to the wind! Contacted Groupon & it had been over a year at this point so they “couldn’t” refund my money 🤷🏼\\u200d♀️',\n",
       " 'I was searching for tickets to go to Orlando horror nights. I googled \"Orlando, fl Halloween Horror nights discount\". A link to groupon came out and promoted me to pick a date and pay. We did just that and after we bought the tickets, in very small print, it stated it was for Hollywood California not Orlando. Being that we don\\'t even live in California and hadn\\'t used the tickets at that point, we tried asking if we can get a refund. We were even willing to trade the tickets to the Orlando ones who were also being sold on their app. They were a bit more expensive but we were willing to pay the extra and still buy them from Groupon. After three days of communicating with anybody we could, finally hear from the manager saying they can\\'t refund us bc I\\'m very tiny print it states \"no refunds\". Considering that they took us to the wrong site when we looked for Orlando discounts and considering the fact we don\\'t live in California, I feel Groupon could have helped us and should have helped us if they wanted to. It\\'s also important to state that two different customer service representative told me straight out that that mistake has happened multiply times. These customer service representatives also started that they were confident the manager would be willing to help us. They closed still not to refund our money. They apparently can\\'t survive without my $300 they tricked us into giving them. I will never ever use Groupon again.',\n",
       " 'Although, I haven’t even seen them yet, I’m still worried about the quality , but I specifically chose it for a certain room but now, if that is going to stop light from coming in completely, I just may choose a different room for these. I always look for more different stuff and sometimes even hope for the best deal of the day on something I would really want , I hope other genders come into your site to sell their products because it would be nice to see changes of different things, not just changing between the 4 seasons. I recently purchased the angry supplements and I’m afraid to say , they give me heartburn so badly, and I’m belching the tumeric and ginger.  Although it may be amazing for someone else, they are not for me. I just don’t ever want to do business with companies that are NOT in the USA only because I have had a terrible experience with dealing with them and what they show you is definitely NOT what your getting, cheap scratchy material ect anyway I’m so looking forward to these new curtains in my home ! I’m very excited and can not wait thank you Groupon !!! Once in a while it also would be nice to send a 5 dollar off coupon to all your email member that bought for appreciation day just bought from a local retailer, and I’m happy to see that here and of course,,,,, my new year pair of slippers!!!!!!! For sure ! Muk luk can’t beat it !!!!',\n",
       " 'I’ve used GROUPON for several years but the only problem I repeatedly have is when you’re allowed to purchase 1 restaurant offer for yourself AND one as a GIFT for someone. It doesn’t say you need to do it in the same ORIGINAL Groupon purchase. Example: On July 19, 2021 I purchased a regular GROUPON for myself to use at Lellis Restaurant in Auburn Hills. At that time I didn’t have anyone in mind to send a Lellis Gift too. However, I checked on my GROUPON ACCOUNT on August 17th to go in and purchase an allowable GIFT GROUPON for someone AND as soon as I pulled up LELLIS it kicked me right out as having already having purchased my ALLOTTED GROUPON and I was not able to cash in on sending my friend the ALLOWABLE GIFT GROUPON as described on the Restaurant Site obligations at all! So I’ll probably have to wait the 90 days and then order one that is supposedly allowed ??? Well it sure didn’t work fir me. This is not the first time this has occurred either… so some EXTRA DETAILS need further explanation on the GROUPON SITE and these changes are definitely needed ASAP otherwise you’re going to have several IRATE CUSTOMERS WHO JUST MAY DECIDE USING GROUPON IS A BIG CONFUSING PIA. In general, they are pretty user friendly but DEFINITELY NOT IN THIS CASE!',\n",
       " 'I never really write reviews but when the notification popped up on the app I couldn’t help myself. I’ve been using Groupon for YEARS and have never had an issue with the app or company itself. I get to try out a range of services at a great price, and try out businesses in my area that I never would’ve thought to before. If I’ve ever had an issue with scheduling or not being able to use a voucher on time, the customer support staff is always able to help me out. Of course, there are little things here and there that are typical with any large company that can be less than ideal, like wait times to speak to a customer service rep for example, or the occasional issue with vendors on the app, but these little inconvenience are far outshined by Groupons true dedication to customer satisfaction. I really can’t say enough positive things! I get funny looks from my friends sometimes when I tell them I use Groupon because it seems like such a mom app lol, but I highly highly recommend it for my girlies who are looking for a go-to spot for hair/nail/lash services but aren’t ready to invest a whole lot of money without testing the quality first. It’s really a great resource!!',\n",
       " 'Though I do enjoy Groupon and have spent thousands over the years with Groupon, they are in need of improvement. One issue I have is returning a Groupon. It is ridiculously inconvenient and beyond frustrating to try to return or exchange a Groupon. Instead of getting Groupon bucks, which seems to be a more logical and fair thing to do, Groupon only allows you to purchase another Groupon in only a certain area, i.e. “a local deal”, etc. and within a short period of time. It is a complicated system and I lose more money through Groupon, and I am beginning to expect it was designed that way. People do not want to deal with such hassle so I assume most people would simply forget about it. Which I have done in the past because I don’t feel like dealing with only 24 hours to search for local deals. Not only that, but most local deals in my area are the same old thing that we always see advertised in a Groupon. Little variation. And I don’t want to redo those things again and No, I don’t want another massage! So it is very limiting. I have had much frustration over this one issue. Also, with all the times I have had to speak to Groupon, those who answer the line have accents so thick I can hardly understand them. And though a few of the staff have been friendly and professional, I have dealt with quite the opposite most of the time.',\n",
       " 'Exactly! The “other brand” Electric Toothbrush that I bought for 88% off is Terrific! I love the 30-second pauses to remind you to ensure that you’re spending the proper time in the different areas of your teeth. Plus, the 3 settings give you the wonderful option of a more gentle brush for sensitive teeth (me!). It’s been three weeks and the battery is still going strong. I really love it and I can definitely feel the difference that will show up at the dentist (i.e., removing plaque and cleaner, whiter teeth). Every item that I have purchased here has been wonderful and does exactly what it says it will do. Today I have just purchased skincare after literally spending thousands a year in retail for such items. I can’t wait for my retinol face treatment, vitamin c eye cream and bonus oil to arrive...for a total of $30 including tax and shipping! I will try these products and let y’all know if they live up to expectations! I don’t recall the brand, but it is not one that I am familiar with, soooooo...If it works as well as the other purchases that I have made from Groupon I am going to be thrilled! I know that I can always count on this company to come through for me, or I can simply return it for a full refund!',\n",
       " \"I've been using Groupon for years. I've always had great experiences with local businesses honoring their Groupon. Recently, I had a very bad problem with a seller. They didn't honor what their groupon's fine print stated, they were making threats, yelling at me and following me to my car, etc. Overall, the worst experience I've ever had with any type of service. Groupon wasn't available to contact immediately because it was a Sunday evening when services were provided, but they were available at 6:30 am the next morning. I shared my experience and they quickly issued a full refund and escalated the concern to someone higher up. Thank you for trusting your customers and being a responsible business. I will continue to use Groupon only because the way they handled this issue. \\nOn a further note, I would highly suggest Groupon going back to having a phone support line (24 hours.) If I would have been able to contact Groupon at the time of the issue with the merchant, I feel like the seller wouldn't have started to act so extreme. At least Groupon would've been able to explain the fine print to the seller, and it would've been great to have a witness to how the seller was behaving.\",\n",
       " 'There have been a few times I’ve had positive experiences where the company items were quality and the check out was easy. \\nMore recently it’s been a struggle. I ordered two cases of wine only to click on the fine print to find out that they don’t ship to my state. Then I tried to cancel the order and ended up not seeing that the default option was to credit my Groupon account...after I clicked the save option. Then i couldn’t get ahold of customer service. The app kept booting me back to the item page instead to customer service. I tried to call two different phone numbers that I googled and both said they don’t have phone attendants. THEN I got back on the app and tried to reach customer service a different way and I was successful. However, when I typed in my message to the attendant, the send option was greyed out until the attendant ended the encounter. She ended up getting back on and had to forward my problem to another tier. Who knows when I’ll get a refund. What should’ve taken me two minutes ended up consuming about an hour with no product, $100 in the hole, and I still don’t have an answer about my refund. \\n\\nRecently also received a personalized puzzle that was nearly impossible to put together because every piece is the same shape. They all fit together. My 9 year old was frustrated with it and threw it away.',\n",
       " 'I started enthusiastically buying Groupons since day one. The service was second to none and the deals were normally excellent too! Lately just to return an item such as a restaurant that seems to be closed and I happened to have gotten stuck with their Groupon, I suffer because because it is so difficult to place a complaint and to request my money back. If Groupon would look at the data of customers like myself and see how much Groupon has lost in revenue by playing this odd game of becoming obnoxiously hard to communicate with it might decide to go back to the better service era it had for several years! I know I could easily triple my purchases but I will not risk losing more money when Groupon will not respond to any of my messages. Disgruntled old faithful client! Ernie in Dallas!🙁 Note: I am not sure of the date I wrote the above letter, but I can say today with much pleasure that Groupon is even 100%+ better in its customer service department than 10 years ago! I hope someone read my complaint and probably many more from similar unhappy faithful clients. Good job Groupon! Ernie Escobedo',\n",
       " 'I am in need of Groupon customer service due to an order (mask) from Groupons that has yet to be delivered ! It has been almost 2 weeks since the order was placed AND that order was marked as “shipped” and “in transit” at the time of this writing. That status has been the same status for 11 days now and the item is coming from California! \\n\\nTired of waiting, I want to cancel the order and have my money refunded or give a an opinion to use it to purchase something else. The problem is there are NO OPTIONS via the App to cancel the order OR to contact Groupon Customer Service for assistance. I Can’t get even get in touch with a live Groupon Customer Service person. I never found a phone number to utilize. I know that Corona situation has everything in an uproar but it shouldn’t take 14 days for an item to be delivered . And according to the comments on Groupons about this specific item, servers people are in the same boat as me; they simply haven’t received their product and there is NO way to cancel order or request a refund via APP while the order is “in transit”.  \\n\\nGroupons USED to be GREAT !!! No problems . NOW, I’ve encountered three (3) problems during the past three weeks and customer service is unavailable and unacceptable during this time . I’ve been able to get in contact with customer service reps at BANKS, Cable company and others, who have employees furloughed at Home but GROUPON has clearly dropped the ball .',\n",
       " 'I’ve been using Groupon for about 7 years now. They have a lot of great deals. I really appreciate the amount of local service deals I find. The biggest downside is the additional discounts they offer. Today, I saw a discount for an additional 25% off health and wellness deals. When I went to check out, no discount. I clicked on the banner for details and I got sent to spas, but no details on the discount. I went on chat to customer service. I found out they were offering discounts that are only on certain items as if they are on everything in health and wellness. I find it incredibly misleading and time consuming. You can trust their deals but not their discounts. \\n\\nThe upside is that they have “okay” customer service. I got an $8 credit on what would have been a $20 discount, so I decreased my order. It took about 70 minutes to negotiate that discount. They made about $10 less after the credit. They are a bit shameless about how misleading their discounts are. I am less likely to fall for that again, but I feel a bit like Pavlov‘s dog. After deleting a couple of items, it came out to about 15%. Not bad, but not good, just okay. Still I got a replacement discount in the form of a credit. Maybe I’ll remember that their discounts aren’t really a discount, lol. Or maybe I’ll get bit again...',\n",
       " 'I have carpal tunnel and ordered 2 different types of fingerless gloves. I was charged for 2 types of fingerless gloves that were Totally Different than those I ordered and the pics originally that came up when I went to purchase them. What do they send - substitutes?  I don’t want substitutes. The first pair I got was made so cheaply you could probably buy in the $1 store. Awful. I threw them in my garbage. The second pair was supposed to be furry fingerless also. They were furry but with an open flap that all your fingers come out at once - a mitten style. This was not anywhere in the description. I can’t use these. \\nI ordered many things in the past through Groupon in every area.  I never had a problem. I went through the text to agents and was not satisfied with their answers. They were vague and not corrected. What was I charged so far and what am I still to get?  These gloves they sent are not acceptable and I should get refunds for both. If you can’t send me What I Ordered then don’t send me anything and credit my account. Hope your company is not going downhill. There are now a lot more of these companies that are your competitors. If you don’t do the right thing today for a loyal customer I will be changing to a different company and so will other peeps. And I know I have a $15 coupon to use. I hope it won’t expire. Please advise\\nOn this text site. I no longer have an email set up at this time \\nJane Abbene\\nE Northport NY',\n",
       " 'I have used Groupon many times but I purchased two massage certificates for my husband and I for Christmas. I purchased mine in November went to the website too book it the same day. Calendar all booked up until January 2019. So I wait two months and get to the place on time to find out the door is locked. Saw people moving around inside so I knock. Lady comes out with a long piece of weave in her hands (she was braiding and cutting it). Anyhow she tells me that the person no longer works there and I was the 5th person she has turned away. She told me to contact Groupon for a refund. Won’t you know it they will not refund me. I know the fine print tells you after 3 days all sales final but I did not see it say they will sell me a Groupon for a shady place, make me wait passed the refund period, and then never get services and it’s just oh well. Now I have to waste time, energy, and money and find a lawyer. I am gathering information to send to the news outlets as well. People need to know Groupon is selling for shady businesses that have no intention of actually providing the service and no matter what you won’t be refunded. I have contacted the owner of the location multiple times, wouldnt you know it she is ignoring me. I have contacted Groupon via chat, email, and the call me back option, and yes you guesses it they are absolutely ignoring me! STAY AWAY FROM GROUPON AND FRESH BEAUTY STUDIO IN STOCKBRIGE, GA!!!!!',\n",
       " 'A few months ago I purchased a Groupon for Betty’s Hair Salon in San Antonio. When I called to make an appointment I was given a run around. First I was told she had no appointments after I told her it was a Groupon. I called her about three weeks before the expiration date. I told her I did not work so I could come anytime. I can’t believe if she is using Groupon to get business that she could be booked up. A few days later I called again hoping to getSomeone to help me. At that time I was told that I had to submit a photo of myself with my hair showing because she usually charges a surcharge on top of the Groupon cost to her clients because they have too much hair. I told her my hair was thin and Shoulderlength I sent her a picture and she replied that she would have to charge me a surcharge to be determined at my appointment. I asked her if she had any appointments in the next few weeks to which she replied yes she did. Due to the runaround I received by Betty of Betty’s hair salon in San Antonio and her lack of integrity in conducting her business I refused to go and pay her more money however I am still out the cost of the Groupon which I am not happy about and would like to see what could be done about the situation. I have to tell you that I am one on a limited income and twoVery discouraged buy this business being so unethical and I lost my money in the Groupon and I am not happy about it to this day.',\n",
       " 'They have great sales on multiple items, to use cash/debit/not on your credit card use Paypal it’s  way easier at checkout ! \\nSales are great for items but it’s frustrating when they say your billing address isn’t a match with your bank and can’t purchase using debit card  for individual purchases thru Ave A - Groupon store but you can purchase multiple items at check out with the same card. To purchase direct thru Avenue A- Groupons Store  they must want you to use a credit card or Paypal, For the credit card I hate using a credit card for a 25$ purchase when you can just pay for it, I’m gonna guess it’s the way you get the great Deals , it’s worth the hassle for some items!\\nAlso they save your card info- no other way to do it - when you check out or Pay with a card,  so after you purchase check  under “payment methods” and your card info is saved you can edit it and remove it, for those who have partners, kids, teenagers and others who use your sites on shared iPads, etc and love shopping sites with your saved card Info., handy to purchase with just a click on someone else’s card LOL !',\n",
       " 'I have purchased many items and classes and never been disappointed. Well that isn’t true; on place neglected to let me know they were closed so our class was cancelled but want you to know they quickly redeemed themselves by resolving the matter and providing a little more. The items I purchased were typically sport team related and gifts and very good quality; well received. I did purchase some cables for my iPad and cell phones and they too were as described an gifts. Date nights with couples, friends or older grandchildren can always enjoy the glass blowing; we did ours at Tacoma Glass and we cannot speak high enough about the experience. Bought more as a result of the great time. There really is something for everyone and you may find yourself unable to get to the event as scheduled but the purchase price will go towards the original price so you are never out your money. I say go for it; shop to support local or try new experiences you cannot go wrong. When company comes to town I always check Groupon first to see what fun and exciting things we can do.',\n",
       " 'From a business owners perspective groupons users are a pia , they are the most entitled people ever and most think you should be kissing there private parts to get what they just spent less than half buying. They are generally rude crude and unexceptionable as customers. If they don’t get what they want they have a tendency to screw you in the internet over things that are clearly spelled out in the groupon printout that they purchased. As a business owner I like to advertise in Groupon because it gives some people a chance to experience my product that might not ever get a chance otherwise. Some of your users are great and great full for the opportunity of a new experience but others make it very hard to keep working with Groupon because they wrongfully scare away more people than the profit can adjust to. You might consider starting a new selling platform called “good  deals” and give the merchants a chance to make a little more money , especially during these trying times. But what the hell do I know your making millions and I’m just trying to keep some deserving employees employed and make ends meet.',\n",
       " 'I was going on vacation with my family and bought a Groupon for a fun activity to do while there. I waited to redeem the event until we arrived at our destination. However, I never received the email with my tickets and gift card. Customer service is ridiculous, the chat agents aren’t helpful and I was told someone would have to look into it and I’d receive an email within 24 hours. I had to go pay full price for the event and my trip was over. Later, by email I was told that the merchant never got my order so I could receive Groupon bucks. They needed to confirm a few things by email. So I waited, time passed by and apparently they went ahead and gave me the bucks but only gave me 24 hours to use them. No one told me they had even been applied to my account! So I had to battle with customer service again. Agent after agent told me they couldn’t refund me and they couldn’t apply the Groupon bucks a second time. I had to repeatedly ask for a supervisor. This process took weeks of hassling Groupon in order to finally get an email from a competent, caring supervisor. I bumped my rating up by one star for her since she made it right and I was able to use my Groupon bucks on another order and not lose my money.',\n",
       " 'They have Groupons posted for places that are out of business, they won’t refund your cash, so your money it’s stuck in their system as “ Groupon Bucks” they also sell Groupons to businesses that do not honor them, their whole approach to it is, it’s ok, we let you use the Groupon bucks for anything else, and they never expire! But these practices are not ok.  They provide a platform for businesses to get you on the hook but do not have any type of measures in place to protect their customers, and by the way, the Groupons to the “non existent “ businesses are still up and being offered. Even after they have been made aware that businesses are permanently closed. I believe that mistakes are made, and maybe they don’t have a way of ensuring the businesses are what they say they are ( which is very telling about where their priorities are, not take if care of customers) but once they are made aware of issues, the proper thing for a business would be to take the steps necessary to rectify the situation, in this case would be to remove the Groupon from the site. Bottom line, Groupon does not care about their customers, and do not check on anything they offer to make sure they are not placing customers in bad situations. And I’m this day and age, there are better and more reliable ways to get good deals.',\n",
       " 'Huge distaste for Groupon+. Please make this category somewhere on its own maybe. Maybe it\\'s just my platform on my iPhone 11, but when I click my stuff it will require me to enroll my card for free, but here\\'s what happened...went to driving range with some guys with a nice deal. Get there and it\\'s a black hole for cell reception, click my stuff and I get the Groupon+ popup and I can\\'t deny it, so I am forced to hit \"enroll for free\" even though I could care less about it, but with no internet connection it will say \"could not link try again later\" and go back to the main pop up page preventing me from viewing my already purchased deal....So guess who couldn\\'t use their Groupon that night....me. Some other guys said it was really weird. I connected it at home then it happened again just today. I was just trying to show a friend a deal and it was asking me to enroll my card...already did that over wifi the night of the golfing incident when I got home. So, I like Groupon and the cool deals you find, but absolutely hate Groupon plus. At least give me an c in the corner to close that retarded pop up about it or give me an \"enroll later\" button don\\'t force it. You\\'ll turn your good app into junk.',\n",
       " 'I’m disappointed that my money couldn’t be refunded. I purchased this Groupon of three massages on 7/27 that were good through sometime in November. Four days later the massage therapy place had a change in ownership and the new ownership was unable to accept the Groupon. The new ownership offered to match the price I paid but seeing how I can not be refunded that won’t be happening. I think it’s unacceptable that Groupon will not refund the amount on my card when I am physically un able to cash in for these massages. Groupon should be aware of the change of ownership and have not been putting me in a situation where I was literally unable to utilize my purchase. I settled for “Groupon bucks” which I am dissatisfied with. There are no other purchases I am interested in making aside from that massage. Since my hand was forced, I will have to spend my $95 and some odd change of “Groupon bucks” on some crap that I do not want, and then I will delete the app forever. On top of that, reaching costumer service was incredibly difficult to achieve in itself. Live chat was “turned off” during business hours and I had to google other costumer experiences just to figure out find a way to come in contact with someone. I’m sure it was designed to be difficult. Completely dissatisfied and I will be letting everyone who is willing to hear about my un happy experience.',\n",
       " 'I have used Groupon for years without an issue. My sister gifted me a massage, which I tried to book for MONTHS and finally it expired. ‘Promotional value expires, amount paid never expires’ so I tried to use the amount paid ($150) but the vendor said they will not honor the amount paid. So I contacted Groupon and they won’t even speak to me cause it was a gift and I didn’t purchase it. They ended up refunding my sister (she was annoyed because she didn’t want to deal with it again) but she worked with me. We picked another place and she got me the Groupon, I contact the vendor for a hair salon and she said Groupon doesn’t pay her and she will not take the Groupon because she working for free. This vendor should be REMOVED from the Groupon option so no one else is fraudulently purchasing groupons and then stuck with ‘Groupon Bucks’. And now they are giving my sister the money back again but as bucks that can be spent within 24 hours.  customer service said contact the vendor BEFORE purchasing to make sure they Accept the Groupon. IF THEY DONT ACCEPT THE GROUPON THEY SHOULD NOT BE FOR SALE ON GROUPON!!! Also if someone gifts you a gift, than stop bothering the purchaser of said gift and deal with the person who was given the gift. \\nHopefully I can’t use this $150 and never use this fraudulent company again. Service shouldn’t end when you take our money Groupon!',\n",
       " 'Although I love the idea of saving moneys and can’t pass up a good deal, I don’t know if I will continue using Groupon due to their serious lack of adequate customer service. It is RIDICULOUS how hard it is to get in contact with anyone at this company. I would rather sit on hold for 45 min than wait around all day for a representative to call me back. Their live chat never seems to be an option, and I haven’t tried the email option because my issue is slightly more complicated than a simple one email response, so I don’t want to spend all week emailing back and forth. I have never seen another company operate with this type of customer support and with a company this large you think it would be as simple as providing a customer service phone number to contact. Seriously frustrating and disappointed with the lack of service!!! I’d rather pay full price than have issues using my Groupons and spend hours of my time trying to get help resolving them. \\n\\nI may have even more bad things to say when someone from this company finally gets in contact with me. But for now I’ll spend another day of my week waiting for a representative to call me back, since the last time they never did... even though their website says they contact you within the hour ... BS!',\n",
       " 'First time using this app and it was a bad experience! It was my daughters birthday and I wanted to take her to the aquarium. It’s super expensive so I was trying to find a way to afford to take her. Found the Groupon app and saw it was on there. Purchased it and then after it showed me I had to make a reservation, which wasn’t available that day. So immediately went in and asked for a refund to my original payment method. The voucher hadn’t even been fully processed yet so it said it would refund the money. It even said refunded under the voucher title. A few days later something told me to go in and check to make sure it was taken care of, and what do you know, it magically went back to not being refunded! So I finally, after a long search, found a chat with customer support option. I explained everything to her and she said all they could do is refund it to Groupon bucks. I proceeded to tell her that it showed as refunded, then somehow changed, odd how that happened and now your company gets to keep the money . Strange! She then said she would go ahead and give me a full refund. I thanked her for doing the right thing, then checked the email and saw I only got a partial refund! Thanks for screwing is out of our hard earned money and money that could’ve been spent on my daughters birthday!',\n",
       " 'I love getting great deals, but find that all hair dressers charge you $20 -$40 more when you get there for things thatthe groupon offer should include. Like toner for the hair color, etc. So call ahead to get your numbers ahead of time. Otherwise you’ll be surprised. Also, don’t be surprised if you call ahead of buying and the participant says they’ll honor the Groupon price if you pay them directly. They do this because groupon needs to take a percentage out of their already discounted fee. If you buy 20 units of botox, xeomin expect to be upsold by the therapist 20 more units at a higher price. Again, they are trying to recoup the $ they have invested in Groupon fees and your large initial discount. I don’t blame them, but now I’m better informed. Once a massage therapist DIDN’T charge me for anything extra, and I rewarded her with a $30 tip for her honesty and ethic. The Rosen Spa and other fancy hotels will charge you minimum $20 in tip no matter what you purchase or at what price. So be ready! Being informed about all these extra fees means enjoying Groupon!!',\n",
       " 'I love Groupon when it comes to sales, but it has a very bad communication system. It is so frustrating when you accidentally buy two things at the same time of the same color pretty pricey, on top of all the other things you’re also buying is not just one thing that you’re buying, I’m getting comforters pillows activities like parachuting etc.. Right before it was too late I have bought things twice and it is impossible to get in contact with somebody on time to be able to get a refund on something, I even wrote on the review inside the group an item “ can somebody please help me find a way to get a refund?“ That’s in a review because there is absolutely no way to get somebody to talk to you on the phone, live chat, or even an option a button that gives you “cancel order, click for a refund” unless the merchant has a phone number. I want to give Groupon a 5 star. But the system need human beings to communicate and help us get refunds, not just like “oh too bad! Your mistake haha our money now!” Because I don’t even remember clicking twice on it, I must’ve accidentally pressed something that doubled the order, anyway I just want to communicate with somebody when I want to get a refund, or exchange an item it’s not easy to find a button is very frustrating.',\n",
       " 'I have never had a problem that was not satisfactorily resolved over the course of numerous Groupon orders. (Let\\'s face it, sometimes \"stuff\" happens- often due to poor/mis-design of the Order fulfillment systems, not human error, or flat-out bad/fraudulent business practices). Items usually arrive within 5 to 7 working days and are generally or exactly- in the case of definable beyond words and a picture items like a refurbished robot vacuum- as described. good source of attractively priced items that are often something that I have been thinking of buying, but haven\\'t liked pricing or shipping costs that I have found until seeing a Groupon offering. Some (most) tech items will be prior versions- like a \"Ring\" brand doorbell (why do you think the price is so low?), so know this going in. If it is computer related and you run Apple, check and be sure it will work with your system. I am still trying to resolve installation problems with a Wi-Fi extender that came with inadequate installation software.\\nCustomer service is very e-friendly, responsive, and easy to work with.\\nSatisfied customer.',\n",
       " 'I purchased a groupon for a keratin treatment at style@ben salon in midtown. When I called the salon to make the appointment, I first tried the phone number on the voucher that belonged to someone’s personal cell (this person was in no way affiliated with style@ben). So I turned to yelp to find the salon’s actual number and was told that they do not offer keratin treatments through Groupon. I informed him that I had already paid for the Groupon but he was clear and finite that Groupon had made a mistake and the salon only offers a haircut/blowout deal. I then turned back to Groupon to contact customer service but, of course, there’s no phone number to call so I settled for the online chat with a customer service rep. She was perfectly apologetic and prompt in her communications. She explained my options (after ignoring my request for a full refund) and I decided to trade in the Groupon for another salon’s keratin offer. The issue is that I paid $99 for the initial Groupon and only received $87 in “Groupon bucks.” I should not be held financially accountable for any of the oversights, miscommunications, or mistakes that were made by both the salon and Groupon. (Though the responsibility ultimately rests on Groupon.) I am extremely disappointed in the customer service I received while trying to resolve this matter. All of the roadblocks and the end result make this feel like a scam.',\n",
       " 'I discovered this item when searching for it specifically using Google, Shopping.  40%\\nOff the regular price. Critical item to have if having major breathing problems, like if you have a bad case of COVID-19.  This is the type that you simply put on your fingertip, like they use if you are hospitalized.\\n\\nBought extras for people like my 85 year old mother.  Heck, she couldn’t even find a thermometer for sale with the help of her other two kids and her neighbors in Phoenix area.  Of course these Groupon meters haven’t been delivered yet, but since all of us are acting as if EVERYONE who we know and encounter could be infectious, we shouldn’t need them anytime soon.  We pray that we will likely not catch this virus ... but none of us really never know!  Until recently, we were all told that we could catch it by touching something contaminated then touching our faces. Now suddenly we are told that breathing in the air of other who are within 6 feet is the likely method of infection. Yet many scientists now say 6 feet isn’t enough if indoors.  Ugh!',\n",
       " 'I am extremely disappointed with Groupons service. Their customer service is only available through email and even the managers refuse to co tact you via phone. They are incredibly rude and have no desire to help you. They take half the cost of your Groupon from the business and will never refund more then half your cost. They also only provide Groupon bucks back. My husband and I booked a beautiful hotel via their site and trusted that it was accurately represented- nope. Not at all. The pictures looked 5 stars. The reality was an awful hotel staff. A hallway without AC that smelled of mold. A hotel room with a loud, broken AC. We called the hotel staff 5 times within our first hour begging to have our room changed due to the broke , loud AC and they refused. I finally spoke to the manager that promised to refund our cost due to all the trouble and allowed us to leave the hotel to find a different place to stay. I was guaranteed Groupon would refund my full cost to my credit card and would easily see it in the system. Well, after 4 week of emailing Groupon, since they don’t provide a phone number and refuse to call you, they refuse to provide any customer service. They will not refund this awful experience. I will not be shopping with Groupon again. What a terrible company that has no care for what they advertise. Such lies and awful service.',\n",
       " 'Groupon gives poor or temporarily financially tight people a chance to enjoy a smidgeon or a bigger chunk of the good life or creative life or the financial relief of being able to afford or indulge in some entity or sport that one could just not afford for their kids or grandkids or for their friends or themselves. Groupon is a great idea. I just get worried though that when I buy a Groupon special offer that the people I’m patronizing or simply buying it from through Groupon will or might give me a cheaper or watered down deal because I bought it through Groupon instead of buying it directly. There’s an invisible financial or aura of contraction in the atmosphere when you buy something through Groupon. There is nothing wrong with Groupon. Groupon in its mission is a very good one. You just hope the retailers and service providers it has contractual deals with give you as high quality and unwatered down a deal as if they were selling it at their usual full freight price. Long live Groupon for financially struggling people. The rich don’t need it and shouldn’t tie it up and use up the Groupon allotted amounts for themselves.',\n",
       " 'I began to use Groupon sometimes last year and at first viewed all the deals with a cloud of a doubt, relying on an old saying “ if it looks too good, then it is too good to be true”. However, I kept my eyes open for a while on a spa deals, women clothing( especially underwear 😜, I’m secretly a lingerie fanatic) and other miscellaneous items. Not only deals became more affordable, but they sharpened up in attracting me even more. I finally man up to buy a couple of packages and can’t be happier with them!!! For real, vendors welcome customers with coupons very friendly and provide top of the line service. The app cleverly filters out local offers from more geographically undesirables. That’s the first thing I recommend to new users to set up their location preferences and the results for your keyword search will start pouring like Niagara’s Waterfalls...... 😂 lol I highly advise others to upload the app and not to spend another dollar anywhere, before confirming the price with Groupon’s deals!!! Great job, team Groupon!!! Work very well done!!!👍',\n",
       " 'I used to use groupon all the time. It’s been a while and yesterday I purchased a couples massage from the us in usd for Canada. I thought that was amazing! Then my girlfriend stated “be careful, they double charge me all the time.” I figured it had either been fixed by now or since I never had it happen, most likely it wouldn’t. Today I fly out to Canada and as I’m tying up some loose ends, I see an alert that Groupon took a 2nd dip into my account. Totally uninitiated and definitely without my consent. This took everything down to my last dollar out of my account and I’ve spent the last hour scrambling to get money reloaded on my card for my Uber to the airport so I don’t miss my flight. While I did request a refund, I’m hoping it wasn’t for the voucher I’d already booked an appointment for and getting ahold of customer service is literally impossible. No human to get on the phone. They advertise live chat (which was pulling teeth to find access to) just to be told no agents available and there was no que. I had to send an email. No telling when I’ll hear back or get my money back that I NEED for my trip. What a rip off. I’m sure plenty people are getting scammed if they don’t check their statements. My review will remain one star until this scam is corrected. I say scam because it’s clearly a known issue and it’s not fixed.',\n",
       " 'Went out to dinner to local restaurant but before I left I purchased a Groupon. My husband and I ordered all her food, ate dinner & when the bill came I tried to open the app and it would not open on my phone it kept giving me an error message. Restaurant said they couldn’t do anything without the Groupon. So I ended up spending the money on the Groupon as well as all the money for the food at a restaurant I wouldn’t normally eat at. \\nI contacted Groupon’s customer support staff and 2 days later they emailed me back that because of the fine print they could not refund me. They gave me a five dollar bonus credit on app.  I can’t believe how ridiculous that is, because their application malfunction now I’m out the money and they’re blaming it on the fine print. If your app doesn’t work it should be the responsibility of the company not on the customer. I took screenshots of the error messages and all the times I tried to login. I also have copy of us paying full price for the meal with all the matching times on it.\\nI told Groupon customer service because of our experience (not todo with Groupon) we never want to eat at this restaurant again so the Groupon now has no value to us. \\nI’m very disappointed in Groupon and don’t want this error message to happen to anyone else!',\n",
       " 'I booked a hotel through Groupon back in February for a March concert. When corona hit I had to cancel because of course everything was canceled. So I called the hotel I booked, cancelled through there, no problem at all, but was told I also have to cancel through Groupon, so I went through Groupon chat because their phones were so busy due to the virus which no problem at all. \\nBut of course once I got to the chat, it was SUCH A CHORE! For them to find my order, I took multiple screen shots of my order, plus took screen shots of my bank statement on the day I made the Groupon purchase for proof! And they STILL couldn’t find my order  said they would email me. I waited about a week, then finally I get an email stating I had two accounts some how, that I just needed to delete one that was not associated with the order, they also sent me another email after that one asking if I had got the prior email, so figured finally we were getting somewhere! nope I was wrong, because I went ahead and got rid of the account that the order was not associated with, emailed them back and let them know TWICE and still, I have not received an email or my 72$ back since and this was last Saturday March 21st. For a first time Groupon user, I am extremely disappointed and will not be using Groupon ever again.',\n",
       " 'Absolutely the worst company I have ever had the displeasure of dealing with. My family and I purchased a Groupon for a maid and scheduled a cleaning service with the company for a week and a half after the purchase day. No one ever shows up and the maid service told us we would have to be refunded through Groupon. We contacted Groupon and explained what had happened, that the company had charged us for services that were never performed. Groupon replied that the refund request needed to have come three days after the purchase date or they would not honor it. We then explained again and again that we had booked the service for a week and a half after the purchase date, and could not have known that the company would not uphold their end of the deal. It took days of going back and forth with different people via email ( because no one would talk to me on the phone or provide any contact number) and they ended up telling us they would not refund us. As a customer who paid for something never received, I could not have been more disappointed and disgusted by the way Groupon handled this. Absolutely a WASTE of my time and money. Skip the middle man, Groupon will only result in problems not worth dealing with.']"
      ]
     },
     "execution_count": 28,
     "metadata": {},
     "output_type": "execute_result"
    }
   ],
   "source": [
    "list(data[\"review\"][:50])"
   ]
  }
 ],
 "metadata": {
  "kernelspec": {
   "display_name": "Python 3 (ipykernel)",
   "language": "python",
   "name": "python3"
  },
  "language_info": {
   "codemirror_mode": {
    "name": "ipython",
    "version": 3
   },
   "file_extension": ".py",
   "mimetype": "text/x-python",
   "name": "python",
   "nbconvert_exporter": "python",
   "pygments_lexer": "ipython3",
   "version": "3.11.4"
  }
 },
 "nbformat": 4,
 "nbformat_minor": 5
}
