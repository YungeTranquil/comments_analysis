{
 "cells": [
  {
   "cell_type": "code",
   "execution_count": 1,
   "id": "3cc3c5e1-7125-4e60-abbf-eda152d407a7",
   "metadata": {},
   "outputs": [],
   "source": [
    "import requests\n",
    "import requests_cache\n",
    "import json\n",
    "import sys\n",
    "import os\n",
    "\n",
    "from bs4 import BeautifulSoup\n",
    "\n",
    "requests_cache.install_cache('moz',backend='filesystem')\n",
    "\n",
    "\n",
    "def fetchUrl(url,cookies=None):\n",
    "    \"\"\"\n",
    "    Fetches content from a URL using a GET request with custom User-Agent and cookies.\n",
    "    \"\"\"\n",
    "    # Ensure headers and cookies are dictionaries, if not provided, initialize as empty dicts\n",
    "    user_agent = \"Mozilla/5.0 (Windows NT 10.0; Win64; x64) AppleWebKit/537.36 (KHTML, like Gecko) Chrome/58.0.3029.110 Safari/537.3\"\n",
    "    headers = {\"User-Agent\": user_agent}\n",
    "    if cookies is None:\n",
    "        cookies = {}\n",
    "    \n",
    "    # Perform the GET request\n",
    "    response = requests.get(url, headers=headers, cookies=cookies)\n",
    "    \n",
    "    return response\n",
    "\n",
    "def moz_cookie_manage():\n",
    "    \"\"\"save cookie from https://moz.com/domain-analysis\"\"\"\n",
    "    with open(\"moz-2.json\",\"r\") as file:\n",
    "        cookies = json.loads(file.read())\n",
    "        cookies = cookies[\"cookies\"]\n",
    "    return cookies\n",
    "\n",
    "def queryMoz(domain,cache_disable=False):\n",
    "\n",
    "\n",
    "    url = f\"https://moz.com/domain-analysis?site={domain}\"\n",
    "    user_agent = \"Mozilla/5.0 (Windows NT 10.0; Win64; x64) AppleWebKit/537.36 (KHTML, like Gecko) Chrome/58.0.3029.110 Safari/537.3\"\n",
    "    headers = {\"User-Agent\": user_agent}\n",
    "    cookies = moz_cookie_manage()\n",
    "\n",
    "    cookies_moz = {cookie[\"name\"]:cookie[\"value\"] for cookie in cookies}\n",
    "    columns = [\"Domain Authority\",\"Linking Root Domains\",\"Ranking Keywords\",\"Spam Score\"]\n",
    "    if cache_disable:\n",
    "         with requests_cache.disabled():\n",
    "            response = fetchUrl(url,cookies=cookies_moz)\n",
    "    else:\n",
    "        response = fetchUrl(url,cookies=cookies_moz)\n",
    "    output_list = [item.text for item in BeautifulSoup(response.content, features=\"lxml\").find_all(\"h1\")[1:]]\n",
    "    return {key:value for key,value in zip(columns,output_list)}\n",
    "        #else:\n",
    "         #   print(\"Cookies Expired\")\n",
    "        \n",
    "def create_session():\n",
    "    \"\"\"\n",
    "    Create a session object with a custom User-Agent to persist cookie state.\n",
    "    \"\"\"\n",
    "    user_agent = \"Mozilla/5.0 (Windows NT 10.0; Win64; x64) AppleWebKit/537.36 (KHTML, like Gecko) Chrome/58.0.3029.110 Safari/537.3\"\n",
    "    session = requests.Session()\n",
    "    session.headers.update({\"User-Agent\": user_agent})\n",
    "    return session\n",
    "\n",
    "def query_moz(domain, session):\n",
    "    \"\"\"\n",
    "    Query Moz for domain analysis, using a session to maintain cookie state.\n",
    "    \"\"\"\n",
    "    url = f\"https://moz.com/domain-analysis?site={domain}\"\n",
    "    cookies = moz_cookie_manage()\n",
    "\n",
    "    cookies_moz = {cookie[\"name\"]:cookie[\"value\"] for cookie in cookies}\n",
    "    \n",
    "    # Use the session to make a GET request\n",
    "    response = session.get(url, cookie)\n",
    "    \n",
    "    # Check the response status\n",
    "    if response.status_code != 200:\n",
    "        print(f\"Failed to fetch {url}: Status code {response.status_code}\")\n",
    "        return None\n",
    "\n",
    "    # Parse the HTML content using BeautifulSoup if needed\n",
    "    soup = BeautifulSoup(response.text, 'html.parser')\n",
    "    output_list = [item.text for item in BeautifulSoup(response).find_all(\"h1\")[1:]]\n",
    "        #output_list = [item.text for item in BeautifulSoup(response.text).find_all(\"h1\")[1:]]\n",
    "        #if len(output_list) != 0:\n",
    "    columns = [\"Domain Authority\",\"Linking Root Domains\",\"Ranking Keywords\",\"Spam Score\"]\n",
    "    if output_list:\n",
    "        return {key:value for key,value in zip(columns,output_list)}\n",
    "    "
   ]
  },
  {
   "cell_type": "code",
   "execution_count": 9,
   "id": "5f5115fc-0fa8-4721-9fba-3342dd4f3abe",
   "metadata": {},
   "outputs": [
    {
     "name": "stdout",
     "output_type": "stream",
     "text": [
      "Failed to fetch https://moz.com/domain-analysis?site=apple.com: Status code 403\n"
     ]
    },
    {
     "ename": "TypeError",
     "evalue": "object of type 'OriginalResponse' has no len()",
     "output_type": "error",
     "traceback": [
      "\u001b[1;31m---------------------------------------------------------------------------\u001b[0m",
      "\u001b[1;31mTypeError\u001b[0m                                 Traceback (most recent call last)",
      "Cell \u001b[1;32mIn[9], line 21\u001b[0m\n\u001b[0;32m     19\u001b[0m \u001b[38;5;66;03m# Parse the HTML content using BeautifulSoup if needed\u001b[39;00m\n\u001b[0;32m     20\u001b[0m soup \u001b[38;5;241m=\u001b[39m BeautifulSoup(response\u001b[38;5;241m.\u001b[39mtext, \u001b[38;5;124m'\u001b[39m\u001b[38;5;124mhtml.parser\u001b[39m\u001b[38;5;124m'\u001b[39m)\n\u001b[1;32m---> 21\u001b[0m output_list \u001b[38;5;241m=\u001b[39m [item\u001b[38;5;241m.\u001b[39mtext \u001b[38;5;28;01mfor\u001b[39;00m item \u001b[38;5;129;01min\u001b[39;00m BeautifulSoup(response)\u001b[38;5;241m.\u001b[39mfind_all(\u001b[38;5;124m\"\u001b[39m\u001b[38;5;124mh1\u001b[39m\u001b[38;5;124m\"\u001b[39m)[\u001b[38;5;241m1\u001b[39m:]]\n\u001b[0;32m     22\u001b[0m     \u001b[38;5;66;03m#output_list = [item.text for item in BeautifulSoup(response.text).find_all(\"h1\")[1:]]\u001b[39;00m\n\u001b[0;32m     23\u001b[0m     \u001b[38;5;66;03m#if len(output_list) != 0:\u001b[39;00m\n\u001b[0;32m     24\u001b[0m columns \u001b[38;5;241m=\u001b[39m [\u001b[38;5;124m\"\u001b[39m\u001b[38;5;124mDomain Authority\u001b[39m\u001b[38;5;124m\"\u001b[39m,\u001b[38;5;124m\"\u001b[39m\u001b[38;5;124mLinking Root Domains\u001b[39m\u001b[38;5;124m\"\u001b[39m,\u001b[38;5;124m\"\u001b[39m\u001b[38;5;124mRanking Keywords\u001b[39m\u001b[38;5;124m\"\u001b[39m,\u001b[38;5;124m\"\u001b[39m\u001b[38;5;124mSpam Score\u001b[39m\u001b[38;5;124m\"\u001b[39m]\n",
      "File \u001b[1;32m~\\anaconda3\\Lib\\site-packages\\bs4\\__init__.py:310\u001b[0m, in \u001b[0;36mBeautifulSoup.__init__\u001b[1;34m(self, markup, features, builder, parse_only, from_encoding, exclude_encodings, element_classes, **kwargs)\u001b[0m\n\u001b[0;32m    308\u001b[0m \u001b[38;5;28;01mif\u001b[39;00m \u001b[38;5;28mhasattr\u001b[39m(markup, \u001b[38;5;124m'\u001b[39m\u001b[38;5;124mread\u001b[39m\u001b[38;5;124m'\u001b[39m):        \u001b[38;5;66;03m# It's a file-type object.\u001b[39;00m\n\u001b[0;32m    309\u001b[0m     markup \u001b[38;5;241m=\u001b[39m markup\u001b[38;5;241m.\u001b[39mread()\n\u001b[1;32m--> 310\u001b[0m \u001b[38;5;28;01melif\u001b[39;00m \u001b[38;5;28mlen\u001b[39m(markup) \u001b[38;5;241m<\u001b[39m\u001b[38;5;241m=\u001b[39m \u001b[38;5;241m256\u001b[39m \u001b[38;5;129;01mand\u001b[39;00m (\n\u001b[0;32m    311\u001b[0m         (\u001b[38;5;28misinstance\u001b[39m(markup, \u001b[38;5;28mbytes\u001b[39m) \u001b[38;5;129;01mand\u001b[39;00m \u001b[38;5;129;01mnot\u001b[39;00m \u001b[38;5;124mb\u001b[39m\u001b[38;5;124m'\u001b[39m\u001b[38;5;124m<\u001b[39m\u001b[38;5;124m'\u001b[39m \u001b[38;5;129;01min\u001b[39;00m markup)\n\u001b[0;32m    312\u001b[0m         \u001b[38;5;129;01mor\u001b[39;00m (\u001b[38;5;28misinstance\u001b[39m(markup, \u001b[38;5;28mstr\u001b[39m) \u001b[38;5;129;01mand\u001b[39;00m \u001b[38;5;129;01mnot\u001b[39;00m \u001b[38;5;124m'\u001b[39m\u001b[38;5;124m<\u001b[39m\u001b[38;5;124m'\u001b[39m \u001b[38;5;129;01min\u001b[39;00m markup)\n\u001b[0;32m    313\u001b[0m ):\n\u001b[0;32m    314\u001b[0m     \u001b[38;5;66;03m# Print out warnings for a couple beginner problems\u001b[39;00m\n\u001b[0;32m    315\u001b[0m     \u001b[38;5;66;03m# involving passing non-markup to Beautiful Soup.\u001b[39;00m\n\u001b[0;32m    316\u001b[0m     \u001b[38;5;66;03m# Beautiful Soup will still parse the input as markup,\u001b[39;00m\n\u001b[0;32m    317\u001b[0m     \u001b[38;5;66;03m# just in case that's what the user really wants.\u001b[39;00m\n\u001b[0;32m    318\u001b[0m     \u001b[38;5;28;01mif\u001b[39;00m (\u001b[38;5;28misinstance\u001b[39m(markup, \u001b[38;5;28mstr\u001b[39m)\n\u001b[0;32m    319\u001b[0m         \u001b[38;5;129;01mand\u001b[39;00m \u001b[38;5;129;01mnot\u001b[39;00m os\u001b[38;5;241m.\u001b[39mpath\u001b[38;5;241m.\u001b[39msupports_unicode_filenames):\n\u001b[0;32m    320\u001b[0m         possible_filename \u001b[38;5;241m=\u001b[39m markup\u001b[38;5;241m.\u001b[39mencode(\u001b[38;5;124m\"\u001b[39m\u001b[38;5;124mutf8\u001b[39m\u001b[38;5;124m\"\u001b[39m)\n",
      "\u001b[1;31mTypeError\u001b[0m: object of type 'OriginalResponse' has no len()"
     ]
    }
   ],
   "source": [
    "user_agent = \"Mozilla/5.0 (Windows NT 10.0; Win64; x64) AppleWebKit/537.36 (KHTML, like Gecko) Chrome/58.0.3029.110 Safari/537.3\"\n",
    "session = requests.Session()\n",
    "session.headers.update({\"User-Agent\": user_agent})\n",
    "\n",
    "domain = \"apple.com\"\n",
    "url = f\"https://moz.com/domain-analysis?site={domain}\"\n",
    "cookies = moz_cookie_manage()\n",
    "\n",
    "cookies_moz = {cookie[\"name\"]:cookie[\"value\"] for cookie in cookies}\n",
    "\n",
    "# Use the session to make a GET request\n",
    "response = session.get(url, cookies= cookies_moz)\n",
    "\n",
    "# Check the response status\n",
    "if response.status_code != 200:\n",
    "    print(f\"Failed to fetch {url}: Status code {response.status_code}\")\n",
    "\n",
    "\n",
    "# Parse the HTML content using BeautifulSoup if needed\n",
    "soup = BeautifulSoup(response.text, 'html.parser')\n",
    "output_list = [item.text for item in BeautifulSoup(response).find_all(\"h1\")[1:]]\n",
    "    #output_list = [item.text for item in BeautifulSoup(response.text).find_all(\"h1\")[1:]]\n",
    "    #if len(output_list) != 0:\n",
    "columns = [\"Domain Authority\",\"Linking Root Domains\",\"Ranking Keywords\",\"Spam Score\"]\n",
    "if output_list:\n",
    "    return {key:value for key,value in zip(columns,output_list)}"
   ]
  },
  {
   "cell_type": "code",
   "execution_count": 10,
   "id": "99e5a60f-85db-4011-a385-fab4e37ccc42",
   "metadata": {},
   "outputs": [
    {
     "data": {
      "text/plain": [
       "<!DOCTYPE html>\n",
       "<html lang=\"en-US\"><head><title>Just a moment...</title><meta content=\"text/html; charset=utf-8\" http-equiv=\"Content-Type\"/><meta content=\"IE=Edge\" http-equiv=\"X-UA-Compatible\"/><meta content=\"noindex,nofollow\" name=\"robots\"/><meta content=\"width=device-width,initial-scale=1\" name=\"viewport\"/><style>*{box-sizing:border-box;margin:0;padding:0}html{line-height:1.15;-webkit-text-size-adjust:100%;color:#313131}button,html{font-family:system-ui,-apple-system,BlinkMacSystemFont,Segoe UI,Roboto,Helvetica Neue,Arial,Noto Sans,sans-serif,Apple Color Emoji,Segoe UI Emoji,Segoe UI Symbol,Noto Color Emoji}@media (prefers-color-scheme:dark){body{background-color:#222;color:#d9d9d9}body a{color:#fff}body a:hover{color:#ee730a;text-decoration:underline}body .lds-ring div{border-color:#999 transparent transparent}body .font-red{color:#b20f03}body .big-button,body .pow-button{background-color:#4693ff;color:#1d1d1d}body #challenge-success-text{background-image:url(data:image/svg+xml;base64,PHN2ZyB4bWxucz0iaHR0cDovL3d3dy53My5vcmcvMjAwMC9zdmciIHdpZHRoPSIzMiIgaGVpZ2h0PSIzMiIgZmlsbD0ibm9uZSIgdmlld0JveD0iMCAwIDI2IDI2Ij48cGF0aCBmaWxsPSIjZDlkOWQ5IiBkPSJNMTMgMGExMyAxMyAwIDEgMCAwIDI2IDEzIDEzIDAgMCAwIDAtMjZtMCAyNGExMSAxMSAwIDEgMSAwLTIyIDExIDExIDAgMCAxIDAgMjIiLz48cGF0aCBmaWxsPSIjZDlkOWQ5IiBkPSJtMTAuOTU1IDE2LjA1NS0zLjk1LTQuMTI1LTEuNDQ1IDEuMzg1IDUuMzcgNS42MSA5LjQ5NS05LjYtMS40Mi0xLjQwNXoiLz48L3N2Zz4=)}body #challenge-error-text{background-image:url(data:image/svg+xml;base64,PHN2ZyB4bWxucz0iaHR0cDovL3d3dy53My5vcmcvMjAwMC9zdmciIHdpZHRoPSIzMiIgaGVpZ2h0PSIzMiIgZmlsbD0ibm9uZSI+PHBhdGggZmlsbD0iI0IyMEYwMyIgZD0iTTE2IDNhMTMgMTMgMCAxIDAgMTMgMTNBMTMuMDE1IDEzLjAxNSAwIDAgMCAxNiAzbTAgMjRhMTEgMTEgMCAxIDEgMTEtMTEgMTEuMDEgMTEuMDEgMCAwIDEtMTEgMTEiLz48cGF0aCBmaWxsPSIjQjIwRjAzIiBkPSJNMTcuMDM4IDE4LjYxNUgxNC44N0wxNC41NjMgOS41aDIuNzgzem0tMS4wODQgMS40MjdxLjY2IDAgMS4wNTcuMzg4LjQwNy4zODkuNDA3Ljk5NCAwIC41OTYtLjQwNy45ODQtLjM5Ny4zOS0xLjA1Ny4zODktLjY1IDAtMS4wNTYtLjM4OS0uMzk4LS4zODktLjM5OC0uOTg0IDAtLjU5Ny4zOTgtLjk4NS40MDYtLjM5NyAxLjA1Ni0uMzk3Ii8+PC9zdmc+)}}body{display:flex;flex-direction:column;min-height:100vh}body.no-js .loading-spinner{visibility:hidden}body.no-js .challenge-running{display:none}body.dark{background-color:#222;color:#d9d9d9}body.dark a{color:#fff}body.dark a:hover{color:#ee730a;text-decoration:underline}body.dark .lds-ring div{border-color:#999 transparent transparent}body.dark .font-red{color:#b20f03}body.dark .big-button,body.dark .pow-button{background-color:#4693ff;color:#1d1d1d}body.dark #challenge-success-text{background-image:url(data:image/svg+xml;base64,PHN2ZyB4bWxucz0iaHR0cDovL3d3dy53My5vcmcvMjAwMC9zdmciIHdpZHRoPSIzMiIgaGVpZ2h0PSIzMiIgZmlsbD0ibm9uZSIgdmlld0JveD0iMCAwIDI2IDI2Ij48cGF0aCBmaWxsPSIjZDlkOWQ5IiBkPSJNMTMgMGExMyAxMyAwIDEgMCAwIDI2IDEzIDEzIDAgMCAwIDAtMjZtMCAyNGExMSAxMSAwIDEgMSAwLTIyIDExIDExIDAgMCAxIDAgMjIiLz48cGF0aCBmaWxsPSIjZDlkOWQ5IiBkPSJtMTAuOTU1IDE2LjA1NS0zLjk1LTQuMTI1LTEuNDQ1IDEuMzg1IDUuMzcgNS42MSA5LjQ5NS05LjYtMS40Mi0xLjQwNXoiLz48L3N2Zz4=)}body.dark #challenge-error-text{background-image:url(data:image/svg+xml;base64,PHN2ZyB4bWxucz0iaHR0cDovL3d3dy53My5vcmcvMjAwMC9zdmciIHdpZHRoPSIzMiIgaGVpZ2h0PSIzMiIgZmlsbD0ibm9uZSI+PHBhdGggZmlsbD0iI0IyMEYwMyIgZD0iTTE2IDNhMTMgMTMgMCAxIDAgMTMgMTNBMTMuMDE1IDEzLjAxNSAwIDAgMCAxNiAzbTAgMjRhMTEgMTEgMCAxIDEgMTEtMTEgMTEuMDEgMTEuMDEgMCAwIDEtMTEgMTEiLz48cGF0aCBmaWxsPSIjQjIwRjAzIiBkPSJNMTcuMDM4IDE4LjYxNUgxNC44N0wxNC41NjMgOS41aDIuNzgzem0tMS4wODQgMS40MjdxLjY2IDAgMS4wNTcuMzg4LjQwNy4zODkuNDA3Ljk5NCAwIC41OTYtLjQwNy45ODQtLjM5Ny4zOS0xLjA1Ny4zODktLjY1IDAtMS4wNTYtLjM4OS0uMzk4LS4zODktLjM5OC0uOTg0IDAtLjU5Ny4zOTgtLjk4NS40MDYtLjM5NyAxLjA1Ni0uMzk3Ii8+PC9zdmc+)}body.light{background-color:transparent;color:#313131}body.light a{color:#0051c3}body.light a:hover{color:#ee730a;text-decoration:underline}body.light .lds-ring div{border-color:#595959 transparent transparent}body.light .font-red{color:#fc574a}body.light .big-button,body.light .pow-button{background-color:#003681;border-color:#003681;color:#fff}body.light #challenge-success-text{background-image:url(data:image/svg+xml;base64,PHN2ZyB4bWxucz0iaHR0cDovL3d3dy53My5vcmcvMjAwMC9zdmciIHdpZHRoPSIzMiIgaGVpZ2h0PSIzMiIgZmlsbD0ibm9uZSIgdmlld0JveD0iMCAwIDI2IDI2Ij48cGF0aCBmaWxsPSIjMzEzMTMxIiBkPSJNMTMgMGExMyAxMyAwIDEgMCAwIDI2IDEzIDEzIDAgMCAwIDAtMjZtMCAyNGExMSAxMSAwIDEgMSAwLTIyIDExIDExIDAgMCAxIDAgMjIiLz48cGF0aCBmaWxsPSIjMzEzMTMxIiBkPSJtMTAuOTU1IDE2LjA1NS0zLjk1LTQuMTI1LTEuNDQ1IDEuMzg1IDUuMzcgNS42MSA5LjQ5NS05LjYtMS40Mi0xLjQwNXoiLz48L3N2Zz4=)}body.light #challenge-error-text{background-image:url(data:image/svg+xml;base64,PHN2ZyB4bWxucz0iaHR0cDovL3d3dy53My5vcmcvMjAwMC9zdmciIHdpZHRoPSIzMiIgaGVpZ2h0PSIzMiIgZmlsbD0ibm9uZSI+PHBhdGggZmlsbD0iI2ZjNTc0YSIgZD0iTTE2IDNhMTMgMTMgMCAxIDAgMTMgMTNBMTMuMDE1IDEzLjAxNSAwIDAgMCAxNiAzbTAgMjRhMTEgMTEgMCAxIDEgMTEtMTEgMTEuMDEgMTEuMDEgMCAwIDEtMTEgMTEiLz48cGF0aCBmaWxsPSIjZmM1NzRhIiBkPSJNMTcuMDM4IDE4LjYxNUgxNC44N0wxNC41NjMgOS41aDIuNzgzem0tMS4wODQgMS40MjdxLjY2IDAgMS4wNTcuMzg4LjQwNy4zODkuNDA3Ljk5NCAwIC41OTYtLjQwNy45ODQtLjM5Ny4zOS0xLjA1Ny4zODktLjY1IDAtMS4wNTYtLjM4OS0uMzk4LS4zODktLjM5OC0uOTg0IDAtLjU5Ny4zOTgtLjk4NS40MDYtLjM5NyAxLjA1Ni0uMzk3Ii8+PC9zdmc+)}a{background-color:transparent;color:#0051c3;text-decoration:none;transition:color .15s ease}a:hover{color:#ee730a;text-decoration:underline}.main-content{margin:8rem auto;max-width:60rem;width:100%}.heading-favicon{height:2rem;margin-right:.5rem;width:2rem}@media (width <= 720px){.main-content{margin-top:4rem}.heading-favicon{height:1.5rem;width:1.5rem}}.footer,.main-content{padding-left:1.5rem;padding-right:1.5rem}.main-wrapper{align-items:center;display:flex;flex:1;flex-direction:column}.font-red{color:#b20f03}.spacer{margin:2rem 0}.h1{font-size:2.5rem;font-weight:500;line-height:3.75rem}.h2{font-weight:500}.core-msg,.h2{font-size:1.5rem;line-height:2.25rem}.body-text,.core-msg{font-weight:400}.body-text{font-size:1rem;line-height:1.25rem}@media (width <= 720px){.h1{font-size:1.5rem;line-height:1.75rem}.h2{font-size:1.25rem}.core-msg,.h2{line-height:1.5rem}.core-msg{font-size:1rem}}#challenge-error-text{background-image:url(data:image/svg+xml;base64,PHN2ZyB4bWxucz0iaHR0cDovL3d3dy53My5vcmcvMjAwMC9zdmciIHdpZHRoPSIzMiIgaGVpZ2h0PSIzMiIgZmlsbD0ibm9uZSI+PHBhdGggZmlsbD0iI2ZjNTc0YSIgZD0iTTE2IDNhMTMgMTMgMCAxIDAgMTMgMTNBMTMuMDE1IDEzLjAxNSAwIDAgMCAxNiAzbTAgMjRhMTEgMTEgMCAxIDEgMTEtMTEgMTEuMDEgMTEuMDEgMCAwIDEtMTEgMTEiLz48cGF0aCBmaWxsPSIjZmM1NzRhIiBkPSJNMTcuMDM4IDE4LjYxNUgxNC44N0wxNC41NjMgOS41aDIuNzgzem0tMS4wODQgMS40MjdxLjY2IDAgMS4wNTcuMzg4LjQwNy4zODkuNDA3Ljk5NCAwIC41OTYtLjQwNy45ODQtLjM5Ny4zOS0xLjA1Ny4zODktLjY1IDAtMS4wNTYtLjM4OS0uMzk4LS4zODktLjM5OC0uOTg0IDAtLjU5Ny4zOTgtLjk4NS40MDYtLjM5NyAxLjA1Ni0uMzk3Ii8+PC9zdmc+);padding-left:34px}#challenge-error-text,#challenge-success-text{background-repeat:no-repeat;background-size:contain}#challenge-success-text{background-image:url(data:image/svg+xml;base64,PHN2ZyB4bWxucz0iaHR0cDovL3d3dy53My5vcmcvMjAwMC9zdmciIHdpZHRoPSIzMiIgaGVpZ2h0PSIzMiIgZmlsbD0ibm9uZSIgdmlld0JveD0iMCAwIDI2IDI2Ij48cGF0aCBmaWxsPSIjMzEzMTMxIiBkPSJNMTMgMGExMyAxMyAwIDEgMCAwIDI2IDEzIDEzIDAgMCAwIDAtMjZtMCAyNGExMSAxMSAwIDEgMSAwLTIyIDExIDExIDAgMCAxIDAgMjIiLz48cGF0aCBmaWxsPSIjMzEzMTMxIiBkPSJtMTAuOTU1IDE2LjA1NS0zLjk1LTQuMTI1LTEuNDQ1IDEuMzg1IDUuMzcgNS42MSA5LjQ5NS05LjYtMS40Mi0xLjQwNXoiLz48L3N2Zz4=);padding-left:42px}.text-center{text-align:center}.big-button{border:.063rem solid #0051c3;border-radius:.313rem;font-size:.875rem;line-height:1.313rem;padding:.375rem 1rem;transition-duration:.2s;transition-property:background-color,border-color,color;transition-timing-function:ease}.big-button:hover{cursor:pointer}.captcha-prompt:not(.hidden){display:flex}@media (width <= 720px){.captcha-prompt:not(.hidden){flex-wrap:wrap;justify-content:center}}.pow-button{background-color:#0051c3;color:#fff;margin:2rem 0}.pow-button:hover{background-color:#003681;border-color:#003681;color:#fff}.footer{font-size:.75rem;line-height:1.125rem;margin:0 auto;max-width:60rem;width:100%}.footer-inner{border-top:1px solid #d9d9d9;padding-bottom:1rem;padding-top:1rem}.clearfix:after{clear:both;content:\"\";display:table}.clearfix .column{float:left;padding-right:1.5rem;width:50%}.diagnostic-wrapper{margin-bottom:.5rem}.footer .ray-id{text-align:center}.footer .ray-id code{font-family:monaco,courier,monospace}.core-msg,.zone-name-title{overflow-wrap:break-word}@media (width <= 720px){.diagnostic-wrapper{display:flex;flex-wrap:wrap;justify-content:center}.clearfix:after{clear:none;content:none;display:initial;text-align:center}.column{padding-bottom:2rem}.clearfix .column{float:none;padding:0;width:auto;word-break:keep-all}.zone-name-title{margin-bottom:1rem}}.loading-spinner{height:76.391px}.lds-ring{display:inline-block;position:relative}.lds-ring,.lds-ring div{height:1.875rem;width:1.875rem}.lds-ring div{animation:lds-ring 1.2s cubic-bezier(.5,0,.5,1) infinite;border:.3rem solid transparent;border-radius:50%;border-top-color:#313131;box-sizing:border-box;display:block;position:absolute}.lds-ring div:first-child{animation-delay:-.45s}.lds-ring div:nth-child(2){animation-delay:-.3s}.lds-ring div:nth-child(3){animation-delay:-.15s}@keyframes lds-ring{0%{transform:rotate(0)}to{transform:rotate(1turn)}}@media screen and (-ms-high-contrast:active),screen and (-ms-high-contrast:none){.main-wrapper,body{display:block}}.rtl .heading-favicon{margin-left:.5rem;margin-right:0}.rtl #challenge-success-text{background-position:100%;padding-left:0;padding-right:42px}.rtl #challenge-error-text{background-position:100%;padding-left:0;padding-right:34px}</style><meta content=\"375\" http-equiv=\"refresh\"/></head><body class=\"no-js\"><div class=\"main-wrapper\" role=\"main\"><div class=\"main-content\"><noscript><div id=\"challenge-error-title\"><div class=\"h2\"><span id=\"challenge-error-text\">Enable JavaScript and cookies to continue</span></div></div></noscript></div></div><script>(function(){window._cf_chl_opt={cvId: '3',cZone: \"moz.com\",cType: 'managed',cNounce: '74049',cRay: '8768e677ec8b69b5',cHash: 'f03489f876c6693',cUPMDTk: \"\\/domain-analysis?site=apple.com&__cf_chl_tk=Jz6c14WRtAdMaqAAaRybAvrWeaYVRDMN49Hm1iYxprE-1713487824-0.0.1.1-1642\",cFPWv: 'g',cTTimeMs: '1000',cMTimeMs: '375000',cTplV: 5,cTplB: 'cf',cK: \"visitor-time\",fa: \"\\/domain-analysis?site=apple.com&__cf_chl_f_tk=Jz6c14WRtAdMaqAAaRybAvrWeaYVRDMN49Hm1iYxprE-1713487824-0.0.1.1-1642\",md: \"zoM42_SOB40vQof8r6M7au3CkJyEx2DdZ.r9.3fZ1p0-1713487824-1.1.1.1-AT7UttO8kTPoqLjX8kl_vD_POvUED8_TTiKKnT_xeBv9fvd.2OGOKl2V76ZKJKyJVBk.GFH5CZCAiIYxi4SF342WTLnxh9cA8n8.h4nGAbJZbZUH3ybq.L7I6Wc0u3tchq1KZNIsK9KOYdXtGkBRieOiCPC0sDsONUvfR3zDrpPAbzkQSndHz211A98MqzZe1jRj3G7bSwktfXE7BSgxwjYJBdPuhfrhZoO0K3LnXISO6rshX91BGhvDyvrHB26rGXJ_GjCfCochqrQqoI9ZJRuPDmYgraOPg5jxzxtflyk2.ar261sjDzBfqn5PyNjRXVW7F9vWzZuBRAut9lan1AGqyHRXBiqVc6Vl9W8L10GPVcgjwgsES2Od2LepAYDPcg2HSsagiAcyrvOsFosBxqRK.wUcD5GOtb.IYjwpre.FZSKxENusImaVqKV8oIvAMbeTMQ7.cyt5AJnokY.WjTH29Xq3lfDSEhuXt__g6t3LnvShTn9yIosU3x_5jMDVLENTl1ZiFh.chquJaFV0ByNQ_HgOYdoTzVcwxlI6mSyU1HWN_5xexVLncqwVT.exErbIJlbUQfbsKRNpi8UrpX1.Z2eKlSrzaOV6el2Ebf3sMzf0f5ljXEvr6ZGIpHILQfzDgPiqxMCGiPKP5h9VYTkgYB.JNbBBBUVY8rdT3T_mQQFH1VI_X8RPonuL5t6rs46RetJG1xWapim7dXcvLTwS4gXi7zHGE0NlaFIhyXrWLuaVzGjyVlOjKh897eNxHKvcgcWfnQjah_LYWLEO0I7iPDufqg.9LYpKNdqhuYOwPK0Xfm7_em4FfHIIhd9DQnB2YTTwtUXTB4TadF8xbylYTnH2cbJTaVr_JC.Esrdwm9VHH8nxX5t5S18qmbOtVhRU1oJDTN.PdmEeKPywrspPhQocje8SKO9tbHWKcLGju71iYpmDuXB3KnxkcaEBOaQju4qILcfXsDbwb0PjKJO5GrHdzRcU0MxlZ8gv_0yQu1zmEBne6MAUQo96ps83JLzmkprbkbNhuhSvRrI31igZ3DrDkdYsaT0zZW1MjUOkC44RFtMZ0iIZ.4qlaQFtUlGnccGlsjwsbH2SH7g0Uo.tNFyp7ZwYUQrpMvjXgvGr58qtoGM4tO5gCaKVpU7Tt9BzFoEjszwwh_Z3UPjhVywwRiAASfXgCTAFjsZeJamfEFp8E3.GU5xbYOrq2GzQb5FZ6gMEVknIwQmxqAYfy_.gSHtdi.jYHecfDK5sDPaamBNy7e3qXmY_nSyp1nRA8x8u2mJuH4d.92bPVgls9SIvP8BbVZaFjOhjH.9q29ECeGAY5rK1aAFHMQiP7d0bF8vBatIFSGOSDCyLX.XyiqrAYktEfB_1yh3mmFRCcJQrmfxWUFKOeebTFGnzqx4yZPN4d.5cmRYtL_ybtYunz63gaS7_4sbDbWCQqU7kKfMN0yXYao_rXhlvNNkyfJ_tRTaFTKlyM.cDFRx8pVsXMXp3NeBgliNQwkCHzdfNXYpTIykkpTvz0LbOn1ZGZ7fhoYmFvhp8mQoyJh_eSN_77YL0rcU75V8YckValqgY_Y4\",mdrd: \"dFpBsKETp0GdL.iNB_aLsxh5lZRaZPaM56ww5N2618s-1713487824-1.1.1.1-NxhAzf0gU20.TG81EOviCorNBe1XWpEOoc2QLgxz43gZj.dim13BPxIgNWMNXUcJBkESXNMXxIZbKFZjx.aH039xafHAPWVfkFYlXxsKBzpdtiha3Y99mLUay2RI1MemrUafqN6QyJQcF_zWy12qEHbZPvsdjJ1hyiRrcl7.2Q9P4WhGoOXsVIw52CqxomLLwOC7grc3Urgx00BERNe9iaV1cGY20LLObBruQnCkvPmEiw_nApmAdwPUiDyycRTOD07KK4dPUDDHuCHHUBypEwzxORpKWLMlVjzjJMSj2gNiH3_Sht.sMhL4u8pr5.ruX662B33bOL8QS_U223PRDheNip9yfZkKIv.Wio6VKrKGT6dOLqQN77DpqYmY8svOemplMRKwyCxb4EtnPD_DqwFnVQKd6U_l07osisQYiTiUhc2dvjzTfoZik7iNmThwuovSCQ66BRwjzxCEZj2GnefGdVzPzN2SRKzr.MALYDjWjKHIq1QCXRk4X881TF4nU.Q9uIYKYG08.qG5LViqsLtG0USkVLFG7EVkNvk0v0xSf.1QjLhiVbq1_rPE3Pi6kP3MYs1M.4Rb4MKpP2us3NqcjvVaSt.PHoa6W3XPyveJAu_hZqzQqZWYOHYmjXqxYoMUKQgyuviIskgReNhBhyerasymkRzMOJ4zUAo7V.WfI6BQJz3Cu5bie9nED527N3Eano9cYf9TFfzknNHLVN53oaNSohn3MrsZZhGIx9vIWfPQE.V7SKE6BA3Rgu_8O3LTcdTB7HGny4qdgM3IitjJpTNUa6nLM6xYaWSA3gc6g3nvMnx2Oa1_T.MqH0R16v0GpLaD.Ik2bWe3ZHjH3VWUV6hMCHnVOWJDJfdZTO41DE2qFYHZZvVGWNDH_uMUOto3vBwveHgUEWeYRT7CCQu1_VhUplrklmGOSM39nyH_xC1kUO8X3xXDZol2_xgHhr6i2iXRlctl1.jgDq78aypnwN5UmpTm243v.bTJgSphSJg5qFcAD6QAQb68_ZZx6PWS99R4TY8ITESunubqGrPQ6P.lqg3opxs4ZBR.03HC2BqPXuQRpSHxdqosff3BtKnwD3Kmn6ivvnXqNQWaG426EJTSWgDqvmyWULnIGJUCTI4l_Vyr7R6E2aI18MIXafzAGElFz3_73uQHGu3EDq1ApSj0fXmvMU1NPxqrakfpbxcQpAqYIpWRIl_aChr1dm7DRi7NJo_BnWtUdUi3eEFRQxQl1PaiecmKeF4U50XiWvsHqSbAYBHReeMk0EFx3eItcLuN9gOv8z2VUe5EGshGdK3e_UuuK.zvlUS243szGIaL_mNGXPOmhIq6Pyf3CqA92.pevXI8J2sUJgP8dBPugvyBNG0x0V0PhWPOw_G59ulvx1nl0fM7hlKWVxFQKu8MmxV7AlOnV556FMSi1Q_2QmUJwjoSmETLZgRGuU1BsSxVaprfy50WKnXa7SyvPS3f229_5gYxQWOXYfcRKlY9ims3DjGvPGduOMMngzpC8Dpk5EgW3flyZzV3p0AGCdNhimDbUY36YIm3y5aXdSF2cpniBySxzShNNSV6yxH5Z_cnpwAb_cBkx8v5PvCRlmAVXwRh3tsjx4C5Hu6MpMSdEBddQm9vDxTx6MwHa4MLPs4xJNhiSe1lQrQVvAuXqNrXWFvIVvGvZDGhfDM.W8WKV7PvgHHo6co86YuZg7mMUQB2J7DLAl32Aq05OHsA7mD08.TQNE8LcQKTNaV3apxQ4RJqI_8rECA46bWvu9ZjOGeF5o9v0o.e.JptO0I_8yUM5yQA8ANro7fkEKJz_5j2i7JNQvk.7pBFOm4jMWbl9Xy4KF2aIw53vHtcQU_loElpFPYtGi6NUi0ZcgZCrxHot4km5lfD.IAaF8jwEgDLFdx2mxGJtZ28viXbO1Uf2_JvSMHj8bEu1CrI3AuKLfUXIWrt26wh_AVqAt13IOidqgQn4Yz0UQ6PT0Jls2pvcxWGKlJnO.Y_xAjP82SORZegKRAfc4DEV0K4_Xf8.Ryr7IFzHYBt9VjEXGbsVuI8bNVStU0h_hBI9ohzYhniX84IOICvVG7b8avl25pzXxKrm.SUtJYUKvH.MeSDF.s3dyVrU3BZSgmioqFfWELAt1XmRbRAV.MJTtTHRRrtmAphad._XQvEtxjTuWU1KpEi8E3TJNOQblZ8Ix1XeRBTuv6terYcHHGhh5fUYEr2RkJifIGghFF2tSxc39vM.uxUgk9TA7dRFEFNJ.wZ4CPOe0PTANcf0JTBoB8rV5uZQIq2NhaEmxf0LisDz73yu3MnyaKpUnf2ZJR1y9uwf5IncNEwNicFwDQE5bevIKdNyOh8ehFrHcMtopdzB5Js_nYZfXAyfakbjhvHpuGwY_fW23NRwlfylDcMHZJ7MLPOTF1pL_py2ANW5HoTpc8Oh3b43DPSjnX5e4GLfHF_CBVZYnxP1R2f4oyIsR2yBD7nBq_E3LYdVY3ACcvFEuzSUBbjv15uXpKlR4QzkzzPFJzCfEBoO1w1bggmi69NTHuw3xQ38TYNl8WsDyoCv2cDVgoFcVl95Su4JxrSdt4tjzY8hU5Sxv7vns8C6n8_J2yRjl94NjGIQJP1Bwi9srt5dr.6GLyZe2YbT6_eIDu9CSZagoLHOTzeXgkWGeD1JY7QCRKB6PGg_HLPYQ3M9oz6IqBDGdpGgGYE_9Kz9wO9iYTEoJHNFqtc4sfZWrfx.jz7sGRZPzoLtubUHvXHYNKlpi_auWRMi95fhJyk7gXe6naOlS6XV4xUZdTjbk9T9J3m.4VpoX_boufRbef.6nZYbrD76YvqA103r_lO17ZdirJg5KfEG8tRoB5mS1Cr0B3AzTIhV7TvzzA4RIIILDquwhqlSLXnip70lVCI9tOvH4oGAhQMJan9LWogeLjn5Yq1VWoG4onc0v_5MsxR0V24CZ.ujLp8PlNg_2TOxtdtgs8nq8A0XZWV2_qJrylW5Jtqt1CNwOds06GyQv3WfN_icgwGvhKbxnbM94QrRiwYl_YYRHdKlNVPq6ZIq2pZDleAUCfSJfETkNFSTXkvO6StMemUsMLUV86j0tjzNaC5OExNABJDVfpdk_2puRIPx21lt2TLt6IvNeIwXAhkUuQDYY5XlBK3hM6W.WE7qzacvm.h3BFY1ZpG7Z4uLfSuQ2mZ6ACqsfiQFA6RLG6eKU7mANs3g98AzmZ5OnF1hz9ZnOctZCh9T4hyn3n5pXeAjQ2RJcTlCYaS12LtDTB0zBUBKtIu7qAi6zW3ek_PrGhQ0dakOa9JcWOL.tIOYJHF4yin6ef9ogUmhKDeTlQ8dj3he5kojpcvCfPM9AcGgtY3k.3BxqGKaNCDRLH_gSEx1Rco5HEwIQxMR8mjdQysqBQuGpO0MekadRwit9rjDx5ST7RZrgS6HdS9P4YfZnJBswSxb.cXj44VVroJJXXjhyj3kXsn53AD4N8X_Qzc1KzbvTv3TQ_wvOQk9AHWPIeaJFYmEi34A_G16mOwMGBGRpbSDStzTdqmpw9_kK_noN7oAfTZNGfK8I.Gc9QkKW3lmkyx1Yd_BzB5Y6n0CUfZpyYW3hvRG9Pm75vpGm4uE5JC5m4lGk.q9AafgYEuQQg0SI_0oLNsaN9vsJFb7O_3WztogSAmvj5ZJYJRYRn7hlTjKAMt6TBwbnyx69jlbDVwYUdoSF55xvfdTe2m9OAw131AcCUG3gp1_qzfItxnsubPNqh9.3NZqqA1XWgwCu0CCHKISm0Uow2Jy77JkjCho7WP8gxB_0N80M7yZ9DUZB.obSD718TVj5SN0Am5eJSoSMoxT2_E1wv31.NeY2eaPUo78IioJvvB8ZuJzs7jRxyNDvjWNf3wxYXfCuiPfTpRBUctEPjg_AV1BUcODvIBAa6y2qlm4wxWiQ5T5xco.iPPPMvHalGLflDFc_iTcCtSBARJ64QHZNdPgVdVwCQEQg764ajMFZ7ym4rBMSUSMQtkVqlpix.7YCUW6P0Ms_i2QIoFzBsqYMrcAb5HzbWtVMYnpXtMVJiEsxrf8YgPo08yup6eiL8tQGTugQzla3dDWTmHZ3V.uEFRDOuGChDXSTDiFGPtdL9X3kN.8Q.f65x93qNSKggg_bdlz42foYFh9ylaJ7hUSd6BONRmIHLx9NY.xhhxR4rcKCKQbxWGX0IJk38gCQ\",cRq: {ru: 'aHR0cHM6Ly9tb3ouY29tL2RvbWFpbi1hbmFseXNpcz9zaXRlPWFwcGxlLmNvbQ==',ra: 'TW96aWxsYS81LjAgKFdpbmRvd3MgTlQgMTAuMDsgV2luNjQ7IHg2NCkgQXBwbGVXZWJLaXQvNTM3LjM2IChLSFRNTCwgbGlrZSBHZWNrbykgQ2hyb21lLzU4LjAuMzAyOS4xMTAgU2FmYXJpLzUzNy4z',rm: 'R0VU',d: 'v9t8AZSIrYlaesVZeY83lyj6lERTGkixHB0yBvsf6JapG9fR/ccGuILppyZ+jOENHDsg/bL6c8vtuF6U0LcA0OBzcgDcz2SV+r7rCZbeAJezpNQCDmvxB9bXBZV5UWPSuPSIB6bXowJkkqUmJEFH0RaFb3/LFzGb1ql4WTr9oO3SqBsXXS8R0fxgLYK9L50T/X7xjDeE+r6X84oNoC7RZ4q/xEMutSGfeHsM5w1At5sZURHemM1b84g74Gj5sETaj2lx47q8JkFIlcA7l7C3NWcA/YNdrvJCEFQP8KdDyzd6uyaiL2Eb6p0bpqKXP34gsBUVdawIy23EnPwS8Re3aGc2lWTquVQbtEkKR29BD0G+E0deU3sgv5dvf+oFAfKyWEEW5AmkqCDgcSiP5hvujCoZQ1As4FssN056aj4RCYzWwjIB9zdLqHK9cLJEyzv1n8anPFJpvCtj796La2fvRtDqQTaxm9HR1ELkj4jjB/Fd4+WjzBAvvRz7zh+FIISRAAHqMkujpZV2uC7LE5dTF+IBfoSxkwu/nKmFiuQIhGzlCj/aK/Pz1gF2pZwN4bxCUdqJ9A7iIZkLUVh7WabZfA==',t: 'MTcxMzQ4NzgyNC42MzQwMDA=',cT: Math.floor(Date.now() / 1000),m: 'VgPX8S+uEtjrnXoLd1djTLwmYfRoYPNjFJaMsZ84E/Q=',i1: 'VFF/83JUdY3uMG6LNbM9yA==',i2: 'ClzzcfLeDcH+ODBx1aD9SQ==',zh: 'WzapS2w1ian2bmu1INxPfBl46RYmbCieWbp+IrYPdCs=',uh: '0C0u6AAowDJLu0DVVHR+OFYvZ2L4tzkp+TtciSyuCzE=',hh: 'OvAUPCiYE0I7tLwBNP80JqWg3t6ucb9kPkAcIhiNOfU=',}};var cpo = document.createElement('script');cpo.src = '/cdn-cgi/challenge-platform/h/g/orchestrate/chl_page/v1?ray=8768e677ec8b69b5';window._cf_chl_opt.cOgUHash = location.hash === '' && location.href.indexOf('#') !== -1 ? '#' : location.hash;window._cf_chl_opt.cOgUQuery = location.search === '' && location.href.slice(0, location.href.length - window._cf_chl_opt.cOgUHash.length).indexOf('?') !== -1 ? '?' : location.search;if (window.history && window.history.replaceState) {var ogU = location.pathname + window._cf_chl_opt.cOgUQuery + window._cf_chl_opt.cOgUHash;history.replaceState(null, null, \"\\/domain-analysis?site=apple.com&__cf_chl_rt_tk=Jz6c14WRtAdMaqAAaRybAvrWeaYVRDMN49Hm1iYxprE-1713487824-0.0.1.1-1642\" + window._cf_chl_opt.cOgUHash);cpo.onload = function() {history.replaceState(null, null, ogU);}}document.getElementsByTagName('head')[0].appendChild(cpo);}());</script></body></html>"
      ]
     },
     "execution_count": 10,
     "metadata": {},
     "output_type": "execute_result"
    }
   ],
   "source": [
    "soup"
   ]
  }
 ],
 "metadata": {
  "kernelspec": {
   "display_name": "Python 3 (ipykernel)",
   "language": "python",
   "name": "python3"
  },
  "language_info": {
   "codemirror_mode": {
    "name": "ipython",
    "version": 3
   },
   "file_extension": ".py",
   "mimetype": "text/x-python",
   "name": "python",
   "nbconvert_exporter": "python",
   "pygments_lexer": "ipython3",
   "version": "3.11.5"
  }
 },
 "nbformat": 4,
 "nbformat_minor": 5
}
