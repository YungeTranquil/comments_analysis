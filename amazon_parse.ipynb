{
 "cells": [
  {
   "cell_type": "code",
   "execution_count": 24,
   "id": "fd0938a2-d55d-4a54-8df4-f33332d81477",
   "metadata": {},
   "outputs": [
    {
     "name": "stderr",
     "output_type": "stream",
     "text": [
      "100%|████████████████████████████████████████████████████████████████████████████████████| 1/1 [00:00<00:00,  2.55it/s]\n"
     ]
    }
   ],
   "source": [
    "from bs4 import BeautifulSoup\n",
    "from tqdm import tqdm\n",
    "import pandas as pd\n",
    "import os\n",
    "\n",
    "def parse_page(path):\n",
    "    with open(f\"{path}\",\"r\",encoding=\"utf-8\") as file:\n",
    "        response = file.read()\n",
    "    response = BeautifulSoup(response)\n",
    "\n",
    "    title = response.find(\"span\",attrs={\"id\":\"productTitle\"}).text.strip()\n",
    "    rate = response.find(\"span\",attrs={\"id\":\"acrPopover\"}).span.a.span.text.strip()\n",
    "    rate_number = response.find(\"span\",attrs={\"id\":\"acrCustomerReviewText\"}).text.strip()\n",
    "    try:\n",
    "        sold_number = response.find(\"span\",attrs={\"id\":\"social-proofing-faceout-title-tk_bought\"}).span.text.strip()\n",
    "    except:\n",
    "        sold_number = None\n",
    "    description = response.find(\"div\",attrs={\"id\":\"feature-bullets\"}).ul.text\n",
    "    rate_dist = [tr.text for tr in response.select(\"#cm_cr_dp_d_rating_histogram\")[0].find_all(\"tr\")]\n",
    "    ai_comment = response.select(\"#product-summary\")[0].text\n",
    "    keyword_comments = response.select(\"#cr-product-insights-cards > div:nth-child(2) > div.a-section.a-spacing-mini._cr-product-insights_style_sentiment-section__6zKPq > div \")[0].find_all(\"span\")\n",
    "    keyword_comments = [span.text for span in keyword_comments]\n",
    "    nav = \" \".join([li.text.strip() for li in response.select(\"#wayfinding-breadcrumbs_feature_div > ul > li\")])\n",
    "    user_reviews = response.find_all(\"div\",attrs={\"id\":\"cm-cr-dp-review-list\"})[0].text\n",
    "\n",
    "    product_info = {\n",
    "        \"title\": title,\n",
    "        \"rate\": rate,\n",
    "        \"rate_number\": rate_number,\n",
    "        \"sold_number\": sold_number,\n",
    "        \"description\": description,\n",
    "        \"rate_dist\": rate_dist,\n",
    "        \"ai_comment\": ai_comment,\n",
    "        \"keyword_comments\": keyword_comments,\n",
    "        \"nav\": nav,\n",
    "        \"user_reviews\":user_reviews\n",
    "    }\n",
    "\n",
    "    return product_info\n",
    "\n",
    "\n",
    "output = []\n",
    "url_list = os.listdir(\"data/amazon_html\")\n",
    "for url in tqdm(url_list[:1]):\n",
    "    try:\n",
    "        result = parse_page(f\"data/amazon_html/{url}\")\n",
    "        output.append(result)\n",
    "    except:\n",
    "        continue"
   ]
  },
  {
   "cell_type": "code",
   "execution_count": 8,
   "id": "a7492961-d8a4-4f15-b27b-58851abc73ec",
   "metadata": {},
   "outputs": [],
   "source": [
    "with open(f\"data/amazon_html/amazon_11.html\",\"r\",encoding=\"utf-8\") as file:\n",
    "    response = file.read()\n",
    "response = BeautifulSoup(response)"
   ]
  },
  {
   "cell_type": "code",
   "execution_count": null,
   "id": "79dbde79-c476-436b-bbd5-c5f958c74265",
   "metadata": {},
   "outputs": [],
   "source": [
    "#corePriceDisplay_desktop_feature_div"
   ]
  },
  {
   "cell_type": "code",
   "execution_count": 18,
   "id": "3d8442a2-0526-4b58-87ee-73ffed16401b",
   "metadata": {},
   "outputs": [],
   "source": [
    "symbol = response.find(\"span\",attrs={\"class\":\"a-price-symbol\"}).text\n",
    "whole = response.find(\"span\",attrs={\"class\":\"a-price-whole\"}).text\n",
    "fraction = response.find(\"span\",attrs={\"class\":\"a-price-fraction\"}).text\n",
    "price = str(whole)+str(fraction)"
   ]
  },
  {
   "cell_type": "code",
   "execution_count": null,
   "id": "69422c1a-eab5-41d8-9a91-9ead71209cfd",
   "metadata": {},
   "outputs": [],
   "source": []
  }
 ],
 "metadata": {
  "kernelspec": {
   "display_name": "Python 3 (ipykernel)",
   "language": "python",
   "name": "python3"
  },
  "language_info": {
   "codemirror_mode": {
    "name": "ipython",
    "version": 3
   },
   "file_extension": ".py",
   "mimetype": "text/x-python",
   "name": "python",
   "nbconvert_exporter": "python",
   "pygments_lexer": "ipython3",
   "version": "3.11.5"
  }
 },
 "nbformat": 4,
 "nbformat_minor": 5
}
