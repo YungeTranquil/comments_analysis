{
 "cells": [
  {
   "cell_type": "code",
   "execution_count": 12,
   "id": "654beaa8",
   "metadata": {
    "ExecuteTime": {
     "end_time": "2024-03-24T14:49:40.551621Z",
     "start_time": "2024-03-24T14:49:40.250137Z"
    }
   },
   "outputs": [],
   "source": [
    "from selenium import webdriver\n",
    "from selenium.webdriver.common.by import By\n",
    "from bs4 import BeautifulSoup\n",
    "import time\n",
    "import numpy as np\n",
    "from tqdm import tqdm\n",
    "import pandas as pd"
   ]
  },
  {
   "cell_type": "code",
   "execution_count": 13,
   "id": "d90b3f6a",
   "metadata": {
    "ExecuteTime": {
     "end_time": "2024-03-24T14:58:08.767962Z",
     "start_time": "2024-03-24T14:58:03.161999Z"
    }
   },
   "outputs": [],
   "source": [
    "browser = webdriver.Chrome()\n",
    "browser.get(\"https://chromewebstore.google.com/detail/honey-automatic-coupons-r/bmnlcjabgnpnenekpadlanbbkooimhnj/reviews\")"
   ]
  },
  {
   "cell_type": "code",
   "execution_count": 29,
   "id": "5ee43a12",
   "metadata": {
    "ExecuteTime": {
     "end_time": "2024-03-24T20:31:55.080184Z",
     "start_time": "2024-03-24T14:58:24.378237Z"
    }
   },
   "outputs": [
    {
     "ename": "NoSuchElementException",
     "evalue": "Message: no such element: Unable to locate element: {\"method\":\"xpath\",\"selector\":\"//*[@id=\"yDmH0d\"]/c-wiz/div/div/main/div[1]/div/div/button\"}\n  (Session info: chrome=122.0.6261.129); For documentation on this error, please visit: https://www.selenium.dev/documentation/webdriver/troubleshooting/errors#no-such-element-exception\nStacktrace:\n\tGetHandleVerifier [0x00007FF6BC83AD02+56930]\n\t(No symbol) [0x00007FF6BC7AF602]\n\t(No symbol) [0x00007FF6BC6642E5]\n\t(No symbol) [0x00007FF6BC6A98ED]\n\t(No symbol) [0x00007FF6BC6A9A2C]\n\t(No symbol) [0x00007FF6BC6EA967]\n\t(No symbol) [0x00007FF6BC6CBCDF]\n\t(No symbol) [0x00007FF6BC6E81E2]\n\t(No symbol) [0x00007FF6BC6CBA43]\n\t(No symbol) [0x00007FF6BC69D438]\n\t(No symbol) [0x00007FF6BC69E4D1]\n\tGetHandleVerifier [0x00007FF6BCBB6F8D+3711213]\n\tGetHandleVerifier [0x00007FF6BCC104CD+4077101]\n\tGetHandleVerifier [0x00007FF6BCC0865F+4044735]\n\tGetHandleVerifier [0x00007FF6BC8D9736+706710]\n\t(No symbol) [0x00007FF6BC7BB8DF]\n\t(No symbol) [0x00007FF6BC7B6AC4]\n\t(No symbol) [0x00007FF6BC7B6C1C]\n\t(No symbol) [0x00007FF6BC7A68D4]\n\tBaseThreadInitThunk [0x00007FFADB66257D+29]\n\tRtlUserThreadStart [0x00007FFADD18AA58+40]\n",
     "output_type": "error",
     "traceback": [
      "\u001b[1;31m---------------------------------------------------------------------------\u001b[0m",
      "\u001b[1;31mNoSuchElementException\u001b[0m                    Traceback (most recent call last)",
      "Cell \u001b[1;32mIn[29], line 2\u001b[0m\n\u001b[0;32m      1\u001b[0m \u001b[38;5;28;01mfor\u001b[39;00m i \u001b[38;5;129;01min\u001b[39;00m \u001b[38;5;28mrange\u001b[39m(\u001b[38;5;241m10000\u001b[39m):\n\u001b[1;32m----> 2\u001b[0m     button \u001b[38;5;241m=\u001b[39m browser\u001b[38;5;241m.\u001b[39mfind_element(By\u001b[38;5;241m.\u001b[39mXPATH,\u001b[38;5;124m'\u001b[39m\u001b[38;5;124m//*[@id=\u001b[39m\u001b[38;5;124m\"\u001b[39m\u001b[38;5;124myDmH0d\u001b[39m\u001b[38;5;124m\"\u001b[39m\u001b[38;5;124m]/c-wiz/div/div/main/div[1]/div/div/button\u001b[39m\u001b[38;5;124m'\u001b[39m)\n\u001b[0;32m      3\u001b[0m     button\u001b[38;5;241m.\u001b[39mclick()\n\u001b[0;32m      4\u001b[0m     time\u001b[38;5;241m.\u001b[39msleep(\u001b[38;5;241m2\u001b[39m\u001b[38;5;241m+\u001b[39mnp\u001b[38;5;241m.\u001b[39mrandom\u001b[38;5;241m.\u001b[39mrandint(\u001b[38;5;241m100\u001b[39m,\u001b[38;5;241m999\u001b[39m)\u001b[38;5;241m/\u001b[39m\u001b[38;5;241m1000\u001b[39m)\n",
      "File \u001b[1;32m~\\anaconda3\\Lib\\site-packages\\selenium\\webdriver\\remote\\webdriver.py:741\u001b[0m, in \u001b[0;36mWebDriver.find_element\u001b[1;34m(self, by, value)\u001b[0m\n\u001b[0;32m    738\u001b[0m     by \u001b[38;5;241m=\u001b[39m By\u001b[38;5;241m.\u001b[39mCSS_SELECTOR\n\u001b[0;32m    739\u001b[0m     value \u001b[38;5;241m=\u001b[39m \u001b[38;5;124mf\u001b[39m\u001b[38;5;124m'\u001b[39m\u001b[38;5;124m[name=\u001b[39m\u001b[38;5;124m\"\u001b[39m\u001b[38;5;132;01m{\u001b[39;00mvalue\u001b[38;5;132;01m}\u001b[39;00m\u001b[38;5;124m\"\u001b[39m\u001b[38;5;124m]\u001b[39m\u001b[38;5;124m'\u001b[39m\n\u001b[1;32m--> 741\u001b[0m \u001b[38;5;28;01mreturn\u001b[39;00m \u001b[38;5;28mself\u001b[39m\u001b[38;5;241m.\u001b[39mexecute(Command\u001b[38;5;241m.\u001b[39mFIND_ELEMENT, {\u001b[38;5;124m\"\u001b[39m\u001b[38;5;124musing\u001b[39m\u001b[38;5;124m\"\u001b[39m: by, \u001b[38;5;124m\"\u001b[39m\u001b[38;5;124mvalue\u001b[39m\u001b[38;5;124m\"\u001b[39m: value})[\u001b[38;5;124m\"\u001b[39m\u001b[38;5;124mvalue\u001b[39m\u001b[38;5;124m\"\u001b[39m]\n",
      "File \u001b[1;32m~\\anaconda3\\Lib\\site-packages\\selenium\\webdriver\\remote\\webdriver.py:347\u001b[0m, in \u001b[0;36mWebDriver.execute\u001b[1;34m(self, driver_command, params)\u001b[0m\n\u001b[0;32m    345\u001b[0m response \u001b[38;5;241m=\u001b[39m \u001b[38;5;28mself\u001b[39m\u001b[38;5;241m.\u001b[39mcommand_executor\u001b[38;5;241m.\u001b[39mexecute(driver_command, params)\n\u001b[0;32m    346\u001b[0m \u001b[38;5;28;01mif\u001b[39;00m response:\n\u001b[1;32m--> 347\u001b[0m     \u001b[38;5;28mself\u001b[39m\u001b[38;5;241m.\u001b[39merror_handler\u001b[38;5;241m.\u001b[39mcheck_response(response)\n\u001b[0;32m    348\u001b[0m     response[\u001b[38;5;124m\"\u001b[39m\u001b[38;5;124mvalue\u001b[39m\u001b[38;5;124m\"\u001b[39m] \u001b[38;5;241m=\u001b[39m \u001b[38;5;28mself\u001b[39m\u001b[38;5;241m.\u001b[39m_unwrap_value(response\u001b[38;5;241m.\u001b[39mget(\u001b[38;5;124m\"\u001b[39m\u001b[38;5;124mvalue\u001b[39m\u001b[38;5;124m\"\u001b[39m, \u001b[38;5;28;01mNone\u001b[39;00m))\n\u001b[0;32m    349\u001b[0m     \u001b[38;5;28;01mreturn\u001b[39;00m response\n",
      "File \u001b[1;32m~\\anaconda3\\Lib\\site-packages\\selenium\\webdriver\\remote\\errorhandler.py:229\u001b[0m, in \u001b[0;36mErrorHandler.check_response\u001b[1;34m(self, response)\u001b[0m\n\u001b[0;32m    227\u001b[0m         alert_text \u001b[38;5;241m=\u001b[39m value[\u001b[38;5;124m\"\u001b[39m\u001b[38;5;124malert\u001b[39m\u001b[38;5;124m\"\u001b[39m]\u001b[38;5;241m.\u001b[39mget(\u001b[38;5;124m\"\u001b[39m\u001b[38;5;124mtext\u001b[39m\u001b[38;5;124m\"\u001b[39m)\n\u001b[0;32m    228\u001b[0m     \u001b[38;5;28;01mraise\u001b[39;00m exception_class(message, screen, stacktrace, alert_text)  \u001b[38;5;66;03m# type: ignore[call-arg]  # mypy is not smart enough here\u001b[39;00m\n\u001b[1;32m--> 229\u001b[0m \u001b[38;5;28;01mraise\u001b[39;00m exception_class(message, screen, stacktrace)\n",
      "\u001b[1;31mNoSuchElementException\u001b[0m: Message: no such element: Unable to locate element: {\"method\":\"xpath\",\"selector\":\"//*[@id=\"yDmH0d\"]/c-wiz/div/div/main/div[1]/div/div/button\"}\n  (Session info: chrome=122.0.6261.129); For documentation on this error, please visit: https://www.selenium.dev/documentation/webdriver/troubleshooting/errors#no-such-element-exception\nStacktrace:\n\tGetHandleVerifier [0x00007FF6BC83AD02+56930]\n\t(No symbol) [0x00007FF6BC7AF602]\n\t(No symbol) [0x00007FF6BC6642E5]\n\t(No symbol) [0x00007FF6BC6A98ED]\n\t(No symbol) [0x00007FF6BC6A9A2C]\n\t(No symbol) [0x00007FF6BC6EA967]\n\t(No symbol) [0x00007FF6BC6CBCDF]\n\t(No symbol) [0x00007FF6BC6E81E2]\n\t(No symbol) [0x00007FF6BC6CBA43]\n\t(No symbol) [0x00007FF6BC69D438]\n\t(No symbol) [0x00007FF6BC69E4D1]\n\tGetHandleVerifier [0x00007FF6BCBB6F8D+3711213]\n\tGetHandleVerifier [0x00007FF6BCC104CD+4077101]\n\tGetHandleVerifier [0x00007FF6BCC0865F+4044735]\n\tGetHandleVerifier [0x00007FF6BC8D9736+706710]\n\t(No symbol) [0x00007FF6BC7BB8DF]\n\t(No symbol) [0x00007FF6BC7B6AC4]\n\t(No symbol) [0x00007FF6BC7B6C1C]\n\t(No symbol) [0x00007FF6BC7A68D4]\n\tBaseThreadInitThunk [0x00007FFADB66257D+29]\n\tRtlUserThreadStart [0x00007FFADD18AA58+40]\n"
     ]
    }
   ],
   "source": [
    "for i in range(10000):\n",
    "    button = browser.find_element(By.XPATH,'//*[@id=\"yDmH0d\"]/c-wiz/div/div/main/div[1]/div/div/button')\n",
    "    button.click()\n",
    "    time.sleep(2+np.random.randint(100,999)/1000)\n",
    "    with open(\"honeycomment.html\",\"w\",encoding=\"utf-8\") as file:\n",
    "        content = browser.page_source\n",
    "        file.write(content)\n",
    "    if i%100 == 0:\n",
    "        with open(f\"honeycomment_{i}.html\",\"w\",encoding=\"utf-8\") as file:\n",
    "            content = browser.page_source\n",
    "            file.write(content)        "
   ]
  },
  {
   "cell_type": "code",
   "execution_count": 84,
   "id": "9638086d",
   "metadata": {
    "ExecuteTime": {
     "end_time": "2024-03-24T04:09:05.972257Z",
     "start_time": "2024-03-24T04:08:56.586276Z"
    }
   },
   "outputs": [],
   "source": [
    "content = browser.page_source\n",
    "content = BeautifulSoup(content)"
   ]
  },
  {
   "cell_type": "code",
   "execution_count": 86,
   "id": "30ef1a3a",
   "metadata": {
    "ExecuteTime": {
     "end_time": "2024-03-24T04:09:33.134903Z",
     "start_time": "2024-03-24T04:09:32.962640Z"
    }
   },
   "outputs": [
    {
     "data": {
      "text/plain": [
       "6668"
      ]
     },
     "execution_count": 86,
     "metadata": {},
     "output_type": "execute_result"
    }
   ],
   "source": [
    "len(content.find_all(\"section\",attrs={\"class\":\"T7rvce\"}))"
   ]
  },
  {
   "cell_type": "code",
   "execution_count": 30,
   "id": "e86b8c83",
   "metadata": {
    "ExecuteTime": {
     "end_time": "2024-03-24T22:31:39.789543Z",
     "start_time": "2024-03-24T22:31:27.719629Z"
    }
   },
   "outputs": [],
   "source": []
  },
  {
   "cell_type": "code",
   "execution_count": 31,
   "id": "c724e211",
   "metadata": {
    "ExecuteTime": {
     "end_time": "2024-03-24T22:31:46.010545Z",
     "start_time": "2024-03-24T22:31:43.130694Z"
    }
   },
   "outputs": [
    {
     "name": "stderr",
     "output_type": "stream",
     "text": [
      "100%|█████████████████████████████████████████████████████████████████████████| 29020/29020 [00:01<00:00, 16703.18it/s]\n"
     ]
    }
   ],
   "source": [
    "with open(\"honeycomment_2900.html\",\"r\",encoding=\"utf-8\") as file:\n",
    "    response = file.read()\n",
    "response = BeautifulSoup(response)\n",
    "\n",
    "results = []\n",
    "length = len(response.find_all(\"section\",attrs={\"class\":\"T7rvce\"}))\n",
    "response_list = response.find_all(\"section\",attrs={\"class\":\"T7rvce\"})\n",
    "for i in tqdm(range(length)):\n",
    "    rate = response_list[i].find(\"div\",attrs={\"class\":\"B1UG8d\"}).attrs[\"title\"]\n",
    "    user = response_list[i].find(\"span\").text\n",
    "    comment = response_list[i].find(\"p\").text\n",
    "    comment_time = response_list[i].find(\"span\",attrs={\"class\":\"ydlbEf\"}).text\n",
    "    result = {\"rate\":rate, \"user\":user, \"comment\":comment, \"comment_time\":comment_time}\n",
    "    results.append(result)\n",
    "\n",
    "comment_output = pd.DataFrame(results)\n",
    "comment_output[\"comment_time\"] = pd.to_datetime(comment_output[\"comment_time\"],format=\"%Y年%m月%d日\")"
   ]
  },
  {
   "cell_type": "code",
   "execution_count": 32,
   "id": "8de7d550",
   "metadata": {
    "ExecuteTime": {
     "end_time": "2024-03-24T22:31:50.558181Z",
     "start_time": "2024-03-24T22:31:50.540028Z"
    }
   },
   "outputs": [],
   "source": []
  },
  {
   "cell_type": "code",
   "execution_count": 36,
   "id": "708fddfc",
   "metadata": {
    "ExecuteTime": {
     "end_time": "2024-03-26T14:59:01.684213Z",
     "start_time": "2024-03-26T14:59:01.646599Z"
    }
   },
   "outputs": [
    {
     "data": {
      "text/html": [
       "<div>\n",
       "<style scoped>\n",
       "    .dataframe tbody tr th:only-of-type {\n",
       "        vertical-align: middle;\n",
       "    }\n",
       "\n",
       "    .dataframe tbody tr th {\n",
       "        vertical-align: top;\n",
       "    }\n",
       "\n",
       "    .dataframe thead th {\n",
       "        text-align: right;\n",
       "    }\n",
       "</style>\n",
       "<table border=\"1\" class=\"dataframe\">\n",
       "  <thead>\n",
       "    <tr style=\"text-align: right;\">\n",
       "      <th></th>\n",
       "      <th>rate</th>\n",
       "      <th>user</th>\n",
       "      <th>comment</th>\n",
       "      <th>comment_time</th>\n",
       "    </tr>\n",
       "  </thead>\n",
       "  <tbody>\n",
       "    <tr>\n",
       "      <th>0</th>\n",
       "      <td>5 星</td>\n",
       "      <td>Sayf Adwan</td>\n",
       "      <td>literally the best</td>\n",
       "      <td>2024-03-24</td>\n",
       "    </tr>\n",
       "    <tr>\n",
       "      <th>1</th>\n",
       "      <td>5 星</td>\n",
       "      <td>SbastianMunoz</td>\n",
       "      <td>Excelente extension, funciona genial</td>\n",
       "      <td>2024-03-24</td>\n",
       "    </tr>\n",
       "    <tr>\n",
       "      <th>2</th>\n",
       "      <td>3 星</td>\n",
       "      <td>Mitchell</td>\n",
       "      <td>It works for the most part, but it is insanely...</td>\n",
       "      <td>2024-03-23</td>\n",
       "    </tr>\n",
       "    <tr>\n",
       "      <th>3</th>\n",
       "      <td>5 星</td>\n",
       "      <td>Yad Wiso</td>\n",
       "      <td>It is amazing. It always works for me. But the...</td>\n",
       "      <td>2024-03-23</td>\n",
       "    </tr>\n",
       "    <tr>\n",
       "      <th>4</th>\n",
       "      <td>1 星</td>\n",
       "      <td>Mike Leslie</td>\n",
       "      <td>Can't get any of the rewards ever. It will not...</td>\n",
       "      <td>2024-03-23</td>\n",
       "    </tr>\n",
       "    <tr>\n",
       "      <th>...</th>\n",
       "      <td>...</td>\n",
       "      <td>...</td>\n",
       "      <td>...</td>\n",
       "      <td>...</td>\n",
       "    </tr>\n",
       "    <tr>\n",
       "      <th>212</th>\n",
       "      <td>1 星</td>\n",
       "      <td>Connor Johnson</td>\n",
       "      <td>Annoying pop ups EVERYTIME I try to quickly lo...</td>\n",
       "      <td>2023-12-17</td>\n",
       "    </tr>\n",
       "    <tr>\n",
       "      <th>213</th>\n",
       "      <td>5 星</td>\n",
       "      <td>Madeleine Kuras</td>\n",
       "      <td>Great for finding discounts and receiving vouc...</td>\n",
       "      <td>2023-12-16</td>\n",
       "    </tr>\n",
       "    <tr>\n",
       "      <th>214</th>\n",
       "      <td>5 星</td>\n",
       "      <td>Hasan Yavuz</td>\n",
       "      <td>veryyyyyyyyyyyyyyyyyyyyyyyyyyyyyyyyyyyyyyyyyyy...</td>\n",
       "      <td>2023-12-16</td>\n",
       "    </tr>\n",
       "    <tr>\n",
       "      <th>215</th>\n",
       "      <td>5 星</td>\n",
       "      <td>- “‪Minto‬” -</td>\n",
       "      <td>seems to work pretty good</td>\n",
       "      <td>2023-12-16</td>\n",
       "    </tr>\n",
       "    <tr>\n",
       "      <th>216</th>\n",
       "      <td>5 星</td>\n",
       "      <td>Nanak Singh</td>\n",
       "      <td>It worked but sometimes it doesn't otherwise S...</td>\n",
       "      <td>2023-12-16</td>\n",
       "    </tr>\n",
       "  </tbody>\n",
       "</table>\n",
       "<p>217 rows × 4 columns</p>\n",
       "</div>"
      ],
      "text/plain": [
       "    rate             user                                            comment  \\\n",
       "0    5 星       Sayf Adwan                                 literally the best   \n",
       "1    5 星    SbastianMunoz               Excelente extension, funciona genial   \n",
       "2    3 星         Mitchell  It works for the most part, but it is insanely...   \n",
       "3    5 星         Yad Wiso  It is amazing. It always works for me. But the...   \n",
       "4    1 星      Mike Leslie  Can't get any of the rewards ever. It will not...   \n",
       "..   ...              ...                                                ...   \n",
       "212  1 星   Connor Johnson  Annoying pop ups EVERYTIME I try to quickly lo...   \n",
       "213  5 星  Madeleine Kuras  Great for finding discounts and receiving vouc...   \n",
       "214  5 星      Hasan Yavuz  veryyyyyyyyyyyyyyyyyyyyyyyyyyyyyyyyyyyyyyyyyyy...   \n",
       "215  5 星    - “‪Minto‬” -                          seems to work pretty good   \n",
       "216  5 星      Nanak Singh  It worked but sometimes it doesn't otherwise S...   \n",
       "\n",
       "    comment_time  \n",
       "0     2024-03-24  \n",
       "1     2024-03-24  \n",
       "2     2024-03-23  \n",
       "3     2024-03-23  \n",
       "4     2024-03-23  \n",
       "..           ...  \n",
       "212   2023-12-17  \n",
       "213   2023-12-16  \n",
       "214   2023-12-16  \n",
       "215   2023-12-16  \n",
       "216   2023-12-16  \n",
       "\n",
       "[217 rows x 4 columns]"
      ]
     },
     "execution_count": 36,
     "metadata": {},
     "output_type": "execute_result"
    }
   ],
   "source": [
    "comment_output[comment_output[\"comment_time\"]>\"2023-12-15\"]"
   ]
  },
  {
   "cell_type": "code",
   "execution_count": 34,
   "id": "692ebeef",
   "metadata": {
    "ExecuteTime": {
     "end_time": "2024-03-24T22:32:07.671431Z",
     "start_time": "2024-03-24T22:32:07.561870Z"
    }
   },
   "outputs": [
    {
     "data": {
      "text/plain": [
       "<Axes: xlabel='comment_time'>"
      ]
     },
     "execution_count": 34,
     "metadata": {},
     "output_type": "execute_result"
    },
    {
     "data": {
      "image/png": "[encoded data removed]",
      "text/plain": [
       "<Figure size 640x480 with 1 Axes>"
      ]
     },
     "metadata": {},
     "output_type": "display_data"
    }
   ],
   "source": [
    "comment_output.groupby(by=\"comment_time\").count().plot()"
   ]
  },
  {
   "cell_type": "code",
   "execution_count": 29,
   "id": "d330986b",
   "metadata": {
    "ExecuteTime": {
     "end_time": "2024-03-24T14:38:07.434877Z",
     "start_time": "2024-03-24T14:38:07.145215Z"
    }
   },
   "outputs": [
    {
     "data": {
      "text/plain": [
       "38"
      ]
     },
     "execution_count": 29,
     "metadata": {},
     "output_type": "execute_result"
    }
   ],
   "source": [
    "len(response.find_all(\"section\",attrs={\"class\":\"T7rvce\"})[0].find_all())"
   ]
  },
  {
   "cell_type": "code",
   "execution_count": 17,
   "id": "7122ebda",
   "metadata": {
    "ExecuteTime": {
     "end_time": "2024-03-24T14:54:52.361477Z",
     "start_time": "2024-03-24T14:54:52.352455Z"
    }
   },
   "outputs": [
    {
     "data": {
      "text/plain": [
       "0       2024-03-24\n",
       "1       2024-03-24\n",
       "2       2024-03-23\n",
       "3       2024-03-23\n",
       "4       2024-03-23\n",
       "           ...    \n",
       "14485   2020-03-04\n",
       "14486   2020-03-04\n",
       "14487   2020-03-04\n",
       "14488   2020-03-04\n",
       "14489   2020-03-04\n",
       "Name: comment_time, Length: 14490, dtype: datetime64[ns]"
      ]
     },
     "execution_count": 17,
     "metadata": {},
     "output_type": "execute_result"
    }
   ],
   "source": [
    "pd.to_datetime(comment_output[\"comment_time\"],format=\"%Y年%m月%d日\")"
   ]
  },
  {
   "cell_type": "code",
   "execution_count": 66,
   "id": "096d7e39-b89c-4e54-9a24-753fa28f4d57",
   "metadata": {},
   "outputs": [
    {
     "data": {
      "text/plain": [
       "[{'domain': '.moz.com',\n",
       "  'expiry': 1743781999,\n",
       "  'httpOnly': False,\n",
       "  'name': 'OptanonConsent',\n",
       "  'path': '/',\n",
       "  'sameSite': 'Lax',\n",
       "  'secure': False,\n",
       "  'value': 'isGpcEnabled=0&datestamp=Thu+Apr+04+2024+23%3A53%3A19+GMT%2B0800+(%E4%B8%AD%E5%9B%BD%E6%A0%87%E5%87%86%E6%97%B6%E9%97%B4)&version=202403.1.0&browserGpcFlag=0&isIABGlobal=false&hosts=&consentId=3b3f40f5-1de1-4750-9b5b-a62646782b23&interactionCount=1&isAnonUser=1&landingPath=NotLandingPage&GPPCookiesCount=1&groups=C0001%3A1%2CC0002%3A1%2CC0003%3A1%2COSSTA_BG%3A1%2CC0004%3A1%2CC0005%3A1&genVendors=&AwaitingReconsent=false'},\n",
       " {'domain': '.moz.com',\n",
       "  'expiry': 1745941998,\n",
       "  'httpOnly': False,\n",
       "  'name': '_uetvid',\n",
       "  'path': '/',\n",
       "  'sameSite': 'Lax',\n",
       "  'secure': False,\n",
       "  'value': '22332bb0f29b11ee99775347ee8480e5'},\n",
       " {'domain': '.moz.com',\n",
       "  'expiry': 1746805998,\n",
       "  'httpOnly': False,\n",
       "  'name': '_ga',\n",
       "  'path': '/',\n",
       "  'sameSite': 'Lax',\n",
       "  'secure': False,\n",
       "  'value': 'GA1.1.819363849.1712245860'},\n",
       " {'domain': '.moz.com',\n",
       "  'expiry': 1746805998,\n",
       "  'httpOnly': False,\n",
       "  'name': '_ga_DS7K9Q3S5W',\n",
       "  'path': '/',\n",
       "  'sameSite': 'Lax',\n",
       "  'secure': False,\n",
       "  'value': 'GS1.1.1712245860.1.1.1712245998.0.0.0'},\n",
       " {'domain': '.moz.com',\n",
       "  'expiry': 1743781999,\n",
       "  'httpOnly': False,\n",
       "  'name': '__stripe_mid',\n",
       "  'path': '/',\n",
       "  'sameSite': 'Strict',\n",
       "  'secure': True,\n",
       "  'value': 'b7efb04e-bbd7-4cc5-afd1-c28d7e8984316b517a'},\n",
       " {'domain': '.moz.com',\n",
       "  'expiry': 1712246058,\n",
       "  'httpOnly': False,\n",
       "  'name': '_gat_UA-1870679-27',\n",
       "  'path': '/',\n",
       "  'sameSite': 'Lax',\n",
       "  'secure': False,\n",
       "  'value': '1'},\n",
       " {'domain': '.moz.com',\n",
       "  'expiry': 1712246058,\n",
       "  'httpOnly': False,\n",
       "  'name': '_gat_UA-1870679-33',\n",
       "  'path': '/',\n",
       "  'sameSite': 'Lax',\n",
       "  'secure': False,\n",
       "  'value': '1'},\n",
       " {'domain': '.moz.com',\n",
       "  'expiry': 1746805997,\n",
       "  'httpOnly': False,\n",
       "  'name': '_ga_LGQZKGRBE5',\n",
       "  'path': '/',\n",
       "  'sameSite': 'Lax',\n",
       "  'secure': False,\n",
       "  'value': 'GS1.1.1712245860.1.1.1712245997.60.0.0'},\n",
       " {'domain': '.moz.com',\n",
       "  'expiry': 1720021997,\n",
       "  'httpOnly': False,\n",
       "  'name': '_rdt_uuid',\n",
       "  'path': '/',\n",
       "  'sameSite': 'Strict',\n",
       "  'secure': True,\n",
       "  'value': '1712245884948.9b826995-7805-4a23-afaa-7d0a76c1d3a6'},\n",
       " {'domain': '.moz.com',\n",
       "  'expiry': 1712247798,\n",
       "  'httpOnly': False,\n",
       "  'name': '__hssc',\n",
       "  'path': '/',\n",
       "  'sameSite': 'Lax',\n",
       "  'secure': False,\n",
       "  'value': '181959355.3.1712245861475'},\n",
       " {'domain': '.moz.com',\n",
       "  'expiry': 1712246057,\n",
       "  'httpOnly': False,\n",
       "  'name': '_gat',\n",
       "  'path': '/',\n",
       "  'sameSite': 'Lax',\n",
       "  'secure': False,\n",
       "  'value': '1'},\n",
       " {'domain': '.moz.com',\n",
       "  'expiry': 1743781997,\n",
       "  'httpOnly': False,\n",
       "  'name': 'ajs_user_id',\n",
       "  'path': '/',\n",
       "  'sameSite': 'Lax',\n",
       "  'secure': False,\n",
       "  'value': '13836265'},\n",
       " {'domain': '.moz.com',\n",
       "  'expiry': 1746805883,\n",
       "  'httpOnly': False,\n",
       "  'name': '_ga_QLCPR2NDVP',\n",
       "  'path': '/',\n",
       "  'sameSite': 'Lax',\n",
       "  'secure': False,\n",
       "  'value': 'GS1.1.1712245860.1.0.1712245883.0.0.0'},\n",
       " {'domain': '.moz.com',\n",
       "  'expiry': 1727797998,\n",
       "  'httpOnly': False,\n",
       "  'name': 'hubspotutk',\n",
       "  'path': '/',\n",
       "  'sameSite': 'Lax',\n",
       "  'secure': False,\n",
       "  'value': '5edbff8c77cf4c5d746629cc76f4ec0c'},\n",
       " {'domain': '.moz.com',\n",
       "  'expiry': 1712850682,\n",
       "  'httpOnly': True,\n",
       "  'name': 'mozauth',\n",
       "  'path': '/',\n",
       "  'sameSite': 'Lax',\n",
       "  'secure': True,\n",
       "  'value': 'hT57PwErBvcwWZFkuiniegzGaEZndOS6vMZI7v5dOPakizc2xl73ar7rjZL1YHv3'},\n",
       " {'domain': 'moz.com',\n",
       "  'httpOnly': False,\n",
       "  'name': 'usprivacy',\n",
       "  'path': '/',\n",
       "  'sameSite': 'Lax',\n",
       "  'secure': False,\n",
       "  'value': '1YNY'},\n",
       " {'domain': '.moz.com',\n",
       "  'expiry': 1720021863,\n",
       "  'httpOnly': False,\n",
       "  'name': '_gcl_au',\n",
       "  'path': '/',\n",
       "  'sameSite': 'Lax',\n",
       "  'secure': False,\n",
       "  'value': '1.1.1932272371.1712245863'},\n",
       " {'domain': '.moz.com',\n",
       "  'expiry': 1727797998,\n",
       "  'httpOnly': False,\n",
       "  'name': '__hstc',\n",
       "  'path': '/',\n",
       "  'sameSite': 'Lax',\n",
       "  'secure': False,\n",
       "  'value': '181959355.5edbff8c77cf4c5d746629cc76f4ec0c.1712245861475.1712245861475.1712245861475.1'},\n",
       " {'domain': '.moz.com',\n",
       "  'expiry': 1743781999,\n",
       "  'httpOnly': False,\n",
       "  'name': 'OTGPPConsent',\n",
       "  'path': '/',\n",
       "  'sameSite': 'Lax',\n",
       "  'secure': False,\n",
       "  'value': 'DBABLA~BVQqAAAACgA.QA'},\n",
       " {'domain': '.moz.com',\n",
       "  'expiry': 1712247799,\n",
       "  'httpOnly': False,\n",
       "  'name': '__stripe_sid',\n",
       "  'path': '/',\n",
       "  'sameSite': 'Strict',\n",
       "  'secure': True,\n",
       "  'value': '30ccfc9e-b504-4a47-8ae4-7565781882b70f91aa'},\n",
       " {'domain': '.moz.com',\n",
       "  'expiry': 1743781854,\n",
       "  'httpOnly': True,\n",
       "  'name': 'cf_clearance',\n",
       "  'path': '/',\n",
       "  'sameSite': 'None',\n",
       "  'secure': True,\n",
       "  'value': 'REkjQfOh.q.qWPJ_YTK_4YGQMfKapPpJzI.bZkOxQxY-1712245857-1.0.1.1-rltGimFSM1.tNhY7p_iTFJxF1qcFeg3Bt91GavI4mPlyzdojN6X8KYaHPB2bGnivIyTmcz_HmjJhNqh48kopLA'},\n",
       " {'domain': '.moz.com',\n",
       "  'expiry': 1712332398,\n",
       "  'httpOnly': False,\n",
       "  'name': '_gid',\n",
       "  'path': '/',\n",
       "  'sameSite': 'Lax',\n",
       "  'secure': False,\n",
       "  'value': 'GA1.2.422163373.1712245860'},\n",
       " {'domain': '.moz.com',\n",
       "  'httpOnly': False,\n",
       "  'name': '__hssrc',\n",
       "  'path': '/',\n",
       "  'sameSite': 'Lax',\n",
       "  'secure': False,\n",
       "  'value': '1'},\n",
       " {'domain': '.moz.com',\n",
       "  'expiry': 1720021880,\n",
       "  'httpOnly': False,\n",
       "  'name': '_fbp',\n",
       "  'path': '/',\n",
       "  'sameSite': 'Lax',\n",
       "  'secure': False,\n",
       "  'value': 'fb.1.1712245862333.1743310989'},\n",
       " {'domain': '.moz.com',\n",
       "  'expiry': 1743781997,\n",
       "  'httpOnly': False,\n",
       "  'name': 'ajs_group_id',\n",
       "  'path': '/',\n",
       "  'sameSite': 'Lax',\n",
       "  'secure': False,\n",
       "  'value': '15846587'},\n",
       " {'domain': '.moz.com',\n",
       "  'expiry': 1715845853,\n",
       "  'httpOnly': True,\n",
       "  'name': '_moz_csrf',\n",
       "  'path': '/',\n",
       "  'sameSite': 'Strict',\n",
       "  'secure': True,\n",
       "  'value': 'c2070dca158072a7bb53c3bbaccf2368939f9969'},\n",
       " {'domain': '.moz.com',\n",
       "  'expiry': 1743781997,\n",
       "  'httpOnly': False,\n",
       "  'name': 'ajs_anonymous_id',\n",
       "  'path': '/',\n",
       "  'sameSite': 'Lax',\n",
       "  'secure': False,\n",
       "  'value': '501b2850-cde7-469d-80d0-bdc6c5b7a4b5'},\n",
       " {'domain': '.moz.com',\n",
       "  'expiry': 1712332398,\n",
       "  'httpOnly': False,\n",
       "  'name': '_uetsid',\n",
       "  'path': '/',\n",
       "  'sameSite': 'Lax',\n",
       "  'secure': False,\n",
       "  'value': '2232fb60f29b11ee9720dbe3015e694e'},\n",
       " {'domain': '.moz.com',\n",
       "  'expiry': 1712247653,\n",
       "  'httpOnly': True,\n",
       "  'name': '__cf_bm',\n",
       "  'path': '/',\n",
       "  'sameSite': 'None',\n",
       "  'secure': True,\n",
       "  'value': 'BPLnNtWbrcl1Fo4GspytsHEUs2yf_P8kVfnSO9Qbyh4-1712245856-1.0.1.1-grYq7fXKNWxeCg_onDK01IpCWwa1qb61I3SM9c1PguxLMT52_HaQNKs0rMq0_yfNM4cz9oTTjN5Xd8qPV8kKHA'}]"
      ]
     },
     "execution_count": 66,
     "metadata": {},
     "output_type": "execute_result"
    }
   ],
   "source": [
    "cookies"
   ]
  },
  {
   "cell_type": "code",
   "execution_count": 74,
   "id": "aed204c9-f348-4d96-9d04-e66652e32a6f",
   "metadata": {},
   "outputs": [],
   "source": [
    "post_cookie = \"\"\n",
    "for cookie in cookies:\n",
    "    post_cookie+=cookie[\"name\"]\n",
    "    post_cookie+=\"=\"\n",
    "    post_cookie+=cookie[\"value\"]\n",
    "    post_cookie+=\";\""
   ]
  },
  {
   "cell_type": "code",
   "execution_count": 71,
   "id": "c64c2db6-6770-47c6-87b8-8145286458d4",
   "metadata": {},
   "outputs": [
    {
     "data": {
      "text/plain": [
       "'OptanonConsent:isGpcEnabled=0&datestamp=Thu+Apr+04+2024+23%3A53%3A19+GMT%2B0800+(%E4%B8%AD%E5%9B%BD%E6%A0%87%E5%87%86%E6%97%B6%E9%97%B4)&version=202403.1.0&browserGpcFlag=0&isIABGlobal=false&hosts=&consentId=3b3f40f5-1de1-4750-9b5b-a62646782b23&interactionCount=1&isAnonUser=1&landingPath=NotLandingPage&GPPCookiesCount=1&groups=C0001%3A1%2CC0002%3A1%2CC0003%3A1%2COSSTA_BG%3A1%2CC0004%3A1%2CC0005%3A1&genVendors=&AwaitingReconsent=false;_uetvid:22332bb0f29b11ee99775347ee8480e5;_ga:GA1.1.819363849.1712245860;_ga_DS7K9Q3S5W:GS1.1.1712245860.1.1.1712245998.0.0.0;__stripe_mid:b7efb04e-bbd7-4cc5-afd1-c28d7e8984316b517a;_gat_UA-1870679-27:1;_gat_UA-1870679-33:1;_ga_LGQZKGRBE5:GS1.1.1712245860.1.1.1712245997.60.0.0;_rdt_uuid:1712245884948.9b826995-7805-4a23-afaa-7d0a76c1d3a6;__hssc:181959355.3.1712245861475;_gat:1;ajs_user_id:13836265;_ga_QLCPR2NDVP:GS1.1.1712245860.1.0.1712245883.0.0.0;hubspotutk:5edbff8c77cf4c5d746629cc76f4ec0c;mozauth:hT57PwErBvcwWZFkuiniegzGaEZndOS6vMZI7v5dOPakizc2xl73ar7rjZL1YHv3;usprivacy:1YNY;_gcl_au:1.1.1932272371.1712245863;__hstc:181959355.5edbff8c77cf4c5d746629cc76f4ec0c.1712245861475.1712245861475.1712245861475.1;OTGPPConsent:DBABLA~BVQqAAAACgA.QA;__stripe_sid:30ccfc9e-b504-4a47-8ae4-7565781882b70f91aa;cf_clearance:REkjQfOh.q.qWPJ_YTK_4YGQMfKapPpJzI.bZkOxQxY-1712245857-1.0.1.1-rltGimFSM1.tNhY7p_iTFJxF1qcFeg3Bt91GavI4mPlyzdojN6X8KYaHPB2bGnivIyTmcz_HmjJhNqh48kopLA;_gid:GA1.2.422163373.1712245860;__hssrc:1;_fbp:fb.1.1712245862333.1743310989;ajs_group_id:15846587;_moz_csrf:c2070dca158072a7bb53c3bbaccf2368939f9969;ajs_anonymous_id:501b2850-cde7-469d-80d0-bdc6c5b7a4b5;_uetsid:2232fb60f29b11ee9720dbe3015e694e;__cf_bm:BPLnNtWbrcl1Fo4GspytsHEUs2yf_P8kVfnSO9Qbyh4-1712245856-1.0.1.1-grYq7fXKNWxeCg_onDK01IpCWwa1qb61I3SM9c1PguxLMT52_HaQNKs0rMq0_yfNM4cz9oTTjN5Xd8qPV8kKHA;'"
      ]
     },
     "execution_count": 71,
     "metadata": {},
     "output_type": "execute_result"
    }
   ],
   "source": [
    "post_cookie"
   ]
  },
  {
   "cell_type": "code",
   "execution_count": 85,
   "id": "7e64119a-5887-4126-b804-d670cdb3d4da",
   "metadata": {},
   "outputs": [
    {
     "name": "stdout",
     "output_type": "stream",
     "text": [
      "{\"id\":\"b76f12fe-5e86-4921-962f-6b10bc28779e\",\"jsonrpc\":\"2.0\",\"result\":{\"quota\":{\"path\":\"search.limits.research.domain_overview\",\"account_id\":15846587,\"allotted\":100,\"used\":18,\"reset\":\"month\",\"report\":\"day\",\"overage\":false,\"period_start\":1711954800,\"period_reset\":1714546800,\"usage_key\":\"{\\\"target\\\":{\\\"query\\\":\\\"https://couponbirds.com\\\",\\\"scope\\\":\\\"domain\\\",\\\"locale\\\":\\\"en-US\\\"},\\\"competitors\\\":[]}\",\"usage_value\":1,\"usage_action\":\"app\"},\"target\":{\"query\":\"couponbirds.com\",\"scope\":\"domain\",\"locale\":\"en-US\",\"parsed_query\":\"https://couponbirds.com\",\"suggestion\":null},\"competitors\":[],\"async_calls\":{\"DomainOverviewUrlMetricsSummaryFetch\":{\"id\":\"1efd8dee-060b-4803-9200-c7ac8666928c\",\"action\":\"DomainOverviewUrlMetricsSummaryFetch\",\"status\":\"pending\",\"ttl\":120,\"result\":\"null\",\"error\":\"null\"},\"DomainOverviewBrandAuthorityFetch\":{\"id\":\"0616ac07-bf47-4d1a-9749-cd8f25ec7b19\",\"created_at\":1712250998625,\"action\":\"DomainOverviewBrandAuthorityFetch\",\"status\":\"complete\",\"payload\":\"{\\\"auth\\\":{\\\"session_id\\\":\\\"hT57PwErBvcwWZFkuiniegzGaEZndOS6vMZI7v5dOPakizc2xl73ar7rjZL1YHv3\\\"},\\\"data\\\":{\\\"target\\\":{\\\"query\\\":\\\"https://couponbirds.com\\\",\\\"scope\\\":\\\"domain\\\",\\\"locale\\\":\\\"en-US\\\"},\\\"async_force_call\\\":true}}\",\"result\":{\"brand_authority_score\":32,\"target\":{\"query\":\"https://couponbirds.com\",\"scope\":\"domain\",\"locale\":\"en-US\",\"parsed_query\":\"https://couponbirds.com\",\"suggestion\":null}},\"error\":\"null\",\"ttl\":120,\"job_ids\":[]},\"DomainOverviewRankingsCountSummaryFetch\":{\"id\":\"4b6abbd8-e6d2-4cde-a68e-5012001c7fe0\",\"action\":\"DomainOverviewRankingsCountSummaryFetch\",\"status\":\"pending\",\"ttl\":120,\"result\":\"null\",\"error\":\"null\"},\"DomainOverviewRankingKeywordsSummaryFetch\":{\"id\":\"28c3ff2b-32da-4ca0-8d95-182f15bac063\",\"action\":\"DomainOverviewRankingKeywordsSummaryFetch\",\"status\":\"pending\",\"ttl\":120,\"result\":\"null\",\"error\":\"null\"},\"DomainOverviewCompetitorSummaryFetch\":{\"id\":\"47dedf1b-7710-4569-8531-2835a50c77be\",\"action\":\"DomainOverviewCompetitorSummaryFetch\",\"status\":\"pending\",\"ttl\":120,\"result\":\"null\",\"error\":\"null\"},\"DomainOverviewLinksSummaryFetch\":{\"id\":\"4abfe091-6514-4ffb-9efc-8d398b5d4994\",\"action\":\"DomainOverviewLinksSummaryFetch\",\"status\":\"pending\",\"ttl\":120,\"result\":\"null\",\"error\":\"null\"},\"DomainOverviewSiteSleuthFetch\":{\"id\":\"bed6b334-947d-4cd0-a65a-a8b9040699a7\",\"created_at\":1712250998679,\"action\":\"DomainOverviewSiteSleuthFetch\",\"status\":\"complete\",\"payload\":\"{\\\"auth\\\":{\\\"session_id\\\":\\\"hT57PwErBvcwWZFkuiniegzGaEZndOS6vMZI7v5dOPakizc2xl73ar7rjZL1YHv3\\\"},\\\"data\\\":{\\\"target\\\":{\\\"query\\\":\\\"https://couponbirds.com\\\",\\\"scope\\\":\\\"domain\\\",\\\"locale\\\":\\\"en-US\\\"},\\\"async_force_call\\\":true}}\",\"result\":{\"site_sleuth_theme\":\"Online Coupons\",\"site_sleuth_topics\":[\"Promo codes\",\"Discount codes\",\"Coupon codes\",\"Special offers\",\"Savings opportunities\"],\"target\":{\"query\":\"https://couponbirds.com\",\"scope\":\"domain\",\"locale\":\"en-US\",\"parsed_query\":\"https://couponbirds.com\",\"suggestion\":null}},\"error\":\"null\",\"ttl\":120,\"job_ids\":[]}}}}\n"
     ]
    }
   ],
   "source": [
    "import http.client\n",
    "import json\n",
    "\n",
    "conn = http.client.HTTPSConnection(\"app.moz.com\")\n",
    "payload = json.dumps({\n",
    "   \"id\": \"b76f12fe-5e86-4921-962f-6b10bc28779e\",\n",
    "   \"jsonrpc\": \"2.0\",\n",
    "   \"method\": \"domain.overview.fetch\",\n",
    "   \"params\": {\n",
    "      \"data\": {\n",
    "         \"target\": {\n",
    "            \"query\": \"couponbirds.com\",\n",
    "            \"scope\": \"domain\",\n",
    "            \"locale\": \"en-US\"\n",
    "         }\n",
    "      }\n",
    "   }\n",
    "})\n",
    "headers = {\n",
    "   'User-Agent': 'Apifox/1.0.0 (https://apifox.com)',\n",
    "   'Content-Type': 'application/json',\n",
    "   'Accept': '*/*',\n",
    "   'Host': 'app.moz.com',\n",
    "   'Connection': 'keep-alive',\n",
    "   'Cookie': f'{post_cookie}'\n",
    "}\n",
    "conn.request(\"POST\", \"/app-api/jsonrpc\", payload, headers)\n",
    "res = conn.getresponse()\n",
    "data = res.read()\n",
    "print(data.decode(\"utf-8\"))"
   ]
  },
  {
   "cell_type": "code",
   "execution_count": 93,
   "id": "9fd90121-7504-4a02-9ce5-253ebd5b206f",
   "metadata": {},
   "outputs": [
    {
     "name": "stdout",
     "output_type": "stream",
     "text": [
      "{\"id\":\"b76f12fe-5e86-4921-962f-6b10bc28779e\",\"jsonrpc\":\"2.0\",\"error\":{\"code\":-32655,\"status\":404,\"data\":{},\"message\":\"Call was not found.\"}}\n"
     ]
    }
   ],
   "source": [
    "import http.client\n",
    "import json\n",
    "\n",
    "conn = http.client.HTTPSConnection(\"app.moz.com\")\n",
    "payload = json.dumps({\"id\":\"b76f12fe-5e86-4921-962f-6b10bc28779e\",\n",
    "                      \"jsonrpc\":\"2.0\",\"method\":\"async.call.lookup\",\n",
    "                      \"params\":\n",
    "                      {\"data\":\n",
    "                       {\"id\":\"28c3ff2b-32da-4ca0-8d95-182f15bac063\"}}})\n",
    "headers = {\n",
    "   'User-Agent': 'Apifox/1.0.0 (https://apifox.com)',\n",
    "   'Content-Type': 'application/json',\n",
    "   'Accept': '*/*',\n",
    "   'Host': 'app.moz.com',\n",
    "   'Connection': 'keep-alive',\n",
    "   'Cookie': f'{post_cookie}'\n",
    "}\n",
    "conn.request(\"POST\", \"/app-api/jsonrpc\", payload, headers)\n",
    "res = conn.getresponse()\n",
    "data = res.read()\n",
    "print(data.decode(\"utf-8\"))"
   ]
  }
 ],
 "metadata": {
  "kernelspec": {
   "display_name": "Python 3 (ipykernel)",
   "language": "python",
   "name": "python3"
  },
  "language_info": {
   "codemirror_mode": {
    "name": "ipython",
    "version": 3
   },
   "file_extension": ".py",
   "mimetype": "text/x-python",
   "name": "python",
   "nbconvert_exporter": "python",
   "pygments_lexer": "ipython3",
   "version": "3.11.5"
  }
 },
 "nbformat": 4,
 "nbformat_minor": 5
}
