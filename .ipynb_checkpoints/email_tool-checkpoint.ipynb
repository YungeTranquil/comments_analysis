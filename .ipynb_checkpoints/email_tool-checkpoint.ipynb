{
 "cells": [
  {
   "cell_type": "code",
   "execution_count": 37,
   "id": "93a12d15-2b2b-4f00-bf42-14b458a80207",
   "metadata": {},
   "outputs": [
    {
     "name": "stdout",
     "output_type": "stream",
     "text": [
      "Done\n"
     ]
    }
   ],
   "source": [
    "import smtplib\n",
    "from email.mime.multipart import MIMEMultipart\n",
    "from email.mime.text import MIMEText\n",
    "\n",
    "def send_html_email(host, port, username, password, sender, recipient, subject, html_content):\n",
    "    \"\"\"\n",
    "    发送 HTML 邮件。\n",
    "\n",
    "    参数:\n",
    "    host (str): SMTP 服务器地址。\n",
    "    port (int): SMTP 服务器端口。\n",
    "    username (str): SMTP 服务器的用户名。\n",
    "    password (str): SMTP 服务器的密码。\n",
    "    sender (str): 发件人邮箱地址。\n",
    "    recipient (str): 收件人邮箱地址。\n",
    "    subject (str): 邮件主题。\n",
    "    html_content (str): HTML 格式的邮件内容。\n",
    "    \"\"\"\n",
    "\n",
    "    # 创建 MIME 对象\n",
    "    msg = MIMEMultipart()\n",
    "    msg['From'] = sender\n",
    "    msg['To'] = recipient\n",
    "    msg['Subject'] = subject\n",
    "\n",
    "    # 添加 HTML 内容\n",
    "    msg.attach(MIMEText(html_content, 'html'))\n",
    "\n",
    "    try:\n",
    "        # 连接到 SMTP 服务器\n",
    "        with smtplib.SMTP(host, port) as server:\n",
    "            server.starttls()  # 启用安全传输\n",
    "            server.login(username, password)  # 登录认证\n",
    "            server.sendmail(sender, recipient, msg.as_string())  # 发送邮件\n",
    "            print(\"Done\")\n",
    "    except Exception as e:\n",
    "        print(f\"Exception: {e}\")\n",
    "\n",
    "# 使用示例\n",
    "smtp_host = 'smtp.163.com'  # SMTP 服务器地址\n",
    "smtp_port = 25                 # SMTP 服务器端口，通常是 587 或 465\n",
    "smtp_username = '18621843082@163.com'  # 你的 SMTP 用户名\n",
    "smtp_password = 'OOFAWXHBTGTXKIER'              # 你的 SMTP 密码\n",
    "sender_email = '18621843082@163.com'      # 你的邮箱地址\n",
    "recipient_email = 'wangzhiyi@tangtowns.com'    # 收件人邮箱地址\n",
    "email_subject = 'Yunge Mail Test'          # 邮件主题\n",
    "html_content = '''\n",
    "<html>\n",
    "<p>测试脚本</p>\n",
    "<p>Hey Whizy,</p>\n",
    "\n",
    "<p>I am Sherry, contacting you from <a href=\"https://www.couponbirds.com/research?utm_source=mail&utm_campaign=se03\">CouponBirds Research</a>.</p>\n",
    "\n",
    "<p>I came across your article <em>\"Going shopping\" is dead How stores sucked the fun out of an American pastime</em> published on <b>08/22/2023</b>, and I echo your comments on \"Dwell time understandably hinges on how pleasant the store experience is.\" Our team analyzed 190,000+ user feedback on coupon extensions from Chrome Web Store and found:\n",
    "<ul>\n",
    "    <li>User ratings have experienced a slight decline over the years, dropping from <b>4.9</b> stars in 2018 to <b>4.7</b> stars in 2024.</li>\n",
    "    <li>There has been an increase in the percentage of negative reviews, growing from <b>1.2%</b> in 2018 to <b>8%</b> in 2024.</li>\n",
    "    <li>Consumer expectations are rising as the share of negative reviews has risen from about <b>20%</b> in 2018 to <b>40%</b> in 2024 among comments about pop-ups.</li></p>\n",
    "</ul>\n",
    "<p>Here is the link to our study and infographic: <a href=\"https://www.couponbirds.com/research/coupon-extensions-save-money\">Saving Money: The Continued Benefits of Coupons in 2024</a>.</p>\n",
    "\n",
    "<p>If you believe Vox's readers will like to see them as well, inform me and I will provide raw data and high-resolution infographics upon request. </p>\n",
    "\n",
    "<p>Best,\n",
    "<br><b>Sherry Lynn</b>\n",
    "<br>Public Relations Specialist\n",
    "<br><a href=\"http://www.couponbirds.com\">www.couponbirds.com</a></p>\n",
    "\n",
    "</html>\n",
    "'''  # HTML 邮件内容\n",
    "\n",
    "send_html_email(smtp_host, smtp_port, smtp_username, smtp_password, sender_email, recipient_email, email_subject, html_content)\n"
   ]
  }
 ],
 "metadata": {
  "kernelspec": {
   "display_name": "Python 3 (ipykernel)",
   "language": "python",
   "name": "python3"
  },
  "language_info": {
   "codemirror_mode": {
    "name": "ipython",
    "version": 3
   },
   "file_extension": ".py",
   "mimetype": "text/x-python",
   "name": "python",
   "nbconvert_exporter": "python",
   "pygments_lexer": "ipython3",
   "version": "3.11.5"
  }
 },
 "nbformat": 4,
 "nbformat_minor": 5
}
